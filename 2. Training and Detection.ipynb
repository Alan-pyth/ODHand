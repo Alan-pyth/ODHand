{
 "cells": [
  {
   "cell_type": "markdown",
   "metadata": {
    "id": "QUANWN3rpfC9"
   },
   "source": [
    "# 0. Setup Paths"
   ]
  },
  {
   "cell_type": "code",
   "execution_count": 1,
   "metadata": {
    "id": "146BB11JpfDA"
   },
   "outputs": [],
   "source": [
    "import os"
   ]
  },
  {
   "cell_type": "code",
   "execution_count": 2,
   "metadata": {
    "id": "42hJEdo_pfDB"
   },
   "outputs": [],
   "source": [
    "CUSTOM_MODEL_NAME = 'my_ssd_mobnet_tuned' \n",
    "PRETRAINED_MODEL_NAME = 'ssd_mobilenet_v2_fpnlite_320x320_coco17_tpu-8'\n",
    "PRETRAINED_MODEL_URL = 'http://download.tensorflow.org/models/object_detection/tf2/20200711/ssd_mobilenet_v2_fpnlite_320x320_coco17_tpu-8.tar.gz'\n",
    "TF_RECORD_SCRIPT_NAME = 'generate_tfrecord.py'\n",
    "LABEL_MAP_NAME = 'label_map.pbtxt'"
   ]
  },
  {
   "cell_type": "code",
   "execution_count": 3,
   "metadata": {
    "id": "hbPhYVy_pfDB"
   },
   "outputs": [],
   "source": [
    "paths = {\n",
    "    'WORKSPACE_PATH': os.path.join('Tensorflow', 'workspace'),\n",
    "    'SCRIPTS_PATH': os.path.join('Tensorflow','scripts'),\n",
    "    'APIMODEL_PATH': os.path.join('Tensorflow','models'),\n",
    "    'ANNOTATION_PATH': os.path.join('Tensorflow', 'workspace','annotations'),\n",
    "    'IMAGE_PATH': os.path.join('Tensorflow', 'workspace','images'),\n",
    "    'MODEL_PATH': os.path.join('Tensorflow', 'workspace','models'),\n",
    "    'PRETRAINED_MODEL_PATH': os.path.join('Tensorflow', 'workspace','pre-trained-models'),\n",
    "    'CHECKPOINT_PATH': os.path.join('Tensorflow', 'workspace','models',CUSTOM_MODEL_NAME), \n",
    "    'OUTPUT_PATH': os.path.join('Tensorflow', 'workspace','models',CUSTOM_MODEL_NAME, 'export'), \n",
    "    'TFJS_PATH':os.path.join('Tensorflow', 'workspace','models',CUSTOM_MODEL_NAME, 'tfjsexport'), \n",
    "    'TFLITE_PATH':os.path.join('Tensorflow', 'workspace','models',CUSTOM_MODEL_NAME, 'tfliteexport'), \n",
    "    'PROTOC_PATH':os.path.join('Tensorflow','protoc')\n",
    " }"
   ]
  },
  {
   "cell_type": "code",
   "execution_count": 4,
   "metadata": {
    "id": "LwhWZMI0pfDC"
   },
   "outputs": [],
   "source": [
    "files = {\n",
    "    'PIPELINE_CONFIG':os.path.join('Tensorflow', 'workspace','models', CUSTOM_MODEL_NAME, 'pipeline.config'),\n",
    "    'TF_RECORD_SCRIPT': os.path.join(paths['SCRIPTS_PATH'], TF_RECORD_SCRIPT_NAME), \n",
    "    'LABELMAP': os.path.join(paths['ANNOTATION_PATH'], LABEL_MAP_NAME)\n",
    "}"
   ]
  },
  {
   "cell_type": "code",
   "execution_count": 5,
   "metadata": {
    "id": "HR-TfDGrpfDC"
   },
   "outputs": [],
   "source": [
    "for path in paths.values():\n",
    "    if not os.path.exists(path):\n",
    "        if os.name == 'posix':\n",
    "            !mkdir -p {path}\n",
    "        if os.name == 'nt':\n",
    "            !mkdir {path}"
   ]
  },
  {
   "cell_type": "code",
   "execution_count": 6,
   "metadata": {},
   "outputs": [
    {
     "data": {
      "text/plain": [
       "{'PIPELINE_CONFIG': 'Tensorflow/workspace/models/my_ssd_mobnet_tuned/pipeline.config',\n",
       " 'TF_RECORD_SCRIPT': 'Tensorflow/scripts/generate_tfrecord.py',\n",
       " 'LABELMAP': 'Tensorflow/workspace/annotations/label_map.pbtxt'}"
      ]
     },
     "execution_count": 6,
     "metadata": {},
     "output_type": "execute_result"
    }
   ],
   "source": [
    "files"
   ]
  },
  {
   "cell_type": "markdown",
   "metadata": {
    "id": "OLU-rs_ipfDE"
   },
   "source": [
    "# 1. Download TF Models Pretrained Models from Tensorflow Model Zoo and Install TFOD"
   ]
  },
  {
   "cell_type": "code",
   "execution_count": 7,
   "metadata": {},
   "outputs": [],
   "source": [
    "# https://www.tensorflow.org/install/source_windows"
   ]
  },
  {
   "cell_type": "code",
   "execution_count": 8,
   "metadata": {},
   "outputs": [
    {
     "data": {
      "text/plain": [
       "'posix'"
      ]
     },
     "execution_count": 8,
     "metadata": {},
     "output_type": "execute_result"
    }
   ],
   "source": [
    "os.name"
   ]
  },
  {
   "cell_type": "code",
   "execution_count": 9,
   "metadata": {
    "id": "K-Cmz2edpfDE",
    "scrolled": true
   },
   "outputs": [],
   "source": [
    "if os.name=='nt':\n",
    "    !pip install wget\n",
    "    import wget"
   ]
  },
  {
   "cell_type": "code",
   "execution_count": 10,
   "metadata": {
    "id": "iA1DIq5OpfDE"
   },
   "outputs": [],
   "source": [
    "if not os.path.exists(os.path.join(paths['APIMODEL_PATH'], 'research', 'object_detection')):\n",
    "    !git clone https://github.com/tensorflow/models {paths['APIMODEL_PATH']}"
   ]
  },
  {
   "cell_type": "code",
   "execution_count": 11,
   "metadata": {
    "id": "rJjMHbnDs3Tv"
   },
   "outputs": [
    {
     "name": "stdout",
     "output_type": "stream",
     "text": [
      "/bin/bash: apt-get: command not found\n",
      "Processing /Users/AlanZhu/Desktop/OD/TFODCourse/Tensorflow/models/research\n",
      "\u001b[33m  DEPRECATION: A future pip version will change local packages to be built in-place without first copying to a temporary directory. We recommend you use --use-feature=in-tree-build to test your packages with this new behavior before it becomes the default.\n",
      "   pip 21.3 will remove support for this functionality. You can find discussion regarding this at https://github.com/pypa/pip/issues/7555.\u001b[0m\n",
      "Requirement already satisfied: avro-python3 in /Users/AlanZhu/Desktop/OD/TFODCourse/tfod/lib/python3.7/site-packages (from object-detection==0.1) (1.9.1)\n",
      "Requirement already satisfied: apache-beam in /Users/AlanZhu/Desktop/OD/TFODCourse/tfod/lib/python3.7/site-packages (from object-detection==0.1) (2.30.0)\n",
      "Requirement already satisfied: pillow in /Users/AlanZhu/Desktop/OD/TFODCourse/tfod/lib/python3.7/site-packages (from object-detection==0.1) (8.2.0)\n",
      "Requirement already satisfied: lxml in /Users/AlanZhu/Desktop/OD/TFODCourse/tfod/lib/python3.7/site-packages (from object-detection==0.1) (4.6.3)\n",
      "Requirement already satisfied: matplotlib in /Users/AlanZhu/Desktop/OD/TFODCourse/tfod/lib/python3.7/site-packages (from object-detection==0.1) (3.2.0)\n",
      "Requirement already satisfied: Cython in /Users/AlanZhu/Desktop/OD/TFODCourse/tfod/lib/python3.7/site-packages (from object-detection==0.1) (0.29.23)\n",
      "Requirement already satisfied: contextlib2 in /Users/AlanZhu/Desktop/OD/TFODCourse/tfod/lib/python3.7/site-packages (from object-detection==0.1) (0.6.0.post1)\n",
      "Requirement already satisfied: tf-slim in /Users/AlanZhu/Desktop/OD/TFODCourse/tfod/lib/python3.7/site-packages (from object-detection==0.1) (1.1.0)\n",
      "Requirement already satisfied: six in /Users/AlanZhu/Desktop/OD/TFODCourse/tfod/lib/python3.7/site-packages (from object-detection==0.1) (1.15.0)\n",
      "Requirement already satisfied: pycocotools in /Users/AlanZhu/Desktop/OD/TFODCourse/tfod/lib/python3.7/site-packages (from object-detection==0.1) (2.0.2)\n",
      "Requirement already satisfied: lvis in /Users/AlanZhu/Desktop/OD/TFODCourse/tfod/lib/python3.7/site-packages (from object-detection==0.1) (0.5.3)\n",
      "Requirement already satisfied: scipy in /Users/AlanZhu/Desktop/OD/TFODCourse/tfod/lib/python3.7/site-packages (from object-detection==0.1) (1.6.3)\n",
      "Requirement already satisfied: pandas in /Users/AlanZhu/Desktop/OD/TFODCourse/tfod/lib/python3.7/site-packages (from object-detection==0.1) (1.2.4)\n",
      "Requirement already satisfied: tf-models-official in /Users/AlanZhu/Desktop/OD/TFODCourse/tfod/lib/python3.7/site-packages (from object-detection==0.1) (2.5.0)\n",
      "Requirement already satisfied: grpcio<2,>=1.29.0 in /Users/AlanZhu/Desktop/OD/TFODCourse/tfod/lib/python3.7/site-packages (from apache-beam->object-detection==0.1) (1.34.1)\n",
      "Requirement already satisfied: future<1.0.0,>=0.18.2 in /Users/AlanZhu/Desktop/OD/TFODCourse/tfod/lib/python3.7/site-packages (from apache-beam->object-detection==0.1) (0.18.2)\n",
      "Requirement already satisfied: pydot<2,>=1.2.0 in /Users/AlanZhu/Desktop/OD/TFODCourse/tfod/lib/python3.7/site-packages (from apache-beam->object-detection==0.1) (1.4.2)\n",
      "Requirement already satisfied: hdfs<3.0.0,>=2.1.0 in /Users/AlanZhu/Desktop/OD/TFODCourse/tfod/lib/python3.7/site-packages (from apache-beam->object-detection==0.1) (2.6.0)\n",
      "Requirement already satisfied: crcmod<2.0,>=1.7 in /Users/AlanZhu/Desktop/OD/TFODCourse/tfod/lib/python3.7/site-packages (from apache-beam->object-detection==0.1) (1.7)\n",
      "Requirement already satisfied: pymongo<4.0.0,>=3.8.0 in /Users/AlanZhu/Desktop/OD/TFODCourse/tfod/lib/python3.7/site-packages (from apache-beam->object-detection==0.1) (3.11.4)\n",
      "Requirement already satisfied: typing-extensions<3.8.0,>=3.7.0 in /Users/AlanZhu/Desktop/OD/TFODCourse/tfod/lib/python3.7/site-packages (from apache-beam->object-detection==0.1) (3.7.4.3)\n",
      "Requirement already satisfied: httplib2<0.20.0,>=0.8 in /Users/AlanZhu/Desktop/OD/TFODCourse/tfod/lib/python3.7/site-packages (from apache-beam->object-detection==0.1) (0.19.1)\n",
      "Requirement already satisfied: requests<3.0.0,>=2.24.0 in /Users/AlanZhu/Desktop/OD/TFODCourse/tfod/lib/python3.7/site-packages (from apache-beam->object-detection==0.1) (2.25.1)\n",
      "Requirement already satisfied: python-dateutil<3,>=2.8.0 in /Users/AlanZhu/Desktop/OD/TFODCourse/tfod/lib/python3.7/site-packages (from apache-beam->object-detection==0.1) (2.8.1)\n",
      "Requirement already satisfied: protobuf<4,>=3.12.2 in /Users/AlanZhu/Desktop/OD/TFODCourse/tfod/lib/python3.7/site-packages (from apache-beam->object-detection==0.1) (3.17.3)\n",
      "Requirement already satisfied: fastavro<2,>=0.21.4 in /Users/AlanZhu/Desktop/OD/TFODCourse/tfod/lib/python3.7/site-packages (from apache-beam->object-detection==0.1) (1.4.1)\n",
      "Requirement already satisfied: pyarrow<4.0.0,>=0.15.1 in /Users/AlanZhu/Desktop/OD/TFODCourse/tfod/lib/python3.7/site-packages (from apache-beam->object-detection==0.1) (3.0.0)\n",
      "Requirement already satisfied: pytz>=2018.3 in /Users/AlanZhu/Desktop/OD/TFODCourse/tfod/lib/python3.7/site-packages (from apache-beam->object-detection==0.1) (2021.1)\n",
      "Requirement already satisfied: dill<0.3.2,>=0.3.1.1 in /Users/AlanZhu/Desktop/OD/TFODCourse/tfod/lib/python3.7/site-packages (from apache-beam->object-detection==0.1) (0.3.1.1)\n",
      "Requirement already satisfied: numpy<1.21.0,>=1.14.3 in /Users/AlanZhu/Desktop/OD/TFODCourse/tfod/lib/python3.7/site-packages (from apache-beam->object-detection==0.1) (1.19.5)\n",
      "Requirement already satisfied: oauth2client<5,>=2.0.1 in /Users/AlanZhu/Desktop/OD/TFODCourse/tfod/lib/python3.7/site-packages (from apache-beam->object-detection==0.1) (4.1.3)\n",
      "Requirement already satisfied: docopt in /Users/AlanZhu/Desktop/OD/TFODCourse/tfod/lib/python3.7/site-packages (from hdfs<3.0.0,>=2.1.0->apache-beam->object-detection==0.1) (0.6.2)\n",
      "Requirement already satisfied: pyparsing<3,>=2.4.2 in /Users/AlanZhu/Desktop/OD/TFODCourse/tfod/lib/python3.7/site-packages (from httplib2<0.20.0,>=0.8->apache-beam->object-detection==0.1) (2.4.7)\n",
      "Requirement already satisfied: pyasn1>=0.1.7 in /Users/AlanZhu/Desktop/OD/TFODCourse/tfod/lib/python3.7/site-packages (from oauth2client<5,>=2.0.1->apache-beam->object-detection==0.1) (0.4.8)\n",
      "Requirement already satisfied: pyasn1-modules>=0.0.5 in /Users/AlanZhu/Desktop/OD/TFODCourse/tfod/lib/python3.7/site-packages (from oauth2client<5,>=2.0.1->apache-beam->object-detection==0.1) (0.2.8)\n",
      "Requirement already satisfied: rsa>=3.1.4 in /Users/AlanZhu/Desktop/OD/TFODCourse/tfod/lib/python3.7/site-packages (from oauth2client<5,>=2.0.1->apache-beam->object-detection==0.1) (4.7.2)\n",
      "Requirement already satisfied: urllib3<1.27,>=1.21.1 in /Users/AlanZhu/Desktop/OD/TFODCourse/tfod/lib/python3.7/site-packages (from requests<3.0.0,>=2.24.0->apache-beam->object-detection==0.1) (1.26.5)\n",
      "Requirement already satisfied: certifi>=2017.4.17 in /Users/AlanZhu/Desktop/OD/TFODCourse/tfod/lib/python3.7/site-packages (from requests<3.0.0,>=2.24.0->apache-beam->object-detection==0.1) (2021.5.30)\n",
      "Requirement already satisfied: chardet<5,>=3.0.2 in /Users/AlanZhu/Desktop/OD/TFODCourse/tfod/lib/python3.7/site-packages (from requests<3.0.0,>=2.24.0->apache-beam->object-detection==0.1) (4.0.0)\n",
      "Requirement already satisfied: idna<3,>=2.5 in /Users/AlanZhu/Desktop/OD/TFODCourse/tfod/lib/python3.7/site-packages (from requests<3.0.0,>=2.24.0->apache-beam->object-detection==0.1) (2.10)\n",
      "Requirement already satisfied: opencv-python>=4.1.0.25 in /Users/AlanZhu/Desktop/OD/TFODCourse/tfod/lib/python3.7/site-packages (from lvis->object-detection==0.1) (4.5.1.48)\n",
      "Requirement already satisfied: cycler>=0.10.0 in /Users/AlanZhu/Desktop/OD/TFODCourse/tfod/lib/python3.7/site-packages (from lvis->object-detection==0.1) (0.10.0)\n",
      "Requirement already satisfied: kiwisolver>=1.1.0 in /Users/AlanZhu/Desktop/OD/TFODCourse/tfod/lib/python3.7/site-packages (from lvis->object-detection==0.1) (1.3.1)\n",
      "Requirement already satisfied: setuptools>=18.0 in /Users/AlanZhu/Desktop/OD/TFODCourse/tfod/lib/python3.7/site-packages (from pycocotools->object-detection==0.1) (57.0.0)\n",
      "Requirement already satisfied: tensorflow-hub>=0.6.0 in /Users/AlanZhu/Desktop/OD/TFODCourse/tfod/lib/python3.7/site-packages (from tf-models-official->object-detection==0.1) (0.12.0)\n",
      "Requirement already satisfied: py-cpuinfo>=3.3.0 in /Users/AlanZhu/Desktop/OD/TFODCourse/tfod/lib/python3.7/site-packages (from tf-models-official->object-detection==0.1) (8.0.0)\n",
      "Requirement already satisfied: gin-config in /Users/AlanZhu/Desktop/OD/TFODCourse/tfod/lib/python3.7/site-packages (from tf-models-official->object-detection==0.1) (0.4.0)\n",
      "Requirement already satisfied: google-api-python-client>=1.6.7 in /Users/AlanZhu/Desktop/OD/TFODCourse/tfod/lib/python3.7/site-packages (from tf-models-official->object-detection==0.1) (2.8.0)\n",
      "Requirement already satisfied: sacrebleu in /Users/AlanZhu/Desktop/OD/TFODCourse/tfod/lib/python3.7/site-packages (from tf-models-official->object-detection==0.1) (1.5.1)\n",
      "Requirement already satisfied: pyyaml>=5.1 in /Users/AlanZhu/Desktop/OD/TFODCourse/tfod/lib/python3.7/site-packages (from tf-models-official->object-detection==0.1) (5.4.1)\n",
      "Requirement already satisfied: kaggle>=1.3.9 in /Users/AlanZhu/Desktop/OD/TFODCourse/tfod/lib/python3.7/site-packages (from tf-models-official->object-detection==0.1) (1.5.12)\n",
      "Requirement already satisfied: tensorflow>=2.5.0 in /Users/AlanZhu/Desktop/OD/TFODCourse/tfod/lib/python3.7/site-packages (from tf-models-official->object-detection==0.1) (2.5.0)\n",
      "Requirement already satisfied: tensorflow-addons in /Users/AlanZhu/Desktop/OD/TFODCourse/tfod/lib/python3.7/site-packages (from tf-models-official->object-detection==0.1) (0.13.0)\n",
      "Requirement already satisfied: google-cloud-bigquery>=0.31.0 in /Users/AlanZhu/Desktop/OD/TFODCourse/tfod/lib/python3.7/site-packages (from tf-models-official->object-detection==0.1) (2.20.0)\n"
     ]
    },
    {
     "name": "stdout",
     "output_type": "stream",
     "text": [
      "Collecting opencv-python-headless\n",
      "  Using cached opencv_python_headless-4.5.1.48-cp37-cp37m-macosx_10_13_x86_64.whl (40.3 MB)\n",
      "Requirement already satisfied: tensorflow-model-optimization>=0.4.1 in /Users/AlanZhu/Desktop/OD/TFODCourse/tfod/lib/python3.7/site-packages (from tf-models-official->object-detection==0.1) (0.5.0)\n",
      "Requirement already satisfied: psutil>=5.4.3 in /Users/AlanZhu/Desktop/OD/TFODCourse/tfod/lib/python3.7/site-packages (from tf-models-official->object-detection==0.1) (5.8.0)\n",
      "Requirement already satisfied: seqeval in /Users/AlanZhu/Desktop/OD/TFODCourse/tfod/lib/python3.7/site-packages (from tf-models-official->object-detection==0.1) (1.2.2)\n",
      "Requirement already satisfied: tensorflow-datasets in /Users/AlanZhu/Desktop/OD/TFODCourse/tfod/lib/python3.7/site-packages (from tf-models-official->object-detection==0.1) (4.3.0)\n",
      "Requirement already satisfied: sentencepiece in /Users/AlanZhu/Desktop/OD/TFODCourse/tfod/lib/python3.7/site-packages (from tf-models-official->object-detection==0.1) (0.1.95)\n",
      "Requirement already satisfied: google-auth-httplib2>=0.1.0 in /Users/AlanZhu/Desktop/OD/TFODCourse/tfod/lib/python3.7/site-packages (from google-api-python-client>=1.6.7->tf-models-official->object-detection==0.1) (0.1.0)\n",
      "Requirement already satisfied: uritemplate<4dev,>=3.0.0 in /Users/AlanZhu/Desktop/OD/TFODCourse/tfod/lib/python3.7/site-packages (from google-api-python-client>=1.6.7->tf-models-official->object-detection==0.1) (3.0.1)\n",
      "Requirement already satisfied: google-api-core<2dev,>=1.21.0 in /Users/AlanZhu/Desktop/OD/TFODCourse/tfod/lib/python3.7/site-packages (from google-api-python-client>=1.6.7->tf-models-official->object-detection==0.1) (1.30.0)\n",
      "Requirement already satisfied: google-auth<2dev,>=1.16.0 in /Users/AlanZhu/Desktop/OD/TFODCourse/tfod/lib/python3.7/site-packages (from google-api-python-client>=1.6.7->tf-models-official->object-detection==0.1) (1.31.0)\n",
      "Requirement already satisfied: packaging>=14.3 in /Users/AlanZhu/Desktop/OD/TFODCourse/tfod/lib/python3.7/site-packages (from google-api-core<2dev,>=1.21.0->google-api-python-client>=1.6.7->tf-models-official->object-detection==0.1) (20.9)\n",
      "Requirement already satisfied: googleapis-common-protos<2.0dev,>=1.6.0 in /Users/AlanZhu/Desktop/OD/TFODCourse/tfod/lib/python3.7/site-packages (from google-api-core<2dev,>=1.21.0->google-api-python-client>=1.6.7->tf-models-official->object-detection==0.1) (1.53.0)\n",
      "Requirement already satisfied: cachetools<5.0,>=2.0.0 in /Users/AlanZhu/Desktop/OD/TFODCourse/tfod/lib/python3.7/site-packages (from google-auth<2dev,>=1.16.0->google-api-python-client>=1.6.7->tf-models-official->object-detection==0.1) (4.2.2)\n",
      "Requirement already satisfied: google-resumable-media<2.0dev,>=0.6.0 in /Users/AlanZhu/Desktop/OD/TFODCourse/tfod/lib/python3.7/site-packages (from google-cloud-bigquery>=0.31.0->tf-models-official->object-detection==0.1) (1.3.0)\n",
      "Requirement already satisfied: google-cloud-core<2.0dev,>=1.4.1 in /Users/AlanZhu/Desktop/OD/TFODCourse/tfod/lib/python3.7/site-packages (from google-cloud-bigquery>=0.31.0->tf-models-official->object-detection==0.1) (1.6.0)\n",
      "Requirement already satisfied: proto-plus>=1.10.0 in /Users/AlanZhu/Desktop/OD/TFODCourse/tfod/lib/python3.7/site-packages (from google-cloud-bigquery>=0.31.0->tf-models-official->object-detection==0.1) (1.18.1)\n",
      "Requirement already satisfied: google-crc32c<2.0dev,>=1.0 in /Users/AlanZhu/Desktop/OD/TFODCourse/tfod/lib/python3.7/site-packages (from google-resumable-media<2.0dev,>=0.6.0->google-cloud-bigquery>=0.31.0->tf-models-official->object-detection==0.1) (1.1.2)\n",
      "Requirement already satisfied: cffi>=1.0.0 in /Users/AlanZhu/Desktop/OD/TFODCourse/tfod/lib/python3.7/site-packages (from google-crc32c<2.0dev,>=1.0->google-resumable-media<2.0dev,>=0.6.0->google-cloud-bigquery>=0.31.0->tf-models-official->object-detection==0.1) (1.14.5)\n",
      "Requirement already satisfied: pycparser in /Users/AlanZhu/Desktop/OD/TFODCourse/tfod/lib/python3.7/site-packages (from cffi>=1.0.0->google-crc32c<2.0dev,>=1.0->google-resumable-media<2.0dev,>=0.6.0->google-cloud-bigquery>=0.31.0->tf-models-official->object-detection==0.1) (2.20)\n",
      "Requirement already satisfied: tqdm in /Users/AlanZhu/Desktop/OD/TFODCourse/tfod/lib/python3.7/site-packages (from kaggle>=1.3.9->tf-models-official->object-detection==0.1) (4.61.0)\n",
      "Requirement already satisfied: python-slugify in /Users/AlanZhu/Desktop/OD/TFODCourse/tfod/lib/python3.7/site-packages (from kaggle>=1.3.9->tf-models-official->object-detection==0.1) (5.0.2)\n",
      "Requirement already satisfied: termcolor~=1.1.0 in /Users/AlanZhu/Desktop/OD/TFODCourse/tfod/lib/python3.7/site-packages (from tensorflow>=2.5.0->tf-models-official->object-detection==0.1) (1.1.0)\n",
      "Requirement already satisfied: opt-einsum~=3.3.0 in /Users/AlanZhu/Desktop/OD/TFODCourse/tfod/lib/python3.7/site-packages (from tensorflow>=2.5.0->tf-models-official->object-detection==0.1) (3.3.0)\n",
      "Requirement already satisfied: flatbuffers~=1.12.0 in /Users/AlanZhu/Desktop/OD/TFODCourse/tfod/lib/python3.7/site-packages (from tensorflow>=2.5.0->tf-models-official->object-detection==0.1) (1.12)\n",
      "Requirement already satisfied: tensorboard~=2.5 in /Users/AlanZhu/Desktop/OD/TFODCourse/tfod/lib/python3.7/site-packages (from tensorflow>=2.5.0->tf-models-official->object-detection==0.1) (2.5.0)\n",
      "Requirement already satisfied: wrapt~=1.12.1 in /Users/AlanZhu/Desktop/OD/TFODCourse/tfod/lib/python3.7/site-packages (from tensorflow>=2.5.0->tf-models-official->object-detection==0.1) (1.12.1)\n",
      "Requirement already satisfied: h5py~=3.1.0 in /Users/AlanZhu/Desktop/OD/TFODCourse/tfod/lib/python3.7/site-packages (from tensorflow>=2.5.0->tf-models-official->object-detection==0.1) (3.1.0)\n",
      "Requirement already satisfied: keras-preprocessing~=1.1.2 in /Users/AlanZhu/Desktop/OD/TFODCourse/tfod/lib/python3.7/site-packages (from tensorflow>=2.5.0->tf-models-official->object-detection==0.1) (1.1.2)\n",
      "Requirement already satisfied: tensorflow-estimator<2.6.0,>=2.5.0rc0 in /Users/AlanZhu/Desktop/OD/TFODCourse/tfod/lib/python3.7/site-packages (from tensorflow>=2.5.0->tf-models-official->object-detection==0.1) (2.5.0)\n",
      "Requirement already satisfied: keras-nightly~=2.5.0.dev in /Users/AlanZhu/Desktop/OD/TFODCourse/tfod/lib/python3.7/site-packages (from tensorflow>=2.5.0->tf-models-official->object-detection==0.1) (2.5.0.dev2021032900)\n",
      "Requirement already satisfied: absl-py~=0.10 in /Users/AlanZhu/Desktop/OD/TFODCourse/tfod/lib/python3.7/site-packages (from tensorflow>=2.5.0->tf-models-official->object-detection==0.1) (0.12.0)\n",
      "Requirement already satisfied: google-pasta~=0.2 in /Users/AlanZhu/Desktop/OD/TFODCourse/tfod/lib/python3.7/site-packages (from tensorflow>=2.5.0->tf-models-official->object-detection==0.1) (0.2.0)\n",
      "Requirement already satisfied: wheel~=0.35 in /Users/AlanZhu/Desktop/OD/TFODCourse/tfod/lib/python3.7/site-packages (from tensorflow>=2.5.0->tf-models-official->object-detection==0.1) (0.36.2)\n",
      "Requirement already satisfied: astunparse~=1.6.3 in /Users/AlanZhu/Desktop/OD/TFODCourse/tfod/lib/python3.7/site-packages (from tensorflow>=2.5.0->tf-models-official->object-detection==0.1) (1.6.3)\n",
      "Requirement already satisfied: gast==0.4.0 in /Users/AlanZhu/Desktop/OD/TFODCourse/tfod/lib/python3.7/site-packages (from tensorflow>=2.5.0->tf-models-official->object-detection==0.1) (0.4.0)\n",
      "Requirement already satisfied: cached-property in /Users/AlanZhu/Desktop/OD/TFODCourse/tfod/lib/python3.7/site-packages (from h5py~=3.1.0->tensorflow>=2.5.0->tf-models-official->object-detection==0.1) (1.5.2)\n",
      "Requirement already satisfied: werkzeug>=0.11.15 in /Users/AlanZhu/Desktop/OD/TFODCourse/tfod/lib/python3.7/site-packages (from tensorboard~=2.5->tensorflow>=2.5.0->tf-models-official->object-detection==0.1) (2.0.1)\n",
      "Requirement already satisfied: tensorboard-plugin-wit>=1.6.0 in /Users/AlanZhu/Desktop/OD/TFODCourse/tfod/lib/python3.7/site-packages (from tensorboard~=2.5->tensorflow>=2.5.0->tf-models-official->object-detection==0.1) (1.8.0)\n",
      "Requirement already satisfied: tensorboard-data-server<0.7.0,>=0.6.0 in /Users/AlanZhu/Desktop/OD/TFODCourse/tfod/lib/python3.7/site-packages (from tensorboard~=2.5->tensorflow>=2.5.0->tf-models-official->object-detection==0.1) (0.6.1)\n",
      "Requirement already satisfied: markdown>=2.6.8 in /Users/AlanZhu/Desktop/OD/TFODCourse/tfod/lib/python3.7/site-packages (from tensorboard~=2.5->tensorflow>=2.5.0->tf-models-official->object-detection==0.1) (3.3.4)\n",
      "Requirement already satisfied: google-auth-oauthlib<0.5,>=0.4.1 in /Users/AlanZhu/Desktop/OD/TFODCourse/tfod/lib/python3.7/site-packages (from tensorboard~=2.5->tensorflow>=2.5.0->tf-models-official->object-detection==0.1) (0.4.4)\n"
     ]
    },
    {
     "name": "stdout",
     "output_type": "stream",
     "text": [
      "Requirement already satisfied: requests-oauthlib>=0.7.0 in /Users/AlanZhu/Desktop/OD/TFODCourse/tfod/lib/python3.7/site-packages (from google-auth-oauthlib<0.5,>=0.4.1->tensorboard~=2.5->tensorflow>=2.5.0->tf-models-official->object-detection==0.1) (1.3.0)\n",
      "Requirement already satisfied: importlib-metadata in /Users/AlanZhu/Desktop/OD/TFODCourse/tfod/lib/python3.7/site-packages (from markdown>=2.6.8->tensorboard~=2.5->tensorflow>=2.5.0->tf-models-official->object-detection==0.1) (4.5.0)\n",
      "Requirement already satisfied: oauthlib>=3.0.0 in /Users/AlanZhu/Desktop/OD/TFODCourse/tfod/lib/python3.7/site-packages (from requests-oauthlib>=0.7.0->google-auth-oauthlib<0.5,>=0.4.1->tensorboard~=2.5->tensorflow>=2.5.0->tf-models-official->object-detection==0.1) (3.1.1)\n",
      "Requirement already satisfied: dm-tree~=0.1.1 in /Users/AlanZhu/Desktop/OD/TFODCourse/tfod/lib/python3.7/site-packages (from tensorflow-model-optimization>=0.4.1->tf-models-official->object-detection==0.1) (0.1.6)\n",
      "Requirement already satisfied: zipp>=0.5 in /Users/AlanZhu/Desktop/OD/TFODCourse/tfod/lib/python3.7/site-packages (from importlib-metadata->markdown>=2.6.8->tensorboard~=2.5->tensorflow>=2.5.0->tf-models-official->object-detection==0.1) (3.4.1)\n",
      "Requirement already satisfied: text-unidecode>=1.3 in /Users/AlanZhu/Desktop/OD/TFODCourse/tfod/lib/python3.7/site-packages (from python-slugify->kaggle>=1.3.9->tf-models-official->object-detection==0.1) (1.3)\n",
      "Requirement already satisfied: portalocker==2.0.0 in /Users/AlanZhu/Desktop/OD/TFODCourse/tfod/lib/python3.7/site-packages (from sacrebleu->tf-models-official->object-detection==0.1) (2.0.0)\n",
      "Requirement already satisfied: scikit-learn>=0.21.3 in /Users/AlanZhu/Desktop/OD/TFODCourse/tfod/lib/python3.7/site-packages (from seqeval->tf-models-official->object-detection==0.1) (0.24.2)\n",
      "Requirement already satisfied: threadpoolctl>=2.0.0 in /Users/AlanZhu/Desktop/OD/TFODCourse/tfod/lib/python3.7/site-packages (from scikit-learn>=0.21.3->seqeval->tf-models-official->object-detection==0.1) (2.1.0)\n",
      "Requirement already satisfied: joblib>=0.11 in /Users/AlanZhu/Desktop/OD/TFODCourse/tfod/lib/python3.7/site-packages (from scikit-learn>=0.21.3->seqeval->tf-models-official->object-detection==0.1) (1.0.1)\n",
      "Requirement already satisfied: typeguard>=2.7 in /Users/AlanZhu/Desktop/OD/TFODCourse/tfod/lib/python3.7/site-packages (from tensorflow-addons->tf-models-official->object-detection==0.1) (2.12.1)\n",
      "Requirement already satisfied: promise in /Users/AlanZhu/Desktop/OD/TFODCourse/tfod/lib/python3.7/site-packages (from tensorflow-datasets->tf-models-official->object-detection==0.1) (2.3)\n",
      "Requirement already satisfied: tensorflow-metadata in /Users/AlanZhu/Desktop/OD/TFODCourse/tfod/lib/python3.7/site-packages (from tensorflow-datasets->tf-models-official->object-detection==0.1) (1.0.0)\n",
      "Requirement already satisfied: importlib-resources in /Users/AlanZhu/Desktop/OD/TFODCourse/tfod/lib/python3.7/site-packages (from tensorflow-datasets->tf-models-official->object-detection==0.1) (5.1.4)\n",
      "Requirement already satisfied: attrs>=18.1.0 in /Users/AlanZhu/Desktop/OD/TFODCourse/tfod/lib/python3.7/site-packages (from tensorflow-datasets->tf-models-official->object-detection==0.1) (21.2.0)\n",
      "Building wheels for collected packages: object-detection\n",
      "  Building wheel for object-detection (setup.py) ... \u001b[?25ldone\n",
      "\u001b[?25h  Created wheel for object-detection: filename=object_detection-0.1-py3-none-any.whl size=1653901 sha256=381eeaa0fcd3dd99e780765b440e4a77a2c78a016533f79101101cc0d57e6e58\n",
      "  Stored in directory: /private/var/folders/19/gg6zw32s2p14dqb6n0wjj9t80000gn/T/pip-ephem-wheel-cache-26577jm1/wheels/fc/50/ad/ae58df98561ad0bcd11f51ead915c0da8682eb384012fb0520\n",
      "Successfully built object-detection\n",
      "Installing collected packages: opencv-python-headless, object-detection\n",
      "  Attempting uninstall: object-detection\n",
      "    Found existing installation: object-detection 0.1\n",
      "    Uninstalling object-detection-0.1:\n",
      "      Successfully uninstalled object-detection-0.1\n",
      "Successfully installed object-detection-0.1 opencv-python-headless-4.5.1.48\n"
     ]
    }
   ],
   "source": [
    "# Install Tensorflow Object Detection \n",
    "if os.name=='posix':  \n",
    "    !apt-get install protobuf-compiler\n",
    "    !cd Tensorflow/models/research && protoc object_detection/protos/*.proto --python_out=. && cp object_detection/packages/tf2/setup.py . && python -m pip install . \n",
    "    \n",
    "if os.name=='nt':\n",
    "    url=\"https://github.com/protocolbuffers/protobuf/releases/download/v3.15.6/protoc-3.15.6-win64.zip\"\n",
    "    wget.download(url)\n",
    "    !move protoc-3.15.6-win64.zip {paths['PROTOC_PATH']}\n",
    "    !cd {paths['PROTOC_PATH']} && tar -xf protoc-3.15.6-win64.zip\n",
    "    os.environ['PATH'] += os.pathsep + os.path.abspath(os.path.join(paths['PROTOC_PATH'], 'bin'))   \n",
    "    !cd Tensorflow/models/research && protoc object_detection/protos/*.proto --python_out=. && copy object_detection\\\\packages\\\\tf2\\\\setup.py setup.py && python setup.py build && python setup.py install\n",
    "    !cd Tensorflow/models/research/slim && pip install -e . "
   ]
  },
  {
   "cell_type": "code",
   "execution_count": 12,
   "metadata": {
    "scrolled": true
   },
   "outputs": [
    {
     "name": "stdout",
     "output_type": "stream",
     "text": [
      "Running tests under Python 3.7.1: /Users/AlanZhu/Desktop/OD/TFODCourse/tfod/bin/python\n",
      "[ RUN      ] ModelBuilderTF2Test.test_create_center_net_deepmac\n",
      "2021-06-13 02:01:16.744296: I tensorflow/core/platform/cpu_feature_guard.cc:142] This TensorFlow binary is optimized with oneAPI Deep Neural Network Library (oneDNN) to use the following CPU instructions in performance-critical operations:  AVX2 FMA\n",
      "To enable them in other operations, rebuild TensorFlow with the appropriate compiler flags.\n",
      "/Users/AlanZhu/Desktop/OD/TFODCourse/tfod/lib/python3.7/site-packages/object_detection/builders/model_builder.py:1085: DeprecationWarning: The 'warn' function is deprecated, use 'warning' instead\n",
      "  logging.warn(('Building experimental DeepMAC meta-arch.'\n",
      "W0613 02:01:17.029080 4616005056 model_builder.py:1085] Building experimental DeepMAC meta-arch. Some features may be omitted.\n",
      "INFO:tensorflow:time(__main__.ModelBuilderTF2Test.test_create_center_net_deepmac): 0.6s\n",
      "I0613 02:01:17.338151 4616005056 test_util.py:2103] time(__main__.ModelBuilderTF2Test.test_create_center_net_deepmac): 0.6s\n",
      "[       OK ] ModelBuilderTF2Test.test_create_center_net_deepmac\n",
      "[ RUN      ] ModelBuilderTF2Test.test_create_center_net_model0 (customize_head_params=True)\n",
      "INFO:tensorflow:time(__main__.ModelBuilderTF2Test.test_create_center_net_model0 (customize_head_params=True)): 0.87s\n",
      "I0613 02:01:18.213351 4616005056 test_util.py:2103] time(__main__.ModelBuilderTF2Test.test_create_center_net_model0 (customize_head_params=True)): 0.87s\n",
      "[       OK ] ModelBuilderTF2Test.test_create_center_net_model0 (customize_head_params=True)\n",
      "[ RUN      ] ModelBuilderTF2Test.test_create_center_net_model1 (customize_head_params=False)\n",
      "INFO:tensorflow:time(__main__.ModelBuilderTF2Test.test_create_center_net_model1 (customize_head_params=False)): 0.32s\n",
      "I0613 02:01:18.529379 4616005056 test_util.py:2103] time(__main__.ModelBuilderTF2Test.test_create_center_net_model1 (customize_head_params=False)): 0.32s\n",
      "[       OK ] ModelBuilderTF2Test.test_create_center_net_model1 (customize_head_params=False)\n",
      "[ RUN      ] ModelBuilderTF2Test.test_create_center_net_model_from_keypoints\n",
      "INFO:tensorflow:time(__main__.ModelBuilderTF2Test.test_create_center_net_model_from_keypoints): 0.29s\n",
      "I0613 02:01:18.824751 4616005056 test_util.py:2103] time(__main__.ModelBuilderTF2Test.test_create_center_net_model_from_keypoints): 0.29s\n",
      "[       OK ] ModelBuilderTF2Test.test_create_center_net_model_from_keypoints\n",
      "[ RUN      ] ModelBuilderTF2Test.test_create_center_net_model_mobilenet\n",
      "WARNING:tensorflow:`input_shape` is undefined or non-square, or `rows` is not in [96, 128, 160, 192, 224]. Weights for input shape (224, 224) will be loaded as the default.\n",
      "W0613 02:01:18.827591 4616005056 mobilenet_v2.py:296] `input_shape` is undefined or non-square, or `rows` is not in [96, 128, 160, 192, 224]. Weights for input shape (224, 224) will be loaded as the default.\n",
      "INFO:tensorflow:time(__main__.ModelBuilderTF2Test.test_create_center_net_model_mobilenet): 2.43s\n",
      "I0613 02:01:21.254235 4616005056 test_util.py:2103] time(__main__.ModelBuilderTF2Test.test_create_center_net_model_mobilenet): 2.43s\n",
      "[       OK ] ModelBuilderTF2Test.test_create_center_net_model_mobilenet\n",
      "[ RUN      ] ModelBuilderTF2Test.test_create_experimental_model\n",
      "INFO:tensorflow:time(__main__.ModelBuilderTF2Test.test_create_experimental_model): 0.0s\n",
      "I0613 02:01:21.255388 4616005056 test_util.py:2103] time(__main__.ModelBuilderTF2Test.test_create_experimental_model): 0.0s\n",
      "[       OK ] ModelBuilderTF2Test.test_create_experimental_model\n",
      "[ RUN      ] ModelBuilderTF2Test.test_create_faster_rcnn_from_config_with_crop_feature0 (True)\n",
      "INFO:tensorflow:time(__main__.ModelBuilderTF2Test.test_create_faster_rcnn_from_config_with_crop_feature0 (True)): 0.03s\n",
      "I0613 02:01:21.282669 4616005056 test_util.py:2103] time(__main__.ModelBuilderTF2Test.test_create_faster_rcnn_from_config_with_crop_feature0 (True)): 0.03s\n",
      "[       OK ] ModelBuilderTF2Test.test_create_faster_rcnn_from_config_with_crop_feature0 (True)\n",
      "[ RUN      ] ModelBuilderTF2Test.test_create_faster_rcnn_from_config_with_crop_feature1 (False)\n",
      "INFO:tensorflow:time(__main__.ModelBuilderTF2Test.test_create_faster_rcnn_from_config_with_crop_feature1 (False)): 0.02s\n",
      "I0613 02:01:21.300536 4616005056 test_util.py:2103] time(__main__.ModelBuilderTF2Test.test_create_faster_rcnn_from_config_with_crop_feature1 (False)): 0.02s\n",
      "[       OK ] ModelBuilderTF2Test.test_create_faster_rcnn_from_config_with_crop_feature1 (False)\n",
      "[ RUN      ] ModelBuilderTF2Test.test_create_faster_rcnn_model_from_config_with_example_miner\n",
      "INFO:tensorflow:time(__main__.ModelBuilderTF2Test.test_create_faster_rcnn_model_from_config_with_example_miner): 0.02s\n",
      "I0613 02:01:21.321973 4616005056 test_util.py:2103] time(__main__.ModelBuilderTF2Test.test_create_faster_rcnn_model_from_config_with_example_miner): 0.02s\n",
      "[       OK ] ModelBuilderTF2Test.test_create_faster_rcnn_model_from_config_with_example_miner\n",
      "[ RUN      ] ModelBuilderTF2Test.test_create_faster_rcnn_models_from_config_faster_rcnn_with_matmul\n",
      "INFO:tensorflow:time(__main__.ModelBuilderTF2Test.test_create_faster_rcnn_models_from_config_faster_rcnn_with_matmul): 0.12s\n",
      "I0613 02:01:21.440325 4616005056 test_util.py:2103] time(__main__.ModelBuilderTF2Test.test_create_faster_rcnn_models_from_config_faster_rcnn_with_matmul): 0.12s\n",
      "[       OK ] ModelBuilderTF2Test.test_create_faster_rcnn_models_from_config_faster_rcnn_with_matmul\n",
      "[ RUN      ] ModelBuilderTF2Test.test_create_faster_rcnn_models_from_config_faster_rcnn_without_matmul\n",
      "INFO:tensorflow:time(__main__.ModelBuilderTF2Test.test_create_faster_rcnn_models_from_config_faster_rcnn_without_matmul): 0.11s\n",
      "I0613 02:01:21.553331 4616005056 test_util.py:2103] time(__main__.ModelBuilderTF2Test.test_create_faster_rcnn_models_from_config_faster_rcnn_without_matmul): 0.11s\n",
      "[       OK ] ModelBuilderTF2Test.test_create_faster_rcnn_models_from_config_faster_rcnn_without_matmul\n",
      "[ RUN      ] ModelBuilderTF2Test.test_create_faster_rcnn_models_from_config_mask_rcnn_with_matmul\n",
      "INFO:tensorflow:time(__main__.ModelBuilderTF2Test.test_create_faster_rcnn_models_from_config_mask_rcnn_with_matmul): 0.14s\n",
      "I0613 02:01:21.692698 4616005056 test_util.py:2103] time(__main__.ModelBuilderTF2Test.test_create_faster_rcnn_models_from_config_mask_rcnn_with_matmul): 0.14s\n",
      "[       OK ] ModelBuilderTF2Test.test_create_faster_rcnn_models_from_config_mask_rcnn_with_matmul\n",
      "[ RUN      ] ModelBuilderTF2Test.test_create_faster_rcnn_models_from_config_mask_rcnn_without_matmul\n",
      "INFO:tensorflow:time(__main__.ModelBuilderTF2Test.test_create_faster_rcnn_models_from_config_mask_rcnn_without_matmul): 0.14s\n",
      "I0613 02:01:21.829358 4616005056 test_util.py:2103] time(__main__.ModelBuilderTF2Test.test_create_faster_rcnn_models_from_config_mask_rcnn_without_matmul): 0.14s\n",
      "[       OK ] ModelBuilderTF2Test.test_create_faster_rcnn_models_from_config_mask_rcnn_without_matmul\n",
      "[ RUN      ] ModelBuilderTF2Test.test_create_rfcn_model_from_config\n",
      "INFO:tensorflow:time(__main__.ModelBuilderTF2Test.test_create_rfcn_model_from_config): 0.13s\n",
      "I0613 02:01:21.959458 4616005056 test_util.py:2103] time(__main__.ModelBuilderTF2Test.test_create_rfcn_model_from_config): 0.13s\n",
      "[       OK ] ModelBuilderTF2Test.test_create_rfcn_model_from_config\n",
      "[ RUN      ] ModelBuilderTF2Test.test_create_ssd_fpn_model_from_config\n",
      "INFO:tensorflow:time(__main__.ModelBuilderTF2Test.test_create_ssd_fpn_model_from_config): 0.04s\n",
      "I0613 02:01:21.998458 4616005056 test_util.py:2103] time(__main__.ModelBuilderTF2Test.test_create_ssd_fpn_model_from_config): 0.04s\n",
      "[       OK ] ModelBuilderTF2Test.test_create_ssd_fpn_model_from_config\n",
      "[ RUN      ] ModelBuilderTF2Test.test_create_ssd_models_from_config\n",
      "I0613 02:01:22.298867 4616005056 ssd_efficientnet_bifpn_feature_extractor.py:143] EfficientDet EfficientNet backbone version: efficientnet-b0\n",
      "I0613 02:01:22.299142 4616005056 ssd_efficientnet_bifpn_feature_extractor.py:144] EfficientDet BiFPN num filters: 64\n",
      "I0613 02:01:22.299326 4616005056 ssd_efficientnet_bifpn_feature_extractor.py:146] EfficientDet BiFPN num iterations: 3\n",
      "I0613 02:01:22.304075 4616005056 efficientnet_model.py:147] round_filter input=32 output=32\n",
      "I0613 02:01:22.339871 4616005056 efficientnet_model.py:147] round_filter input=32 output=32\n",
      "I0613 02:01:22.340050 4616005056 efficientnet_model.py:147] round_filter input=16 output=16\n"
     ]
    },
    {
     "name": "stdout",
     "output_type": "stream",
     "text": [
      "I0613 02:01:22.427748 4616005056 efficientnet_model.py:147] round_filter input=16 output=16\n",
      "I0613 02:01:22.427901 4616005056 efficientnet_model.py:147] round_filter input=24 output=24\n",
      "I0613 02:01:22.616461 4616005056 efficientnet_model.py:147] round_filter input=24 output=24\n",
      "I0613 02:01:22.616616 4616005056 efficientnet_model.py:147] round_filter input=40 output=40\n",
      "I0613 02:01:22.801039 4616005056 efficientnet_model.py:147] round_filter input=40 output=40\n",
      "I0613 02:01:22.801180 4616005056 efficientnet_model.py:147] round_filter input=80 output=80\n",
      "I0613 02:01:23.086566 4616005056 efficientnet_model.py:147] round_filter input=80 output=80\n",
      "I0613 02:01:23.086720 4616005056 efficientnet_model.py:147] round_filter input=112 output=112\n",
      "I0613 02:01:23.389277 4616005056 efficientnet_model.py:147] round_filter input=112 output=112\n",
      "I0613 02:01:23.389440 4616005056 efficientnet_model.py:147] round_filter input=192 output=192\n",
      "I0613 02:01:23.952368 4616005056 efficientnet_model.py:147] round_filter input=192 output=192\n",
      "I0613 02:01:23.952507 4616005056 efficientnet_model.py:147] round_filter input=320 output=320\n",
      "I0613 02:01:24.064580 4616005056 efficientnet_model.py:147] round_filter input=1280 output=1280\n",
      "I0613 02:01:24.119758 4616005056 efficientnet_model.py:458] Building model efficientnet with params ModelConfig(width_coefficient=1.0, depth_coefficient=1.0, resolution=224, dropout_rate=0.2, blocks=(BlockConfig(input_filters=32, output_filters=16, kernel_size=3, num_repeat=1, expand_ratio=1, strides=(1, 1), se_ratio=0.25, id_skip=True, fused_conv=False, conv_type='depthwise'), BlockConfig(input_filters=16, output_filters=24, kernel_size=3, num_repeat=2, expand_ratio=6, strides=(2, 2), se_ratio=0.25, id_skip=True, fused_conv=False, conv_type='depthwise'), BlockConfig(input_filters=24, output_filters=40, kernel_size=5, num_repeat=2, expand_ratio=6, strides=(2, 2), se_ratio=0.25, id_skip=True, fused_conv=False, conv_type='depthwise'), BlockConfig(input_filters=40, output_filters=80, kernel_size=3, num_repeat=3, expand_ratio=6, strides=(2, 2), se_ratio=0.25, id_skip=True, fused_conv=False, conv_type='depthwise'), BlockConfig(input_filters=80, output_filters=112, kernel_size=5, num_repeat=3, expand_ratio=6, strides=(1, 1), se_ratio=0.25, id_skip=True, fused_conv=False, conv_type='depthwise'), BlockConfig(input_filters=112, output_filters=192, kernel_size=5, num_repeat=4, expand_ratio=6, strides=(2, 2), se_ratio=0.25, id_skip=True, fused_conv=False, conv_type='depthwise'), BlockConfig(input_filters=192, output_filters=320, kernel_size=3, num_repeat=1, expand_ratio=6, strides=(1, 1), se_ratio=0.25, id_skip=True, fused_conv=False, conv_type='depthwise')), stem_base_filters=32, top_base_filters=1280, activation='simple_swish', batch_norm='default', bn_momentum=0.99, bn_epsilon=0.001, weight_decay=5e-06, drop_connect_rate=0.2, depth_divisor=8, min_depth=None, use_se=True, input_channels=3, num_classes=1000, model_name='efficientnet', rescale_input=False, data_format='channels_last', dtype='float32')\n",
      "I0613 02:01:24.185101 4616005056 ssd_efficientnet_bifpn_feature_extractor.py:143] EfficientDet EfficientNet backbone version: efficientnet-b1\n",
      "I0613 02:01:24.185246 4616005056 ssd_efficientnet_bifpn_feature_extractor.py:144] EfficientDet BiFPN num filters: 88\n",
      "I0613 02:01:24.185312 4616005056 ssd_efficientnet_bifpn_feature_extractor.py:146] EfficientDet BiFPN num iterations: 4\n",
      "I0613 02:01:24.187242 4616005056 efficientnet_model.py:147] round_filter input=32 output=32\n",
      "I0613 02:01:24.204602 4616005056 efficientnet_model.py:147] round_filter input=32 output=32\n",
      "I0613 02:01:24.204733 4616005056 efficientnet_model.py:147] round_filter input=16 output=16\n",
      "I0613 02:01:24.365948 4616005056 efficientnet_model.py:147] round_filter input=16 output=16\n",
      "I0613 02:01:24.366236 4616005056 efficientnet_model.py:147] round_filter input=24 output=24\n",
      "I0613 02:01:24.651568 4616005056 efficientnet_model.py:147] round_filter input=24 output=24\n",
      "I0613 02:01:24.651722 4616005056 efficientnet_model.py:147] round_filter input=40 output=40\n",
      "I0613 02:01:24.931911 4616005056 efficientnet_model.py:147] round_filter input=40 output=40\n",
      "I0613 02:01:24.932101 4616005056 efficientnet_model.py:147] round_filter input=80 output=80\n",
      "I0613 02:01:25.329946 4616005056 efficientnet_model.py:147] round_filter input=80 output=80\n",
      "I0613 02:01:25.330103 4616005056 efficientnet_model.py:147] round_filter input=112 output=112\n",
      "I0613 02:01:25.714420 4616005056 efficientnet_model.py:147] round_filter input=112 output=112\n",
      "I0613 02:01:25.714608 4616005056 efficientnet_model.py:147] round_filter input=192 output=192\n",
      "I0613 02:01:26.218254 4616005056 efficientnet_model.py:147] round_filter input=192 output=192\n",
      "I0613 02:01:26.218409 4616005056 efficientnet_model.py:147] round_filter input=320 output=320\n",
      "I0613 02:01:26.434206 4616005056 efficientnet_model.py:147] round_filter input=1280 output=1280\n",
      "I0613 02:01:26.483632 4616005056 efficientnet_model.py:458] Building model efficientnet with params ModelConfig(width_coefficient=1.0, depth_coefficient=1.1, resolution=240, dropout_rate=0.2, blocks=(BlockConfig(input_filters=32, output_filters=16, kernel_size=3, num_repeat=1, expand_ratio=1, strides=(1, 1), se_ratio=0.25, id_skip=True, fused_conv=False, conv_type='depthwise'), BlockConfig(input_filters=16, output_filters=24, kernel_size=3, num_repeat=2, expand_ratio=6, strides=(2, 2), se_ratio=0.25, id_skip=True, fused_conv=False, conv_type='depthwise'), BlockConfig(input_filters=24, output_filters=40, kernel_size=5, num_repeat=2, expand_ratio=6, strides=(2, 2), se_ratio=0.25, id_skip=True, fused_conv=False, conv_type='depthwise'), BlockConfig(input_filters=40, output_filters=80, kernel_size=3, num_repeat=3, expand_ratio=6, strides=(2, 2), se_ratio=0.25, id_skip=True, fused_conv=False, conv_type='depthwise'), BlockConfig(input_filters=80, output_filters=112, kernel_size=5, num_repeat=3, expand_ratio=6, strides=(1, 1), se_ratio=0.25, id_skip=True, fused_conv=False, conv_type='depthwise'), BlockConfig(input_filters=112, output_filters=192, kernel_size=5, num_repeat=4, expand_ratio=6, strides=(2, 2), se_ratio=0.25, id_skip=True, fused_conv=False, conv_type='depthwise'), BlockConfig(input_filters=192, output_filters=320, kernel_size=3, num_repeat=1, expand_ratio=6, strides=(1, 1), se_ratio=0.25, id_skip=True, fused_conv=False, conv_type='depthwise')), stem_base_filters=32, top_base_filters=1280, activation='simple_swish', batch_norm='default', bn_momentum=0.99, bn_epsilon=0.001, weight_decay=5e-06, drop_connect_rate=0.2, depth_divisor=8, min_depth=None, use_se=True, input_channels=3, num_classes=1000, model_name='efficientnet', rescale_input=False, data_format='channels_last', dtype='float32')\n",
      "I0613 02:01:26.561655 4616005056 ssd_efficientnet_bifpn_feature_extractor.py:143] EfficientDet EfficientNet backbone version: efficientnet-b2\n",
      "I0613 02:01:26.561805 4616005056 ssd_efficientnet_bifpn_feature_extractor.py:144] EfficientDet BiFPN num filters: 112\n",
      "I0613 02:01:26.561880 4616005056 ssd_efficientnet_bifpn_feature_extractor.py:146] EfficientDet BiFPN num iterations: 5\n",
      "I0613 02:01:26.564186 4616005056 efficientnet_model.py:147] round_filter input=32 output=32\n",
      "I0613 02:01:26.581491 4616005056 efficientnet_model.py:147] round_filter input=32 output=32\n",
      "I0613 02:01:26.581650 4616005056 efficientnet_model.py:147] round_filter input=16 output=16\n",
      "I0613 02:01:26.725986 4616005056 efficientnet_model.py:147] round_filter input=16 output=16\n",
      "I0613 02:01:26.726154 4616005056 efficientnet_model.py:147] round_filter input=24 output=24\n",
      "I0613 02:01:27.041943 4616005056 efficientnet_model.py:147] round_filter input=24 output=24\n",
      "I0613 02:01:27.042106 4616005056 efficientnet_model.py:147] round_filter input=40 output=48\n",
      "I0613 02:01:27.330024 4616005056 efficientnet_model.py:147] round_filter input=40 output=48\n",
      "I0613 02:01:27.330243 4616005056 efficientnet_model.py:147] round_filter input=80 output=88\n",
      "I0613 02:01:27.717007 4616005056 efficientnet_model.py:147] round_filter input=80 output=88\n",
      "I0613 02:01:27.717158 4616005056 efficientnet_model.py:147] round_filter input=112 output=120\n",
      "I0613 02:01:28.252531 4616005056 efficientnet_model.py:147] round_filter input=112 output=120\n"
     ]
    },
    {
     "name": "stdout",
     "output_type": "stream",
     "text": [
      "I0613 02:01:28.252687 4616005056 efficientnet_model.py:147] round_filter input=192 output=208\n",
      "I0613 02:01:28.790245 4616005056 efficientnet_model.py:147] round_filter input=192 output=208\n",
      "I0613 02:01:28.790408 4616005056 efficientnet_model.py:147] round_filter input=320 output=352\n",
      "I0613 02:01:29.020016 4616005056 efficientnet_model.py:147] round_filter input=1280 output=1408\n",
      "I0613 02:01:29.079107 4616005056 efficientnet_model.py:458] Building model efficientnet with params ModelConfig(width_coefficient=1.1, depth_coefficient=1.2, resolution=260, dropout_rate=0.3, blocks=(BlockConfig(input_filters=32, output_filters=16, kernel_size=3, num_repeat=1, expand_ratio=1, strides=(1, 1), se_ratio=0.25, id_skip=True, fused_conv=False, conv_type='depthwise'), BlockConfig(input_filters=16, output_filters=24, kernel_size=3, num_repeat=2, expand_ratio=6, strides=(2, 2), se_ratio=0.25, id_skip=True, fused_conv=False, conv_type='depthwise'), BlockConfig(input_filters=24, output_filters=40, kernel_size=5, num_repeat=2, expand_ratio=6, strides=(2, 2), se_ratio=0.25, id_skip=True, fused_conv=False, conv_type='depthwise'), BlockConfig(input_filters=40, output_filters=80, kernel_size=3, num_repeat=3, expand_ratio=6, strides=(2, 2), se_ratio=0.25, id_skip=True, fused_conv=False, conv_type='depthwise'), BlockConfig(input_filters=80, output_filters=112, kernel_size=5, num_repeat=3, expand_ratio=6, strides=(1, 1), se_ratio=0.25, id_skip=True, fused_conv=False, conv_type='depthwise'), BlockConfig(input_filters=112, output_filters=192, kernel_size=5, num_repeat=4, expand_ratio=6, strides=(2, 2), se_ratio=0.25, id_skip=True, fused_conv=False, conv_type='depthwise'), BlockConfig(input_filters=192, output_filters=320, kernel_size=3, num_repeat=1, expand_ratio=6, strides=(1, 1), se_ratio=0.25, id_skip=True, fused_conv=False, conv_type='depthwise')), stem_base_filters=32, top_base_filters=1280, activation='simple_swish', batch_norm='default', bn_momentum=0.99, bn_epsilon=0.001, weight_decay=5e-06, drop_connect_rate=0.2, depth_divisor=8, min_depth=None, use_se=True, input_channels=3, num_classes=1000, model_name='efficientnet', rescale_input=False, data_format='channels_last', dtype='float32')\n",
      "I0613 02:01:29.154798 4616005056 ssd_efficientnet_bifpn_feature_extractor.py:143] EfficientDet EfficientNet backbone version: efficientnet-b3\n",
      "I0613 02:01:29.155093 4616005056 ssd_efficientnet_bifpn_feature_extractor.py:144] EfficientDet BiFPN num filters: 160\n",
      "I0613 02:01:29.155282 4616005056 ssd_efficientnet_bifpn_feature_extractor.py:146] EfficientDet BiFPN num iterations: 6\n",
      "I0613 02:01:29.157223 4616005056 efficientnet_model.py:147] round_filter input=32 output=40\n",
      "I0613 02:01:29.177399 4616005056 efficientnet_model.py:147] round_filter input=32 output=40\n",
      "I0613 02:01:29.177536 4616005056 efficientnet_model.py:147] round_filter input=16 output=24\n",
      "I0613 02:01:29.323952 4616005056 efficientnet_model.py:147] round_filter input=16 output=24\n",
      "I0613 02:01:29.324103 4616005056 efficientnet_model.py:147] round_filter input=24 output=32\n",
      "I0613 02:01:29.608937 4616005056 efficientnet_model.py:147] round_filter input=24 output=32\n",
      "I0613 02:01:29.609102 4616005056 efficientnet_model.py:147] round_filter input=40 output=48\n",
      "I0613 02:01:29.896487 4616005056 efficientnet_model.py:147] round_filter input=40 output=48\n",
      "I0613 02:01:29.896651 4616005056 efficientnet_model.py:147] round_filter input=80 output=96\n",
      "I0613 02:01:30.379721 4616005056 efficientnet_model.py:147] round_filter input=80 output=96\n",
      "I0613 02:01:30.379882 4616005056 efficientnet_model.py:147] round_filter input=112 output=136\n",
      "I0613 02:01:30.870960 4616005056 efficientnet_model.py:147] round_filter input=112 output=136\n",
      "I0613 02:01:30.871174 4616005056 efficientnet_model.py:147] round_filter input=192 output=232\n",
      "I0613 02:01:31.527221 4616005056 efficientnet_model.py:147] round_filter input=192 output=232\n",
      "I0613 02:01:31.527446 4616005056 efficientnet_model.py:147] round_filter input=320 output=384\n",
      "I0613 02:01:31.793444 4616005056 efficientnet_model.py:147] round_filter input=1280 output=1536\n",
      "I0613 02:01:31.852333 4616005056 efficientnet_model.py:458] Building model efficientnet with params ModelConfig(width_coefficient=1.2, depth_coefficient=1.4, resolution=300, dropout_rate=0.3, blocks=(BlockConfig(input_filters=32, output_filters=16, kernel_size=3, num_repeat=1, expand_ratio=1, strides=(1, 1), se_ratio=0.25, id_skip=True, fused_conv=False, conv_type='depthwise'), BlockConfig(input_filters=16, output_filters=24, kernel_size=3, num_repeat=2, expand_ratio=6, strides=(2, 2), se_ratio=0.25, id_skip=True, fused_conv=False, conv_type='depthwise'), BlockConfig(input_filters=24, output_filters=40, kernel_size=5, num_repeat=2, expand_ratio=6, strides=(2, 2), se_ratio=0.25, id_skip=True, fused_conv=False, conv_type='depthwise'), BlockConfig(input_filters=40, output_filters=80, kernel_size=3, num_repeat=3, expand_ratio=6, strides=(2, 2), se_ratio=0.25, id_skip=True, fused_conv=False, conv_type='depthwise'), BlockConfig(input_filters=80, output_filters=112, kernel_size=5, num_repeat=3, expand_ratio=6, strides=(1, 1), se_ratio=0.25, id_skip=True, fused_conv=False, conv_type='depthwise'), BlockConfig(input_filters=112, output_filters=192, kernel_size=5, num_repeat=4, expand_ratio=6, strides=(2, 2), se_ratio=0.25, id_skip=True, fused_conv=False, conv_type='depthwise'), BlockConfig(input_filters=192, output_filters=320, kernel_size=3, num_repeat=1, expand_ratio=6, strides=(1, 1), se_ratio=0.25, id_skip=True, fused_conv=False, conv_type='depthwise')), stem_base_filters=32, top_base_filters=1280, activation='simple_swish', batch_norm='default', bn_momentum=0.99, bn_epsilon=0.001, weight_decay=5e-06, drop_connect_rate=0.2, depth_divisor=8, min_depth=None, use_se=True, input_channels=3, num_classes=1000, model_name='efficientnet', rescale_input=False, data_format='channels_last', dtype='float32')\n",
      "I0613 02:01:31.936783 4616005056 ssd_efficientnet_bifpn_feature_extractor.py:143] EfficientDet EfficientNet backbone version: efficientnet-b4\n",
      "I0613 02:01:31.936938 4616005056 ssd_efficientnet_bifpn_feature_extractor.py:144] EfficientDet BiFPN num filters: 224\n",
      "I0613 02:01:31.937031 4616005056 ssd_efficientnet_bifpn_feature_extractor.py:146] EfficientDet BiFPN num iterations: 7\n",
      "I0613 02:01:31.938899 4616005056 efficientnet_model.py:147] round_filter input=32 output=48\n",
      "I0613 02:01:31.958512 4616005056 efficientnet_model.py:147] round_filter input=32 output=48\n",
      "I0613 02:01:31.958656 4616005056 efficientnet_model.py:147] round_filter input=16 output=24\n",
      "I0613 02:01:32.113520 4616005056 efficientnet_model.py:147] round_filter input=16 output=24\n",
      "I0613 02:01:32.113676 4616005056 efficientnet_model.py:147] round_filter input=24 output=32\n",
      "I0613 02:01:32.502330 4616005056 efficientnet_model.py:147] round_filter input=24 output=32\n",
      "I0613 02:01:32.502543 4616005056 efficientnet_model.py:147] round_filter input=40 output=56\n",
      "I0613 02:01:33.070015 4616005056 efficientnet_model.py:147] round_filter input=40 output=56\n",
      "I0613 02:01:33.070168 4616005056 efficientnet_model.py:147] round_filter input=80 output=112\n",
      "I0613 02:01:33.650449 4616005056 efficientnet_model.py:147] round_filter input=80 output=112\n",
      "I0613 02:01:33.650652 4616005056 efficientnet_model.py:147] round_filter input=112 output=160\n",
      "I0613 02:01:34.258049 4616005056 efficientnet_model.py:147] round_filter input=112 output=160\n",
      "I0613 02:01:34.258205 4616005056 efficientnet_model.py:147] round_filter input=192 output=272\n",
      "I0613 02:01:35.144610 4616005056 efficientnet_model.py:147] round_filter input=192 output=272\n",
      "I0613 02:01:35.144817 4616005056 efficientnet_model.py:147] round_filter input=320 output=448\n",
      "I0613 02:01:35.392236 4616005056 efficientnet_model.py:147] round_filter input=1280 output=1792\n",
      "I0613 02:01:35.455024 4616005056 efficientnet_model.py:458] Building model efficientnet with params ModelConfig(width_coefficient=1.4, depth_coefficient=1.8, resolution=380, dropout_rate=0.4, blocks=(BlockConfig(input_filters=32, output_filters=16, kernel_size=3, num_repeat=1, expand_ratio=1, strides=(1, 1), se_ratio=0.25, id_skip=True, fused_conv=False, conv_type='depthwise'), BlockConfig(input_filters=16, output_filters=24, kernel_size=3, num_repeat=2, expand_ratio=6, strides=(2, 2), se_ratio=0.25, id_skip=True, fused_conv=False, conv_type='depthwise'), BlockConfig(input_filters=24, output_filters=40, kernel_size=5, num_repeat=2, expand_ratio=6, strides=(2, 2), se_ratio=0.25, id_skip=True, fused_conv=False, conv_type='depthwise'), BlockConfig(input_filters=40, output_filters=80, kernel_size=3, num_repeat=3, expand_ratio=6, strides=(2, 2), se_ratio=0.25, id_skip=True, fused_conv=False, conv_type='depthwise'), BlockConfig(input_filters=80, output_filters=112, kernel_size=5, num_repeat=3, expand_ratio=6, strides=(1, 1), se_ratio=0.25, id_skip=True, fused_conv=False, conv_type='depthwise'), BlockConfig(input_filters=112, output_filters=192, kernel_size=5, num_repeat=4, expand_ratio=6, strides=(2, 2), se_ratio=0.25, id_skip=True, fused_conv=False, conv_type='depthwise'), BlockConfig(input_filters=192, output_filters=320, kernel_size=3, num_repeat=1, expand_ratio=6, strides=(1, 1), se_ratio=0.25, id_skip=True, fused_conv=False, conv_type='depthwise')), stem_base_filters=32, top_base_filters=1280, activation='simple_swish', batch_norm='default', bn_momentum=0.99, bn_epsilon=0.001, weight_decay=5e-06, drop_connect_rate=0.2, depth_divisor=8, min_depth=None, use_se=True, input_channels=3, num_classes=1000, model_name='efficientnet', rescale_input=False, data_format='channels_last', dtype='float32')\n"
     ]
    },
    {
     "name": "stdout",
     "output_type": "stream",
     "text": [
      "I0613 02:01:35.550128 4616005056 ssd_efficientnet_bifpn_feature_extractor.py:143] EfficientDet EfficientNet backbone version: efficientnet-b5\n",
      "I0613 02:01:35.550287 4616005056 ssd_efficientnet_bifpn_feature_extractor.py:144] EfficientDet BiFPN num filters: 288\n",
      "I0613 02:01:35.550378 4616005056 ssd_efficientnet_bifpn_feature_extractor.py:146] EfficientDet BiFPN num iterations: 7\n",
      "I0613 02:01:35.552749 4616005056 efficientnet_model.py:147] round_filter input=32 output=48\n",
      "I0613 02:01:35.570749 4616005056 efficientnet_model.py:147] round_filter input=32 output=48\n",
      "I0613 02:01:35.570895 4616005056 efficientnet_model.py:147] round_filter input=16 output=24\n",
      "I0613 02:01:35.796465 4616005056 efficientnet_model.py:147] round_filter input=16 output=24\n",
      "I0613 02:01:35.796602 4616005056 efficientnet_model.py:147] round_filter input=24 output=40\n",
      "I0613 02:01:36.287152 4616005056 efficientnet_model.py:147] round_filter input=24 output=40\n",
      "I0613 02:01:36.287349 4616005056 efficientnet_model.py:147] round_filter input=40 output=64\n",
      "I0613 02:01:36.758639 4616005056 efficientnet_model.py:147] round_filter input=40 output=64\n",
      "I0613 02:01:36.758889 4616005056 efficientnet_model.py:147] round_filter input=80 output=128\n",
      "I0613 02:01:37.440943 4616005056 efficientnet_model.py:147] round_filter input=80 output=128\n",
      "I0613 02:01:37.441103 4616005056 efficientnet_model.py:147] round_filter input=112 output=176\n",
      "I0613 02:01:38.303695 4616005056 efficientnet_model.py:147] round_filter input=112 output=176\n",
      "I0613 02:01:38.303904 4616005056 efficientnet_model.py:147] round_filter input=192 output=304\n",
      "I0613 02:01:39.408445 4616005056 efficientnet_model.py:147] round_filter input=192 output=304\n",
      "I0613 02:01:39.408582 4616005056 efficientnet_model.py:147] round_filter input=320 output=512\n",
      "I0613 02:01:39.835146 4616005056 efficientnet_model.py:147] round_filter input=1280 output=2048\n",
      "I0613 02:01:39.904055 4616005056 efficientnet_model.py:458] Building model efficientnet with params ModelConfig(width_coefficient=1.6, depth_coefficient=2.2, resolution=456, dropout_rate=0.4, blocks=(BlockConfig(input_filters=32, output_filters=16, kernel_size=3, num_repeat=1, expand_ratio=1, strides=(1, 1), se_ratio=0.25, id_skip=True, fused_conv=False, conv_type='depthwise'), BlockConfig(input_filters=16, output_filters=24, kernel_size=3, num_repeat=2, expand_ratio=6, strides=(2, 2), se_ratio=0.25, id_skip=True, fused_conv=False, conv_type='depthwise'), BlockConfig(input_filters=24, output_filters=40, kernel_size=5, num_repeat=2, expand_ratio=6, strides=(2, 2), se_ratio=0.25, id_skip=True, fused_conv=False, conv_type='depthwise'), BlockConfig(input_filters=40, output_filters=80, kernel_size=3, num_repeat=3, expand_ratio=6, strides=(2, 2), se_ratio=0.25, id_skip=True, fused_conv=False, conv_type='depthwise'), BlockConfig(input_filters=80, output_filters=112, kernel_size=5, num_repeat=3, expand_ratio=6, strides=(1, 1), se_ratio=0.25, id_skip=True, fused_conv=False, conv_type='depthwise'), BlockConfig(input_filters=112, output_filters=192, kernel_size=5, num_repeat=4, expand_ratio=6, strides=(2, 2), se_ratio=0.25, id_skip=True, fused_conv=False, conv_type='depthwise'), BlockConfig(input_filters=192, output_filters=320, kernel_size=3, num_repeat=1, expand_ratio=6, strides=(1, 1), se_ratio=0.25, id_skip=True, fused_conv=False, conv_type='depthwise')), stem_base_filters=32, top_base_filters=1280, activation='simple_swish', batch_norm='default', bn_momentum=0.99, bn_epsilon=0.001, weight_decay=5e-06, drop_connect_rate=0.2, depth_divisor=8, min_depth=None, use_se=True, input_channels=3, num_classes=1000, model_name='efficientnet', rescale_input=False, data_format='channels_last', dtype='float32')\n",
      "I0613 02:01:40.019464 4616005056 ssd_efficientnet_bifpn_feature_extractor.py:143] EfficientDet EfficientNet backbone version: efficientnet-b6\n",
      "I0613 02:01:40.020078 4616005056 ssd_efficientnet_bifpn_feature_extractor.py:144] EfficientDet BiFPN num filters: 384\n",
      "I0613 02:01:40.020215 4616005056 ssd_efficientnet_bifpn_feature_extractor.py:146] EfficientDet BiFPN num iterations: 8\n",
      "I0613 02:01:40.023970 4616005056 efficientnet_model.py:147] round_filter input=32 output=56\n",
      "I0613 02:01:40.041249 4616005056 efficientnet_model.py:147] round_filter input=32 output=56\n",
      "I0613 02:01:40.041408 4616005056 efficientnet_model.py:147] round_filter input=16 output=32\n",
      "I0613 02:01:40.303504 4616005056 efficientnet_model.py:147] round_filter input=16 output=32\n",
      "I0613 02:01:40.303817 4616005056 efficientnet_model.py:147] round_filter input=24 output=40\n",
      "I0613 02:01:40.906760 4616005056 efficientnet_model.py:147] round_filter input=24 output=40\n",
      "I0613 02:01:40.906929 4616005056 efficientnet_model.py:147] round_filter input=40 output=72\n",
      "I0613 02:01:41.477567 4616005056 efficientnet_model.py:147] round_filter input=40 output=72\n",
      "I0613 02:01:41.477751 4616005056 efficientnet_model.py:147] round_filter input=80 output=144\n",
      "I0613 02:01:42.310106 4616005056 efficientnet_model.py:147] round_filter input=80 output=144\n",
      "I0613 02:01:42.310292 4616005056 efficientnet_model.py:147] round_filter input=112 output=200\n",
      "I0613 02:01:43.171155 4616005056 efficientnet_model.py:147] round_filter input=112 output=200\n",
      "I0613 02:01:43.171298 4616005056 efficientnet_model.py:147] round_filter input=192 output=344\n",
      "I0613 02:01:44.718368 4616005056 efficientnet_model.py:147] round_filter input=192 output=344\n",
      "I0613 02:01:44.718539 4616005056 efficientnet_model.py:147] round_filter input=320 output=576\n",
      "I0613 02:01:45.174061 4616005056 efficientnet_model.py:147] round_filter input=1280 output=2304\n",
      "I0613 02:01:45.252622 4616005056 efficientnet_model.py:458] Building model efficientnet with params ModelConfig(width_coefficient=1.8, depth_coefficient=2.6, resolution=528, dropout_rate=0.5, blocks=(BlockConfig(input_filters=32, output_filters=16, kernel_size=3, num_repeat=1, expand_ratio=1, strides=(1, 1), se_ratio=0.25, id_skip=True, fused_conv=False, conv_type='depthwise'), BlockConfig(input_filters=16, output_filters=24, kernel_size=3, num_repeat=2, expand_ratio=6, strides=(2, 2), se_ratio=0.25, id_skip=True, fused_conv=False, conv_type='depthwise'), BlockConfig(input_filters=24, output_filters=40, kernel_size=5, num_repeat=2, expand_ratio=6, strides=(2, 2), se_ratio=0.25, id_skip=True, fused_conv=False, conv_type='depthwise'), BlockConfig(input_filters=40, output_filters=80, kernel_size=3, num_repeat=3, expand_ratio=6, strides=(2, 2), se_ratio=0.25, id_skip=True, fused_conv=False, conv_type='depthwise'), BlockConfig(input_filters=80, output_filters=112, kernel_size=5, num_repeat=3, expand_ratio=6, strides=(1, 1), se_ratio=0.25, id_skip=True, fused_conv=False, conv_type='depthwise'), BlockConfig(input_filters=112, output_filters=192, kernel_size=5, num_repeat=4, expand_ratio=6, strides=(2, 2), se_ratio=0.25, id_skip=True, fused_conv=False, conv_type='depthwise'), BlockConfig(input_filters=192, output_filters=320, kernel_size=3, num_repeat=1, expand_ratio=6, strides=(1, 1), se_ratio=0.25, id_skip=True, fused_conv=False, conv_type='depthwise')), stem_base_filters=32, top_base_filters=1280, activation='simple_swish', batch_norm='default', bn_momentum=0.99, bn_epsilon=0.001, weight_decay=5e-06, drop_connect_rate=0.2, depth_divisor=8, min_depth=None, use_se=True, input_channels=3, num_classes=1000, model_name='efficientnet', rescale_input=False, data_format='channels_last', dtype='float32')\n",
      "I0613 02:01:45.379987 4616005056 ssd_efficientnet_bifpn_feature_extractor.py:143] EfficientDet EfficientNet backbone version: efficientnet-b7\n",
      "I0613 02:01:45.380122 4616005056 ssd_efficientnet_bifpn_feature_extractor.py:144] EfficientDet BiFPN num filters: 384\n",
      "I0613 02:01:45.380184 4616005056 ssd_efficientnet_bifpn_feature_extractor.py:146] EfficientDet BiFPN num iterations: 8\n",
      "I0613 02:01:45.382045 4616005056 efficientnet_model.py:147] round_filter input=32 output=64\n",
      "I0613 02:01:45.402049 4616005056 efficientnet_model.py:147] round_filter input=32 output=64\n",
      "I0613 02:01:45.402205 4616005056 efficientnet_model.py:147] round_filter input=16 output=32\n",
      "I0613 02:01:45.704670 4616005056 efficientnet_model.py:147] round_filter input=16 output=32\n",
      "I0613 02:01:45.704844 4616005056 efficientnet_model.py:147] round_filter input=24 output=48\n"
     ]
    },
    {
     "name": "stdout",
     "output_type": "stream",
     "text": [
      "I0613 02:01:46.384014 4616005056 efficientnet_model.py:147] round_filter input=24 output=48\n",
      "I0613 02:01:46.384171 4616005056 efficientnet_model.py:147] round_filter input=40 output=80\n",
      "I0613 02:01:47.091150 4616005056 efficientnet_model.py:147] round_filter input=40 output=80\n",
      "I0613 02:01:47.091306 4616005056 efficientnet_model.py:147] round_filter input=80 output=160\n",
      "I0613 02:01:48.138000 4616005056 efficientnet_model.py:147] round_filter input=80 output=160\n",
      "I0613 02:01:48.138160 4616005056 efficientnet_model.py:147] round_filter input=112 output=224\n",
      "I0613 02:01:49.191196 4616005056 efficientnet_model.py:147] round_filter input=112 output=224\n",
      "I0613 02:01:49.191339 4616005056 efficientnet_model.py:147] round_filter input=192 output=384\n",
      "I0613 02:01:50.877703 4616005056 efficientnet_model.py:147] round_filter input=192 output=384\n",
      "I0613 02:01:50.877863 4616005056 efficientnet_model.py:147] round_filter input=320 output=640\n",
      "I0613 02:01:51.793957 4616005056 efficientnet_model.py:147] round_filter input=1280 output=2560\n",
      "I0613 02:01:51.884837 4616005056 efficientnet_model.py:458] Building model efficientnet with params ModelConfig(width_coefficient=2.0, depth_coefficient=3.1, resolution=600, dropout_rate=0.5, blocks=(BlockConfig(input_filters=32, output_filters=16, kernel_size=3, num_repeat=1, expand_ratio=1, strides=(1, 1), se_ratio=0.25, id_skip=True, fused_conv=False, conv_type='depthwise'), BlockConfig(input_filters=16, output_filters=24, kernel_size=3, num_repeat=2, expand_ratio=6, strides=(2, 2), se_ratio=0.25, id_skip=True, fused_conv=False, conv_type='depthwise'), BlockConfig(input_filters=24, output_filters=40, kernel_size=5, num_repeat=2, expand_ratio=6, strides=(2, 2), se_ratio=0.25, id_skip=True, fused_conv=False, conv_type='depthwise'), BlockConfig(input_filters=40, output_filters=80, kernel_size=3, num_repeat=3, expand_ratio=6, strides=(2, 2), se_ratio=0.25, id_skip=True, fused_conv=False, conv_type='depthwise'), BlockConfig(input_filters=80, output_filters=112, kernel_size=5, num_repeat=3, expand_ratio=6, strides=(1, 1), se_ratio=0.25, id_skip=True, fused_conv=False, conv_type='depthwise'), BlockConfig(input_filters=112, output_filters=192, kernel_size=5, num_repeat=4, expand_ratio=6, strides=(2, 2), se_ratio=0.25, id_skip=True, fused_conv=False, conv_type='depthwise'), BlockConfig(input_filters=192, output_filters=320, kernel_size=3, num_repeat=1, expand_ratio=6, strides=(1, 1), se_ratio=0.25, id_skip=True, fused_conv=False, conv_type='depthwise')), stem_base_filters=32, top_base_filters=1280, activation='simple_swish', batch_norm='default', bn_momentum=0.99, bn_epsilon=0.001, weight_decay=5e-06, drop_connect_rate=0.2, depth_divisor=8, min_depth=None, use_se=True, input_channels=3, num_classes=1000, model_name='efficientnet', rescale_input=False, data_format='channels_last', dtype='float32')\n",
      "INFO:tensorflow:time(__main__.ModelBuilderTF2Test.test_create_ssd_models_from_config): 30.05s\n",
      "I0613 02:01:52.048502 4616005056 test_util.py:2103] time(__main__.ModelBuilderTF2Test.test_create_ssd_models_from_config): 30.05s\n",
      "[       OK ] ModelBuilderTF2Test.test_create_ssd_models_from_config\n",
      "[ RUN      ] ModelBuilderTF2Test.test_invalid_faster_rcnn_batchnorm_update\n",
      "INFO:tensorflow:time(__main__.ModelBuilderTF2Test.test_invalid_faster_rcnn_batchnorm_update): 0.0s\n",
      "I0613 02:01:52.060253 4616005056 test_util.py:2103] time(__main__.ModelBuilderTF2Test.test_invalid_faster_rcnn_batchnorm_update): 0.0s\n",
      "[       OK ] ModelBuilderTF2Test.test_invalid_faster_rcnn_batchnorm_update\n",
      "[ RUN      ] ModelBuilderTF2Test.test_invalid_first_stage_nms_iou_threshold\n",
      "INFO:tensorflow:time(__main__.ModelBuilderTF2Test.test_invalid_first_stage_nms_iou_threshold): 0.0s\n",
      "I0613 02:01:52.063068 4616005056 test_util.py:2103] time(__main__.ModelBuilderTF2Test.test_invalid_first_stage_nms_iou_threshold): 0.0s\n",
      "[       OK ] ModelBuilderTF2Test.test_invalid_first_stage_nms_iou_threshold\n",
      "[ RUN      ] ModelBuilderTF2Test.test_invalid_model_config_proto\n",
      "INFO:tensorflow:time(__main__.ModelBuilderTF2Test.test_invalid_model_config_proto): 0.0s\n",
      "I0613 02:01:52.064218 4616005056 test_util.py:2103] time(__main__.ModelBuilderTF2Test.test_invalid_model_config_proto): 0.0s\n",
      "[       OK ] ModelBuilderTF2Test.test_invalid_model_config_proto\n",
      "[ RUN      ] ModelBuilderTF2Test.test_invalid_second_stage_batch_size\n",
      "INFO:tensorflow:time(__main__.ModelBuilderTF2Test.test_invalid_second_stage_batch_size): 0.0s\n",
      "I0613 02:01:52.066339 4616005056 test_util.py:2103] time(__main__.ModelBuilderTF2Test.test_invalid_second_stage_batch_size): 0.0s\n",
      "[       OK ] ModelBuilderTF2Test.test_invalid_second_stage_batch_size\n",
      "[ RUN      ] ModelBuilderTF2Test.test_session\n",
      "[  SKIPPED ] ModelBuilderTF2Test.test_session\n",
      "[ RUN      ] ModelBuilderTF2Test.test_unknown_faster_rcnn_feature_extractor\n",
      "INFO:tensorflow:time(__main__.ModelBuilderTF2Test.test_unknown_faster_rcnn_feature_extractor): 0.0s\n",
      "I0613 02:01:52.068285 4616005056 test_util.py:2103] time(__main__.ModelBuilderTF2Test.test_unknown_faster_rcnn_feature_extractor): 0.0s\n",
      "[       OK ] ModelBuilderTF2Test.test_unknown_faster_rcnn_feature_extractor\n",
      "[ RUN      ] ModelBuilderTF2Test.test_unknown_meta_architecture\n",
      "INFO:tensorflow:time(__main__.ModelBuilderTF2Test.test_unknown_meta_architecture): 0.0s\n",
      "I0613 02:01:52.068769 4616005056 test_util.py:2103] time(__main__.ModelBuilderTF2Test.test_unknown_meta_architecture): 0.0s\n",
      "[       OK ] ModelBuilderTF2Test.test_unknown_meta_architecture\n",
      "[ RUN      ] ModelBuilderTF2Test.test_unknown_ssd_feature_extractor\n",
      "INFO:tensorflow:time(__main__.ModelBuilderTF2Test.test_unknown_ssd_feature_extractor): 0.0s\n",
      "I0613 02:01:52.069892 4616005056 test_util.py:2103] time(__main__.ModelBuilderTF2Test.test_unknown_ssd_feature_extractor): 0.0s\n",
      "[       OK ] ModelBuilderTF2Test.test_unknown_ssd_feature_extractor\n",
      "----------------------------------------------------------------------\n",
      "Ran 24 tests in 35.331s\n",
      "\n",
      "OK (skipped=1)\n"
     ]
    }
   ],
   "source": [
    "#Check if all packages are installed\n",
    "VERIFICATION_SCRIPT = os.path.join(paths['APIMODEL_PATH'], 'research', 'object_detection', 'builders', 'model_builder_tf2_test.py')\n",
    "# Verify Installation\n",
    "!python {VERIFICATION_SCRIPT}"
   ]
  },
  {
   "cell_type": "code",
   "execution_count": 13,
   "metadata": {
    "scrolled": true
   },
   "outputs": [
    {
     "name": "stdout",
     "output_type": "stream",
     "text": [
      "Requirement already satisfied: tensorflow in ./tfod/lib/python3.7/site-packages (2.5.0)\n",
      "Requirement already satisfied: astunparse~=1.6.3 in ./tfod/lib/python3.7/site-packages (from tensorflow) (1.6.3)\n",
      "Requirement already satisfied: wrapt~=1.12.1 in ./tfod/lib/python3.7/site-packages (from tensorflow) (1.12.1)\n",
      "Requirement already satisfied: keras-preprocessing~=1.1.2 in ./tfod/lib/python3.7/site-packages (from tensorflow) (1.1.2)\n",
      "Requirement already satisfied: six~=1.15.0 in ./tfod/lib/python3.7/site-packages (from tensorflow) (1.15.0)\n",
      "Requirement already satisfied: grpcio~=1.34.0 in ./tfod/lib/python3.7/site-packages (from tensorflow) (1.34.1)\n",
      "Requirement already satisfied: tensorflow-estimator<2.6.0,>=2.5.0rc0 in ./tfod/lib/python3.7/site-packages (from tensorflow) (2.5.0)\n",
      "Requirement already satisfied: keras-nightly~=2.5.0.dev in ./tfod/lib/python3.7/site-packages (from tensorflow) (2.5.0.dev2021032900)\n",
      "Requirement already satisfied: tensorboard~=2.5 in ./tfod/lib/python3.7/site-packages (from tensorflow) (2.5.0)\n",
      "Requirement already satisfied: google-pasta~=0.2 in ./tfod/lib/python3.7/site-packages (from tensorflow) (0.2.0)\n",
      "Requirement already satisfied: wheel~=0.35 in ./tfod/lib/python3.7/site-packages (from tensorflow) (0.36.2)\n",
      "Requirement already satisfied: absl-py~=0.10 in ./tfod/lib/python3.7/site-packages (from tensorflow) (0.12.0)\n",
      "Requirement already satisfied: h5py~=3.1.0 in ./tfod/lib/python3.7/site-packages (from tensorflow) (3.1.0)\n",
      "Requirement already satisfied: flatbuffers~=1.12.0 in ./tfod/lib/python3.7/site-packages (from tensorflow) (1.12)\n",
      "Requirement already satisfied: opt-einsum~=3.3.0 in ./tfod/lib/python3.7/site-packages (from tensorflow) (3.3.0)\n",
      "Requirement already satisfied: gast==0.4.0 in ./tfod/lib/python3.7/site-packages (from tensorflow) (0.4.0)\n",
      "Requirement already satisfied: typing-extensions~=3.7.4 in ./tfod/lib/python3.7/site-packages (from tensorflow) (3.7.4.3)\n",
      "Requirement already satisfied: numpy~=1.19.2 in ./tfod/lib/python3.7/site-packages (from tensorflow) (1.19.5)\n",
      "Requirement already satisfied: protobuf>=3.9.2 in ./tfod/lib/python3.7/site-packages (from tensorflow) (3.17.3)\n",
      "Requirement already satisfied: termcolor~=1.1.0 in ./tfod/lib/python3.7/site-packages (from tensorflow) (1.1.0)\n",
      "Requirement already satisfied: cached-property in ./tfod/lib/python3.7/site-packages (from h5py~=3.1.0->tensorflow) (1.5.2)\n",
      "Requirement already satisfied: werkzeug>=0.11.15 in ./tfod/lib/python3.7/site-packages (from tensorboard~=2.5->tensorflow) (2.0.1)\n",
      "Requirement already satisfied: tensorboard-plugin-wit>=1.6.0 in ./tfod/lib/python3.7/site-packages (from tensorboard~=2.5->tensorflow) (1.8.0)\n",
      "Requirement already satisfied: setuptools>=41.0.0 in ./tfod/lib/python3.7/site-packages (from tensorboard~=2.5->tensorflow) (57.0.0)\n",
      "Requirement already satisfied: google-auth<2,>=1.6.3 in ./tfod/lib/python3.7/site-packages (from tensorboard~=2.5->tensorflow) (1.31.0)\n",
      "Requirement already satisfied: tensorboard-data-server<0.7.0,>=0.6.0 in ./tfod/lib/python3.7/site-packages (from tensorboard~=2.5->tensorflow) (0.6.1)\n",
      "Requirement already satisfied: requests<3,>=2.21.0 in ./tfod/lib/python3.7/site-packages (from tensorboard~=2.5->tensorflow) (2.25.1)\n",
      "Requirement already satisfied: google-auth-oauthlib<0.5,>=0.4.1 in ./tfod/lib/python3.7/site-packages (from tensorboard~=2.5->tensorflow) (0.4.4)\n",
      "Requirement already satisfied: markdown>=2.6.8 in ./tfod/lib/python3.7/site-packages (from tensorboard~=2.5->tensorflow) (3.3.4)\n",
      "Requirement already satisfied: pyasn1-modules>=0.2.1 in ./tfod/lib/python3.7/site-packages (from google-auth<2,>=1.6.3->tensorboard~=2.5->tensorflow) (0.2.8)\n",
      "Requirement already satisfied: rsa<5,>=3.1.4 in ./tfod/lib/python3.7/site-packages (from google-auth<2,>=1.6.3->tensorboard~=2.5->tensorflow) (4.7.2)\n",
      "Requirement already satisfied: cachetools<5.0,>=2.0.0 in ./tfod/lib/python3.7/site-packages (from google-auth<2,>=1.6.3->tensorboard~=2.5->tensorflow) (4.2.2)\n",
      "Requirement already satisfied: requests-oauthlib>=0.7.0 in ./tfod/lib/python3.7/site-packages (from google-auth-oauthlib<0.5,>=0.4.1->tensorboard~=2.5->tensorflow) (1.3.0)\n",
      "Requirement already satisfied: importlib-metadata in ./tfod/lib/python3.7/site-packages (from markdown>=2.6.8->tensorboard~=2.5->tensorflow) (4.5.0)\n",
      "Requirement already satisfied: pyasn1<0.5.0,>=0.4.6 in ./tfod/lib/python3.7/site-packages (from pyasn1-modules>=0.2.1->google-auth<2,>=1.6.3->tensorboard~=2.5->tensorflow) (0.4.8)\n",
      "Requirement already satisfied: certifi>=2017.4.17 in ./tfod/lib/python3.7/site-packages (from requests<3,>=2.21.0->tensorboard~=2.5->tensorflow) (2021.5.30)\n",
      "Requirement already satisfied: idna<3,>=2.5 in ./tfod/lib/python3.7/site-packages (from requests<3,>=2.21.0->tensorboard~=2.5->tensorflow) (2.10)\n",
      "Requirement already satisfied: chardet<5,>=3.0.2 in ./tfod/lib/python3.7/site-packages (from requests<3,>=2.21.0->tensorboard~=2.5->tensorflow) (4.0.0)\n",
      "Requirement already satisfied: urllib3<1.27,>=1.21.1 in ./tfod/lib/python3.7/site-packages (from requests<3,>=2.21.0->tensorboard~=2.5->tensorflow) (1.26.5)\n",
      "Requirement already satisfied: oauthlib>=3.0.0 in ./tfod/lib/python3.7/site-packages (from requests-oauthlib>=0.7.0->google-auth-oauthlib<0.5,>=0.4.1->tensorboard~=2.5->tensorflow) (3.1.1)\n",
      "Requirement already satisfied: zipp>=0.5 in ./tfod/lib/python3.7/site-packages (from importlib-metadata->markdown>=2.6.8->tensorboard~=2.5->tensorflow) (3.4.1)\n"
     ]
    }
   ],
   "source": [
    "!pip install tensorflow --upgrade\n",
    "#!pip install tensorflow-gpu --upgrade #For trainning on GPU"
   ]
  },
  {
   "cell_type": "code",
   "execution_count": 14,
   "metadata": {},
   "outputs": [
    {
     "name": "stdout",
     "output_type": "stream",
     "text": [
      "Found existing installation: protobuf 3.17.3\n",
      "Uninstalling protobuf-3.17.3:\n",
      "  Successfully uninstalled protobuf-3.17.3\n",
      "Found existing installation: matplotlib 3.2.0\n",
      "Uninstalling matplotlib-3.2.0:\n",
      "  Successfully uninstalled matplotlib-3.2.0\n",
      "Collecting protobuf\n",
      "  Using cached protobuf-3.17.3-cp37-cp37m-macosx_10_9_x86_64.whl (1.0 MB)\n",
      "Collecting matplotlib==3.2\n",
      "  Using cached matplotlib-3.2.0-cp37-cp37m-macosx_10_9_x86_64.whl (12.4 MB)\n",
      "Requirement already satisfied: cycler>=0.10 in ./tfod/lib/python3.7/site-packages (from matplotlib==3.2) (0.10.0)\n",
      "Requirement already satisfied: python-dateutil>=2.1 in ./tfod/lib/python3.7/site-packages (from matplotlib==3.2) (2.8.1)\n",
      "Requirement already satisfied: numpy>=1.11 in ./tfod/lib/python3.7/site-packages (from matplotlib==3.2) (1.19.5)\n",
      "Requirement already satisfied: pyparsing!=2.0.4,!=2.1.2,!=2.1.6,>=2.0.1 in ./tfod/lib/python3.7/site-packages (from matplotlib==3.2) (2.4.7)\n",
      "Requirement already satisfied: kiwisolver>=1.0.1 in ./tfod/lib/python3.7/site-packages (from matplotlib==3.2) (1.3.1)\n",
      "Requirement already satisfied: six in ./tfod/lib/python3.7/site-packages (from cycler>=0.10->matplotlib==3.2) (1.15.0)\n",
      "Installing collected packages: protobuf, matplotlib\n",
      "Successfully installed matplotlib-3.2.0 protobuf-3.17.3\n"
     ]
    }
   ],
   "source": [
    "!pip uninstall protobuf matplotlib -y\n",
    "!pip install protobuf matplotlib==3.2"
   ]
  },
  {
   "cell_type": "code",
   "execution_count": 15,
   "metadata": {},
   "outputs": [],
   "source": [
    "import object_detection"
   ]
  },
  {
   "cell_type": "code",
   "execution_count": 16,
   "metadata": {
    "scrolled": true
   },
   "outputs": [
    {
     "name": "stdout",
     "output_type": "stream",
     "text": [
      "Package                       Version             Location\r\n",
      "----------------------------- ------------------- --------------------------------------------------------------------\r\n",
      "absl-py                       0.12.0\r\n",
      "apache-beam                   2.30.0\r\n",
      "appdirs                       1.4.4\r\n",
      "appnope                       0.1.2\r\n",
      "astunparse                    1.6.3\r\n",
      "attrs                         21.2.0\r\n",
      "avro-python3                  1.9.1\r\n",
      "backcall                      0.2.0\r\n",
      "cached-property               1.5.2\r\n",
      "cachetools                    4.2.2\r\n",
      "certifi                       2021.5.30\r\n",
      "cffi                          1.14.5\r\n",
      "chardet                       4.0.0\r\n",
      "contextlib2                   0.6.0.post1\r\n",
      "crcmod                        1.7\r\n",
      "cycler                        0.10.0\r\n",
      "Cython                        0.29.23\r\n",
      "decorator                     5.0.9\r\n",
      "dill                          0.3.1.1\r\n",
      "distlib                       0.3.2\r\n",
      "dm-tree                       0.1.6\r\n",
      "docopt                        0.6.2\r\n",
      "fastavro                      1.4.1\r\n",
      "filelock                      3.0.12\r\n",
      "flatbuffers                   1.12\r\n",
      "future                        0.18.2\r\n",
      "gast                          0.4.0\r\n",
      "gin-config                    0.4.0\r\n",
      "google-api-core               1.30.0\r\n",
      "google-api-python-client      2.8.0\r\n",
      "google-auth                   1.31.0\r\n",
      "google-auth-httplib2          0.1.0\r\n",
      "google-auth-oauthlib          0.4.4\r\n",
      "google-cloud-bigquery         2.20.0\r\n",
      "google-cloud-core             1.6.0\r\n",
      "google-crc32c                 1.1.2\r\n",
      "google-pasta                  0.2.0\r\n",
      "google-resumable-media        1.3.0\r\n",
      "googleapis-common-protos      1.53.0\r\n",
      "grpcio                        1.34.1\r\n",
      "h5py                          3.1.0\r\n",
      "hdfs                          2.6.0\r\n",
      "httplib2                      0.19.1\r\n",
      "idna                          2.10\r\n",
      "importlib-metadata            4.5.0\r\n",
      "importlib-resources           5.1.4\r\n",
      "ipykernel                     5.5.5\r\n",
      "ipython                       7.24.1\r\n",
      "ipython-genutils              0.2.0\r\n",
      "jedi                          0.18.0\r\n",
      "joblib                        1.0.1\r\n",
      "jupyter-client                6.1.12\r\n",
      "jupyter-core                  4.7.1\r\n",
      "kaggle                        1.5.12\r\n",
      "keras-nightly                 2.5.0.dev2021032900\r\n",
      "Keras-Preprocessing           1.1.2\r\n",
      "kiwisolver                    1.3.1\r\n",
      "lvis                          0.5.3\r\n",
      "lxml                          4.6.3\r\n",
      "Markdown                      3.3.4\r\n",
      "matplotlib                    3.2.0\r\n",
      "matplotlib-inline             0.1.2\r\n",
      "numpy                         1.19.5\r\n",
      "oauth2client                  4.1.3\r\n",
      "oauthlib                      3.1.1\r\n",
      "object-detection              0.1\r\n",
      "opencv-python                 4.5.1.48\r\n",
      "opencv-python-headless        4.5.1.48\r\n",
      "opt-einsum                    3.3.0\r\n",
      "packaging                     20.9\r\n",
      "pandas                        1.2.4\r\n",
      "parso                         0.8.2\r\n",
      "pexpect                       4.8.0\r\n",
      "pickleshare                   0.7.5\r\n",
      "Pillow                        8.2.0\r\n",
      "pip                           21.1.2\r\n",
      "pipenv                        2021.5.29\r\n",
      "portalocker                   2.0.0\r\n",
      "promise                       2.3\r\n",
      "prompt-toolkit                3.0.18\r\n",
      "proto-plus                    1.18.1\r\n",
      "protobuf                      3.17.3\r\n",
      "psutil                        5.8.0\r\n",
      "ptyprocess                    0.7.0\r\n",
      "py-cpuinfo                    8.0.0\r\n",
      "pyarrow                       3.0.0\r\n",
      "pyasn1                        0.4.8\r\n",
      "pyasn1-modules                0.2.8\r\n",
      "pycocotools                   2.0.2\r\n",
      "pycparser                     2.20\r\n",
      "pydot                         1.4.2\r\n",
      "Pygments                      2.9.0\r\n",
      "pymongo                       3.11.4\r\n",
      "pyparsing                     2.4.7\r\n",
      "PyQt5                         5.15.4\r\n",
      "PyQt5-Qt5                     5.15.2\r\n",
      "PyQt5-sip                     12.9.0\r\n",
      "python-dateutil               2.8.1\r\n",
      "python-slugify                5.0.2\r\n",
      "pytz                          2021.1\r\n",
      "PyYAML                        5.4.1\r\n",
      "pyzmq                         22.1.0\r\n",
      "requests                      2.25.1\r\n",
      "requests-oauthlib             1.3.0\r\n",
      "rsa                           4.7.2\r\n",
      "sacrebleu                     1.5.1\r\n",
      "scikit-learn                  0.24.2\r\n",
      "scipy                         1.6.3\r\n",
      "sentencepiece                 0.1.95\r\n",
      "seqeval                       1.2.2\r\n",
      "setuptools                    57.0.0\r\n",
      "six                           1.15.0\r\n",
      "slim                          0.1                 /Users/AlanZhu/Desktop/OD/TFODCourse/Tensorflow/models/research/slim\r\n",
      "tensorboard                   2.5.0\r\n",
      "tensorboard-data-server       0.6.1\r\n",
      "tensorboard-plugin-wit        1.8.0\r\n",
      "tensorflow                    2.5.0\r\n",
      "tensorflow-addons             0.13.0\r\n",
      "tensorflow-datasets           4.3.0\r\n",
      "tensorflow-estimator          2.5.0\r\n",
      "tensorflow-hub                0.12.0\r\n",
      "tensorflow-metadata           1.0.0\r\n",
      "tensorflow-model-optimization 0.5.0\r\n",
      "tensorflowjs                  3.7.0\r\n",
      "termcolor                     1.1.0\r\n",
      "text-unidecode                1.3\r\n",
      "tf-models-official            2.5.0\r\n",
      "tf-slim                       1.1.0\r\n",
      "threadpoolctl                 2.1.0\r\n",
      "tornado                       6.1\r\n",
      "tqdm                          4.61.0\r\n",
      "traitlets                     5.0.5\r\n",
      "typeguard                     2.12.1\r\n",
      "typing-extensions             3.7.4.3\r\n",
      "uritemplate                   3.0.1\r\n",
      "urllib3                       1.26.5\r\n",
      "virtualenv                    20.4.7\r\n",
      "virtualenv-clone              0.5.4\r\n",
      "wcwidth                       0.2.5\r\n",
      "Werkzeug                      2.0.1\r\n",
      "wget                          3.2\r\n",
      "wheel                         0.36.2\r\n",
      "wrapt                         1.12.1\r\n",
      "zipp                          3.4.1\r\n"
     ]
    }
   ],
   "source": [
    "!pip list"
   ]
  },
  {
   "cell_type": "code",
   "execution_count": 17,
   "metadata": {},
   "outputs": [
    {
     "name": "stdout",
     "output_type": "stream",
     "text": [
      "Requirement already satisfied: wget in ./tfod/lib/python3.7/site-packages (3.2)\r\n"
     ]
    }
   ],
   "source": [
    "!pip install wget\n",
    "import wget"
   ]
  },
  {
   "cell_type": "code",
   "execution_count": 18,
   "metadata": {},
   "outputs": [],
   "source": [
    "#https://github.com/tensorflow/models/blob/master/research/object_detection/g3doc/tf2_detection_zoo.md\n",
    "#Tensorflow OD model zoo"
   ]
  },
  {
   "cell_type": "code",
   "execution_count": 19,
   "metadata": {
    "colab": {
     "base_uri": "https://localhost:8080/"
    },
    "id": "csofht2npfDE",
    "outputId": "ff5471b2-bed2-43f2-959c-327a706527b6"
   },
   "outputs": [
    {
     "name": "stdout",
     "output_type": "stream",
     "text": [
      "/bin/bash: wget: command not found\n",
      "mv: ssd_mobilenet_v2_fpnlite_320x320_coco17_tpu-8.tar.gz: No such file or directory\n",
      "x ssd_mobilenet_v2_fpnlite_320x320_coco17_tpu-8/\n",
      "x ssd_mobilenet_v2_fpnlite_320x320_coco17_tpu-8/checkpoint/\n",
      "x ssd_mobilenet_v2_fpnlite_320x320_coco17_tpu-8/checkpoint/ckpt-0.data-00000-of-00001\n",
      "x ssd_mobilenet_v2_fpnlite_320x320_coco17_tpu-8/checkpoint/checkpoint\n",
      "x ssd_mobilenet_v2_fpnlite_320x320_coco17_tpu-8/checkpoint/ckpt-0.index\n",
      "x ssd_mobilenet_v2_fpnlite_320x320_coco17_tpu-8/pipeline.config\n",
      "x ssd_mobilenet_v2_fpnlite_320x320_coco17_tpu-8/saved_model/\n",
      "x ssd_mobilenet_v2_fpnlite_320x320_coco17_tpu-8/saved_model/saved_model.pb\n",
      "x ssd_mobilenet_v2_fpnlite_320x320_coco17_tpu-8/saved_model/variables/\n",
      "x ssd_mobilenet_v2_fpnlite_320x320_coco17_tpu-8/saved_model/variables/variables.data-00000-of-00001\n",
      "x ssd_mobilenet_v2_fpnlite_320x320_coco17_tpu-8/saved_model/variables/variables.index\n"
     ]
    }
   ],
   "source": [
    "\n",
    "if os.name =='posix':\n",
    "    !wget {PRETRAINED_MODEL_URL}\n",
    "    !mv {PRETRAINED_MODEL_NAME+'.tar.gz'} {paths['PRETRAINED_MODEL_PATH']}\n",
    "    !cd {paths['PRETRAINED_MODEL_PATH']} && tar -zxvf {PRETRAINED_MODEL_NAME+'.tar.gz'}\n",
    "if os.name == 'nt':\n",
    "    wget.download(PRETRAINED_MODEL_URL)\n",
    "    !move {PRETRAINED_MODEL_NAME+'.tar.gz'} {paths['PRETRAINED_MODEL_PATH']}\n",
    "    !cd {paths['PRETRAINED_MODEL_PATH']} && tar -zxvf {PRETRAINED_MODEL_NAME+'.tar.gz'}"
   ]
  },
  {
   "cell_type": "markdown",
   "metadata": {
    "id": "M5KJTnkfpfDC"
   },
   "source": [
    "# 2. Create Label Map"
   ]
  },
  {
   "cell_type": "code",
   "execution_count": 20,
   "metadata": {
    "id": "p1BVDWo7pfDC"
   },
   "outputs": [],
   "source": [
    "labels = [{'name':'thumbsup', 'id':1}, {'name':'thumbsdown', 'id':2}, {'name':'heart', 'id':3}, {'name':'livelong', 'id':4}]\n",
    "\n",
    "with open(files['LABELMAP'], 'w') as f:\n",
    "    for label in labels:\n",
    "        f.write('item { \\n')\n",
    "        f.write('\\tname:\\'{}\\'\\n'.format(label['name']))\n",
    "        f.write('\\tid:{}\\n'.format(label['id']))\n",
    "        f.write('}\\n')"
   ]
  },
  {
   "cell_type": "markdown",
   "metadata": {
    "id": "C88zyVELpfDC"
   },
   "source": [
    "# 3. Create TF records"
   ]
  },
  {
   "cell_type": "code",
   "execution_count": 21,
   "metadata": {
    "colab": {
     "base_uri": "https://localhost:8080/"
    },
    "id": "kvf5WccwrFGq",
    "outputId": "49902aeb-0bd7-4298-e1a0-5b4a64eb2064"
   },
   "outputs": [],
   "source": [
    "# OPTIONAL IF RUNNING ON COLAB\n",
    "ARCHIVE_FILES = os.path.join(paths['IMAGE_PATH'], 'archive.tar.gz')\n",
    "if os.path.exists(ARCHIVE_FILES):\n",
    "  !tar -zxvf {ARCHIVE_FILES}"
   ]
  },
  {
   "cell_type": "code",
   "execution_count": 22,
   "metadata": {
    "colab": {
     "base_uri": "https://localhost:8080/"
    },
    "id": "KWpb_BVUpfDD",
    "outputId": "56ce2a3f-3933-4ee6-8a9d-d5ec65f7d73c"
   },
   "outputs": [],
   "source": [
    "if not os.path.exists(files['TF_RECORD_SCRIPT']):\n",
    "    !git clone https://github.com/nicknochnack/GenerateTFRecord {paths['SCRIPTS_PATH']}"
   ]
  },
  {
   "cell_type": "code",
   "execution_count": 23,
   "metadata": {
    "colab": {
     "base_uri": "https://localhost:8080/"
    },
    "id": "UPFToGZqpfDD",
    "outputId": "0ebb456f-aadc-4a1f-96e6-fbfec1923e1c"
   },
   "outputs": [
    {
     "name": "stdout",
     "output_type": "stream",
     "text": [
      "Successfully created the TFRecord file: Tensorflow/workspace/annotations/train.record\n",
      "Traceback (most recent call last):\n",
      "  File \"Tensorflow/scripts/generate_tfrecord.py\", line 168, in <module>\n",
      "    tf.app.run()\n",
      "  File \"/Users/AlanZhu/Desktop/OD/TFODCourse/tfod/lib/python3.7/site-packages/tensorflow/python/platform/app.py\", line 40, in run\n",
      "    _run(main=main, argv=argv, flags_parser=_parse_flags_tolerate_undef)\n",
      "  File \"/Users/AlanZhu/Desktop/OD/TFODCourse/tfod/lib/python3.7/site-packages/absl/app.py\", line 303, in run\n",
      "    _run_main(main, args)\n",
      "  File \"/Users/AlanZhu/Desktop/OD/TFODCourse/tfod/lib/python3.7/site-packages/absl/app.py\", line 251, in _run_main\n",
      "    sys.exit(main(argv))\n",
      "  File \"Tensorflow/scripts/generate_tfrecord.py\", line 158, in main\n",
      "    tf_example = create_tf_example(group, path)\n",
      "  File \"Tensorflow/scripts/generate_tfrecord.py\", line 112, in create_tf_example\n",
      "    encoded_jpg = fid.read()\n",
      "  File \"/Users/AlanZhu/Desktop/OD/TFODCourse/tfod/lib/python3.7/site-packages/tensorflow/python/lib/io/file_io.py\", line 117, in read\n",
      "    self._preread_check()\n",
      "  File \"/Users/AlanZhu/Desktop/OD/TFODCourse/tfod/lib/python3.7/site-packages/tensorflow/python/lib/io/file_io.py\", line 80, in _preread_check\n",
      "    compat.path_to_str(self.__name), 1024 * 512)\n",
      "tensorflow.python.framework.errors_impl.NotFoundError: Tensorflow/workspace/images/test/thumbsup.fd1af908-cab5-11eb-b3cd-f45c89c16c1b.jpg; No such file or directory\n"
     ]
    }
   ],
   "source": [
    "!python {files['TF_RECORD_SCRIPT']} -x {os.path.join(paths['IMAGE_PATH'], 'train')} -l {files['LABELMAP']} -o {os.path.join(paths['ANNOTATION_PATH'], 'train.record')} \n",
    "!python {files['TF_RECORD_SCRIPT']} -x {os.path.join(paths['IMAGE_PATH'], 'test')} -l {files['LABELMAP']} -o {os.path.join(paths['ANNOTATION_PATH'], 'test.record')} "
   ]
  },
  {
   "cell_type": "markdown",
   "metadata": {
    "id": "qT4QU7pLpfDE"
   },
   "source": [
    "# 4. Copy Model Config to Training Folder"
   ]
  },
  {
   "cell_type": "code",
   "execution_count": 24,
   "metadata": {
    "id": "cOjuTFbwpfDF"
   },
   "outputs": [],
   "source": [
    "if os.name =='posix':\n",
    "    !cp {os.path.join(paths['PRETRAINED_MODEL_PATH'], PRETRAINED_MODEL_NAME, 'pipeline.config')} {os.path.join(paths['CHECKPOINT_PATH'])}\n",
    "if os.name == 'nt':\n",
    "    !copy {os.path.join(paths['PRETRAINED_MODEL_PATH'], PRETRAINED_MODEL_NAME, 'pipeline.config')} {os.path.join(paths['CHECKPOINT_PATH'])}"
   ]
  },
  {
   "cell_type": "markdown",
   "metadata": {
    "id": "Ga8gpNslpfDF"
   },
   "source": [
    "# 5. Update Config For Transfer Learning"
   ]
  },
  {
   "cell_type": "code",
   "execution_count": 25,
   "metadata": {
    "id": "Z9hRrO_ppfDF"
   },
   "outputs": [],
   "source": [
    "import tensorflow as tf\n",
    "from object_detection.utils import config_util\n",
    "from object_detection.protos import pipeline_pb2\n",
    "from google.protobuf import text_format"
   ]
  },
  {
   "cell_type": "code",
   "execution_count": 26,
   "metadata": {
    "id": "c2A0mn4ipfDF"
   },
   "outputs": [],
   "source": [
    "config = config_util.get_configs_from_pipeline_file(files['PIPELINE_CONFIG'])"
   ]
  },
  {
   "cell_type": "code",
   "execution_count": 27,
   "metadata": {
    "id": "9vK5lotDpfDF"
   },
   "outputs": [],
   "source": [
    "pipeline_config = pipeline_pb2.TrainEvalPipelineConfig()\n",
    "with tf.io.gfile.GFile(files['PIPELINE_CONFIG'], \"r\") as f:                                                                                                                                                                                                                     \n",
    "    proto_str = f.read()                                                                                                                                                                                                                                          \n",
    "    text_format.Merge(proto_str, pipeline_config)  "
   ]
  },
  {
   "cell_type": "code",
   "execution_count": 28,
   "metadata": {
    "id": "rP43Ph0JpfDG"
   },
   "outputs": [],
   "source": [
    "#Set all the size,file path and other configs\n",
    "pipeline_config.model.ssd.num_classes = len(labels)\n",
    "pipeline_config.train_config.batch_size = 4\n",
    "pipeline_config.train_config.fine_tune_checkpoint = os.path.join(paths['PRETRAINED_MODEL_PATH'], PRETRAINED_MODEL_NAME, 'checkpoint', 'ckpt-0')\n",
    "pipeline_config.train_config.fine_tune_checkpoint_type = \"detection\"\n",
    "pipeline_config.train_input_reader.label_map_path= files['LABELMAP']\n",
    "pipeline_config.train_input_reader.tf_record_input_reader.input_path[:] = [os.path.join(paths['ANNOTATION_PATH'], 'train.record')]\n",
    "pipeline_config.eval_input_reader[0].label_map_path = files['LABELMAP']\n",
    "pipeline_config.eval_input_reader[0].tf_record_input_reader.input_path[:] = [os.path.join(paths['ANNOTATION_PATH'], 'test.record')]"
   ]
  },
  {
   "cell_type": "code",
   "execution_count": 29,
   "metadata": {
    "id": "oJvfgwWqpfDG"
   },
   "outputs": [],
   "source": [
    "config_text = text_format.MessageToString(pipeline_config)                                                                                                                                                                                                        \n",
    "with tf.io.gfile.GFile(files['PIPELINE_CONFIG'], \"wb\") as f:                                                                                                                                                                                                                     \n",
    "    f.write(config_text)   "
   ]
  },
  {
   "cell_type": "code",
   "execution_count": 30,
   "metadata": {
    "colab": {
     "base_uri": "https://localhost:8080/"
    },
    "id": "uQA13-afpfDF",
    "outputId": "907496a4-a39d-4b13-8c2c-e5978ecb1f10"
   },
   "outputs": [
    {
     "data": {
      "text/plain": [
       "model {\n",
       "  ssd {\n",
       "    num_classes: 4\n",
       "    image_resizer {\n",
       "      fixed_shape_resizer {\n",
       "        height: 320\n",
       "        width: 320\n",
       "      }\n",
       "    }\n",
       "    feature_extractor {\n",
       "      type: \"ssd_mobilenet_v2_fpn_keras\"\n",
       "      depth_multiplier: 1.0\n",
       "      min_depth: 16\n",
       "      conv_hyperparams {\n",
       "        regularizer {\n",
       "          l2_regularizer {\n",
       "            weight: 3.9999998989515007e-05\n",
       "          }\n",
       "        }\n",
       "        initializer {\n",
       "          random_normal_initializer {\n",
       "            mean: 0.0\n",
       "            stddev: 0.009999999776482582\n",
       "          }\n",
       "        }\n",
       "        activation: RELU_6\n",
       "        batch_norm {\n",
       "          decay: 0.996999979019165\n",
       "          scale: true\n",
       "          epsilon: 0.0010000000474974513\n",
       "        }\n",
       "      }\n",
       "      use_depthwise: true\n",
       "      override_base_feature_extractor_hyperparams: true\n",
       "      fpn {\n",
       "        min_level: 3\n",
       "        max_level: 7\n",
       "        additional_layer_depth: 128\n",
       "      }\n",
       "    }\n",
       "    box_coder {\n",
       "      faster_rcnn_box_coder {\n",
       "        y_scale: 10.0\n",
       "        x_scale: 10.0\n",
       "        height_scale: 5.0\n",
       "        width_scale: 5.0\n",
       "      }\n",
       "    }\n",
       "    matcher {\n",
       "      argmax_matcher {\n",
       "        matched_threshold: 0.5\n",
       "        unmatched_threshold: 0.5\n",
       "        ignore_thresholds: false\n",
       "        negatives_lower_than_unmatched: true\n",
       "        force_match_for_each_row: true\n",
       "        use_matmul_gather: true\n",
       "      }\n",
       "    }\n",
       "    similarity_calculator {\n",
       "      iou_similarity {\n",
       "      }\n",
       "    }\n",
       "    box_predictor {\n",
       "      weight_shared_convolutional_box_predictor {\n",
       "        conv_hyperparams {\n",
       "          regularizer {\n",
       "            l2_regularizer {\n",
       "              weight: 3.9999998989515007e-05\n",
       "            }\n",
       "          }\n",
       "          initializer {\n",
       "            random_normal_initializer {\n",
       "              mean: 0.0\n",
       "              stddev: 0.009999999776482582\n",
       "            }\n",
       "          }\n",
       "          activation: RELU_6\n",
       "          batch_norm {\n",
       "            decay: 0.996999979019165\n",
       "            scale: true\n",
       "            epsilon: 0.0010000000474974513\n",
       "          }\n",
       "        }\n",
       "        depth: 128\n",
       "        num_layers_before_predictor: 4\n",
       "        kernel_size: 3\n",
       "        class_prediction_bias_init: -4.599999904632568\n",
       "        share_prediction_tower: true\n",
       "        use_depthwise: true\n",
       "      }\n",
       "    }\n",
       "    anchor_generator {\n",
       "      multiscale_anchor_generator {\n",
       "        min_level: 3\n",
       "        max_level: 7\n",
       "        anchor_scale: 4.0\n",
       "        aspect_ratios: 1.0\n",
       "        aspect_ratios: 2.0\n",
       "        aspect_ratios: 0.5\n",
       "        scales_per_octave: 2\n",
       "      }\n",
       "    }\n",
       "    post_processing {\n",
       "      batch_non_max_suppression {\n",
       "        score_threshold: 9.99999993922529e-09\n",
       "        iou_threshold: 0.6000000238418579\n",
       "        max_detections_per_class: 100\n",
       "        max_total_detections: 100\n",
       "        use_static_shapes: false\n",
       "      }\n",
       "      score_converter: SIGMOID\n",
       "    }\n",
       "    normalize_loss_by_num_matches: true\n",
       "    loss {\n",
       "      localization_loss {\n",
       "        weighted_smooth_l1 {\n",
       "        }\n",
       "      }\n",
       "      classification_loss {\n",
       "        weighted_sigmoid_focal {\n",
       "          gamma: 2.0\n",
       "          alpha: 0.25\n",
       "        }\n",
       "      }\n",
       "      classification_weight: 1.0\n",
       "      localization_weight: 1.0\n",
       "    }\n",
       "    encode_background_as_zeros: true\n",
       "    normalize_loc_loss_by_codesize: true\n",
       "    inplace_batchnorm_update: true\n",
       "    freeze_batchnorm: false\n",
       "  }\n",
       "}\n",
       "train_config {\n",
       "  batch_size: 4\n",
       "  data_augmentation_options {\n",
       "    random_horizontal_flip {\n",
       "    }\n",
       "  }\n",
       "  data_augmentation_options {\n",
       "    random_crop_image {\n",
       "      min_object_covered: 0.0\n",
       "      min_aspect_ratio: 0.75\n",
       "      max_aspect_ratio: 3.0\n",
       "      min_area: 0.75\n",
       "      max_area: 1.0\n",
       "      overlap_thresh: 0.0\n",
       "    }\n",
       "  }\n",
       "  sync_replicas: true\n",
       "  optimizer {\n",
       "    momentum_optimizer {\n",
       "      learning_rate {\n",
       "        cosine_decay_learning_rate {\n",
       "          learning_rate_base: 0.07999999821186066\n",
       "          total_steps: 50000\n",
       "          warmup_learning_rate: 0.026666000485420227\n",
       "          warmup_steps: 1000\n",
       "        }\n",
       "      }\n",
       "      momentum_optimizer_value: 0.8999999761581421\n",
       "    }\n",
       "    use_moving_average: false\n",
       "  }\n",
       "  fine_tune_checkpoint: \"Tensorflow/workspace/pre-trained-models/ssd_mobilenet_v2_fpnlite_320x320_coco17_tpu-8/checkpoint/ckpt-0\"\n",
       "  num_steps: 50000\n",
       "  startup_delay_steps: 0.0\n",
       "  replicas_to_aggregate: 8\n",
       "  max_number_of_boxes: 100\n",
       "  unpad_groundtruth_tensors: false\n",
       "  fine_tune_checkpoint_type: \"detection\"\n",
       "  fine_tune_checkpoint_version: V2\n",
       "}\n",
       "train_input_reader {\n",
       "  label_map_path: \"Tensorflow/workspace/annotations/label_map.pbtxt\"\n",
       "  tf_record_input_reader {\n",
       "    input_path: \"Tensorflow/workspace/annotations/train.record\"\n",
       "  }\n",
       "}\n",
       "eval_config {\n",
       "  metrics_set: \"coco_detection_metrics\"\n",
       "  use_moving_averages: false\n",
       "}\n",
       "eval_input_reader {\n",
       "  label_map_path: \"Tensorflow/workspace/annotations/label_map.pbtxt\"\n",
       "  shuffle: false\n",
       "  num_epochs: 1\n",
       "  tf_record_input_reader {\n",
       "    input_path: \"Tensorflow/workspace/annotations/test.record\"\n",
       "  }\n",
       "}"
      ]
     },
     "execution_count": 30,
     "metadata": {},
     "output_type": "execute_result"
    }
   ],
   "source": [
    "pipeline_config"
   ]
  },
  {
   "cell_type": "markdown",
   "metadata": {
    "id": "Zr3ON7xMpfDG"
   },
   "source": [
    "# 6. Train the model"
   ]
  },
  {
   "cell_type": "code",
   "execution_count": 31,
   "metadata": {
    "id": "B-Y2UQmQpfDG"
   },
   "outputs": [],
   "source": [
    "TRAINING_SCRIPT = os.path.join(paths['APIMODEL_PATH'], 'research', 'object_detection', 'model_main_tf2.py')"
   ]
  },
  {
   "cell_type": "code",
   "execution_count": 32,
   "metadata": {
    "id": "jMP2XDfQpfDH"
   },
   "outputs": [],
   "source": [
    "command = \"python {} --model_dir={} --pipeline_config_path={} --num_train_steps=2500\".format(TRAINING_SCRIPT, paths['CHECKPOINT_PATH'],files['PIPELINE_CONFIG'])\n"
   ]
  },
  {
   "cell_type": "code",
   "execution_count": 33,
   "metadata": {
    "colab": {
     "base_uri": "https://localhost:8080/"
    },
    "id": "A4OXXi-ApfDH",
    "outputId": "117a0e83-012b-466e-b7a6-ccaa349ac5ab"
   },
   "outputs": [
    {
     "name": "stdout",
     "output_type": "stream",
     "text": [
      "python Tensorflow/models/research/object_detection/model_main_tf2.py --model_dir=Tensorflow/workspace/models/my_ssd_mobnet_tuned --pipeline_config_path=Tensorflow/workspace/models/my_ssd_mobnet_tuned/pipeline.config --num_train_steps=2500\n"
     ]
    }
   ],
   "source": [
    "print(command)"
   ]
  },
  {
   "cell_type": "code",
   "execution_count": 34,
   "metadata": {
    "colab": {
     "base_uri": "https://localhost:8080/"
    },
    "id": "i3ZsJR-qpfDH",
    "outputId": "cabec5e1-45e6-4f2f-d9cf-297d9c1d0225",
    "scrolled": true
   },
   "outputs": [
    {
     "name": "stdout",
     "output_type": "stream",
     "text": [
      "2021-06-13 02:02:19.952276: I tensorflow/core/platform/cpu_feature_guard.cc:142] This TensorFlow binary is optimized with oneAPI Deep Neural Network Library (oneDNN) to use the following CPU instructions in performance-critical operations:  AVX2 FMA\n",
      "To enable them in other operations, rebuild TensorFlow with the appropriate compiler flags.\n",
      "WARNING:tensorflow:There are non-GPU devices in `tf.distribute.Strategy`, not using nccl allreduce.\n",
      "W0613 02:02:19.954020 4711265728 cross_device_ops.py:1387] There are non-GPU devices in `tf.distribute.Strategy`, not using nccl allreduce.\n",
      "WARNING:tensorflow:Collective ops is not configured at program startup. Some performance features may not be enabled.\n",
      "W0613 02:02:19.954446 4711265728 mirrored_strategy.py:379] Collective ops is not configured at program startup. Some performance features may not be enabled.\n",
      "INFO:tensorflow:Using MirroredStrategy with devices ('/job:localhost/replica:0/task:0/device:CPU:0',)\n",
      "I0613 02:02:19.958795 4711265728 mirrored_strategy.py:369] Using MirroredStrategy with devices ('/job:localhost/replica:0/task:0/device:CPU:0',)\n",
      "INFO:tensorflow:Maybe overwriting train_steps: 2500\n",
      "I0613 02:02:19.967461 4711265728 config_util.py:552] Maybe overwriting train_steps: 2500\n",
      "INFO:tensorflow:Maybe overwriting use_bfloat16: False\n",
      "I0613 02:02:19.967700 4711265728 config_util.py:552] Maybe overwriting use_bfloat16: False\n",
      "WARNING:tensorflow:From /Users/AlanZhu/Desktop/OD/TFODCourse/tfod/lib/python3.7/site-packages/object_detection/model_lib_v2.py:558: StrategyBase.experimental_distribute_datasets_from_function (from tensorflow.python.distribute.distribute_lib) is deprecated and will be removed in a future version.\n",
      "Instructions for updating:\n",
      "rename to distribute_datasets_from_function\n",
      "W0613 02:02:20.105488 4711265728 deprecation.py:336] From /Users/AlanZhu/Desktop/OD/TFODCourse/tfod/lib/python3.7/site-packages/object_detection/model_lib_v2.py:558: StrategyBase.experimental_distribute_datasets_from_function (from tensorflow.python.distribute.distribute_lib) is deprecated and will be removed in a future version.\n",
      "Instructions for updating:\n",
      "rename to distribute_datasets_from_function\n",
      "INFO:tensorflow:Reading unweighted datasets: ['Tensorflow/workspace/annotations/train.record']\n",
      "I0613 02:02:20.111495 4711265728 dataset_builder.py:163] Reading unweighted datasets: ['Tensorflow/workspace/annotations/train.record']\n",
      "INFO:tensorflow:Reading record datasets for input file: ['Tensorflow/workspace/annotations/train.record']\n",
      "I0613 02:02:20.111759 4711265728 dataset_builder.py:80] Reading record datasets for input file: ['Tensorflow/workspace/annotations/train.record']\n",
      "INFO:tensorflow:Number of filenames to read: 1\n",
      "I0613 02:02:20.111878 4711265728 dataset_builder.py:81] Number of filenames to read: 1\n",
      "WARNING:tensorflow:num_readers has been reduced to 1 to match input file shards.\n",
      "W0613 02:02:20.112072 4711265728 dataset_builder.py:88] num_readers has been reduced to 1 to match input file shards.\n",
      "WARNING:tensorflow:From /Users/AlanZhu/Desktop/OD/TFODCourse/tfod/lib/python3.7/site-packages/object_detection/builders/dataset_builder.py:105: parallel_interleave (from tensorflow.python.data.experimental.ops.interleave_ops) is deprecated and will be removed in a future version.\n",
      "Instructions for updating:\n",
      "Use `tf.data.Dataset.interleave(map_func, cycle_length, block_length, num_parallel_calls=tf.data.AUTOTUNE)` instead. If sloppy execution is desired, use `tf.data.Options.experimental_deterministic`.\n",
      "W0613 02:02:20.116679 4711265728 deprecation.py:336] From /Users/AlanZhu/Desktop/OD/TFODCourse/tfod/lib/python3.7/site-packages/object_detection/builders/dataset_builder.py:105: parallel_interleave (from tensorflow.python.data.experimental.ops.interleave_ops) is deprecated and will be removed in a future version.\n",
      "Instructions for updating:\n",
      "Use `tf.data.Dataset.interleave(map_func, cycle_length, block_length, num_parallel_calls=tf.data.AUTOTUNE)` instead. If sloppy execution is desired, use `tf.data.Options.experimental_deterministic`.\n",
      "WARNING:tensorflow:From /Users/AlanZhu/Desktop/OD/TFODCourse/tfod/lib/python3.7/site-packages/object_detection/builders/dataset_builder.py:237: DatasetV1.map_with_legacy_function (from tensorflow.python.data.ops.dataset_ops) is deprecated and will be removed in a future version.\n",
      "Instructions for updating:\n",
      "Use `tf.data.Dataset.map()\n",
      "W0613 02:02:20.155314 4711265728 deprecation.py:336] From /Users/AlanZhu/Desktop/OD/TFODCourse/tfod/lib/python3.7/site-packages/object_detection/builders/dataset_builder.py:237: DatasetV1.map_with_legacy_function (from tensorflow.python.data.ops.dataset_ops) is deprecated and will be removed in a future version.\n",
      "Instructions for updating:\n",
      "Use `tf.data.Dataset.map()\n",
      "WARNING:tensorflow:From /Users/AlanZhu/Desktop/OD/TFODCourse/tfod/lib/python3.7/site-packages/tensorflow/python/util/dispatch.py:206: sparse_to_dense (from tensorflow.python.ops.sparse_ops) is deprecated and will be removed in a future version.\n",
      "Instructions for updating:\n",
      "Create a `tf.sparse.SparseTensor` and use `tf.sparse.to_dense` instead.\n",
      "W0613 02:02:28.179203 4711265728 deprecation.py:336] From /Users/AlanZhu/Desktop/OD/TFODCourse/tfod/lib/python3.7/site-packages/tensorflow/python/util/dispatch.py:206: sparse_to_dense (from tensorflow.python.ops.sparse_ops) is deprecated and will be removed in a future version.\n",
      "Instructions for updating:\n",
      "Create a `tf.sparse.SparseTensor` and use `tf.sparse.to_dense` instead.\n",
      "WARNING:tensorflow:From /Users/AlanZhu/Desktop/OD/TFODCourse/tfod/lib/python3.7/site-packages/tensorflow/python/util/dispatch.py:206: sample_distorted_bounding_box (from tensorflow.python.ops.image_ops_impl) is deprecated and will be removed in a future version.\n",
      "Instructions for updating:\n",
      "`seed2` arg is deprecated.Use sample_distorted_bounding_box_v2 instead.\n",
      "W0613 02:02:32.055816 4711265728 deprecation.py:336] From /Users/AlanZhu/Desktop/OD/TFODCourse/tfod/lib/python3.7/site-packages/tensorflow/python/util/dispatch.py:206: sample_distorted_bounding_box (from tensorflow.python.ops.image_ops_impl) is deprecated and will be removed in a future version.\n",
      "Instructions for updating:\n",
      "`seed2` arg is deprecated.Use sample_distorted_bounding_box_v2 instead.\n",
      "WARNING:tensorflow:From /Users/AlanZhu/Desktop/OD/TFODCourse/tfod/lib/python3.7/site-packages/tensorflow/python/autograph/impl/api.py:464: to_float (from tensorflow.python.ops.math_ops) is deprecated and will be removed in a future version.\n",
      "Instructions for updating:\n",
      "Use `tf.cast` instead.\n",
      "W0613 02:02:34.174942 4711265728 deprecation.py:336] From /Users/AlanZhu/Desktop/OD/TFODCourse/tfod/lib/python3.7/site-packages/tensorflow/python/autograph/impl/api.py:464: to_float (from tensorflow.python.ops.math_ops) is deprecated and will be removed in a future version.\n",
      "Instructions for updating:\n",
      "Use `tf.cast` instead.\n",
      "2021-06-13 02:02:37.069923: I tensorflow/compiler/mlir/mlir_graph_optimization_pass.cc:176] None of the MLIR Optimization Passes are enabled (registered 2)\n",
      "/Users/AlanZhu/Desktop/OD/TFODCourse/tfod/lib/python3.7/site-packages/tensorflow/python/keras/backend.py:435: UserWarning: `tf.keras.backend.set_learning_phase` is deprecated and will be removed after 2020-10-11. To update it, simply pass a True/False value to the `training` argument of the `__call__` method of your layer or model.\n",
      "  warnings.warn('`tf.keras.backend.set_learning_phase` is deprecated and '\n",
      "WARNING:tensorflow:From /Users/AlanZhu/Desktop/OD/TFODCourse/tfod/lib/python3.7/site-packages/tensorflow/python/util/deprecation.py:602: calling map_fn_v2 (from tensorflow.python.ops.map_fn) with dtype is deprecated and will be removed in a future version.\n",
      "Instructions for updating:\n",
      "Use fn_output_signature instead\n",
      "W0613 02:03:06.943989 123145385566208 deprecation.py:534] From /Users/AlanZhu/Desktop/OD/TFODCourse/tfod/lib/python3.7/site-packages/tensorflow/python/util/deprecation.py:602: calling map_fn_v2 (from tensorflow.python.ops.map_fn) with dtype is deprecated and will be removed in a future version.\n",
      "Instructions for updating:\n",
      "Use fn_output_signature instead\n",
      "INFO:tensorflow:Step 100 per-step time 2.413s\n",
      "I0613 02:07:07.617282 4711265728 model_lib_v2.py:700] Step 100 per-step time 2.413s\n",
      "INFO:tensorflow:{'Loss/classification_loss': 0.28361246,\n",
      " 'Loss/localization_loss': 0.2243958,\n",
      " 'Loss/regularization_loss': 0.15434039,\n",
      " 'Loss/total_loss': 0.6623486,\n",
      " 'learning_rate': 0.0319994}\n",
      "I0613 02:07:07.619242 4711265728 model_lib_v2.py:701] {'Loss/classification_loss': 0.28361246,\n",
      " 'Loss/localization_loss': 0.2243958,\n",
      " 'Loss/regularization_loss': 0.15434039,\n",
      " 'Loss/total_loss': 0.6623486,\n",
      " 'learning_rate': 0.0319994}\n"
     ]
    },
    {
     "name": "stdout",
     "output_type": "stream",
     "text": [
      "INFO:tensorflow:Step 200 per-step time 1.898s\n",
      "I0613 02:10:17.449383 4711265728 model_lib_v2.py:700] Step 200 per-step time 1.898s\n",
      "INFO:tensorflow:{'Loss/classification_loss': 0.19848153,\n",
      " 'Loss/localization_loss': 0.21989653,\n",
      " 'Loss/regularization_loss': 0.15443517,\n",
      " 'Loss/total_loss': 0.5728133,\n",
      " 'learning_rate': 0.0373328}\n",
      "I0613 02:10:17.449630 4711265728 model_lib_v2.py:701] {'Loss/classification_loss': 0.19848153,\n",
      " 'Loss/localization_loss': 0.21989653,\n",
      " 'Loss/regularization_loss': 0.15443517,\n",
      " 'Loss/total_loss': 0.5728133,\n",
      " 'learning_rate': 0.0373328}\n",
      "INFO:tensorflow:Step 300 per-step time 1.910s\n",
      "I0613 02:13:28.477556 4711265728 model_lib_v2.py:700] Step 300 per-step time 1.910s\n",
      "INFO:tensorflow:{'Loss/classification_loss': 0.13709477,\n",
      " 'Loss/localization_loss': 0.12537172,\n",
      " 'Loss/regularization_loss': 0.1543587,\n",
      " 'Loss/total_loss': 0.4168252,\n",
      " 'learning_rate': 0.0426662}\n",
      "I0613 02:13:28.477893 4711265728 model_lib_v2.py:701] {'Loss/classification_loss': 0.13709477,\n",
      " 'Loss/localization_loss': 0.12537172,\n",
      " 'Loss/regularization_loss': 0.1543587,\n",
      " 'Loss/total_loss': 0.4168252,\n",
      " 'learning_rate': 0.0426662}\n",
      "INFO:tensorflow:Step 400 per-step time 1.895s\n",
      "I0613 02:16:38.018280 4711265728 model_lib_v2.py:700] Step 400 per-step time 1.895s\n",
      "INFO:tensorflow:{'Loss/classification_loss': 0.12490578,\n",
      " 'Loss/localization_loss': 0.07150345,\n",
      " 'Loss/regularization_loss': 0.15420532,\n",
      " 'Loss/total_loss': 0.35061455,\n",
      " 'learning_rate': 0.047999598}\n",
      "I0613 02:16:38.018532 4711265728 model_lib_v2.py:701] {'Loss/classification_loss': 0.12490578,\n",
      " 'Loss/localization_loss': 0.07150345,\n",
      " 'Loss/regularization_loss': 0.15420532,\n",
      " 'Loss/total_loss': 0.35061455,\n",
      " 'learning_rate': 0.047999598}\n",
      "INFO:tensorflow:Step 500 per-step time 1.904s\n",
      "I0613 02:19:48.449194 4711265728 model_lib_v2.py:700] Step 500 per-step time 1.904s\n",
      "INFO:tensorflow:{'Loss/classification_loss': 0.1467767,\n",
      " 'Loss/localization_loss': 0.14068364,\n",
      " 'Loss/regularization_loss': 0.15391241,\n",
      " 'Loss/total_loss': 0.44137275,\n",
      " 'learning_rate': 0.053333}\n",
      "I0613 02:19:48.449467 4711265728 model_lib_v2.py:701] {'Loss/classification_loss': 0.1467767,\n",
      " 'Loss/localization_loss': 0.14068364,\n",
      " 'Loss/regularization_loss': 0.15391241,\n",
      " 'Loss/total_loss': 0.44137275,\n",
      " 'learning_rate': 0.053333}\n",
      "INFO:tensorflow:Step 600 per-step time 1.900s\n",
      "I0613 02:22:58.420529 4711265728 model_lib_v2.py:700] Step 600 per-step time 1.900s\n",
      "INFO:tensorflow:{'Loss/classification_loss': 0.12801778,\n",
      " 'Loss/localization_loss': 0.08787627,\n",
      " 'Loss/regularization_loss': 0.15360844,\n",
      " 'Loss/total_loss': 0.36950248,\n",
      " 'learning_rate': 0.0586664}\n",
      "I0613 02:22:58.420814 4711265728 model_lib_v2.py:701] {'Loss/classification_loss': 0.12801778,\n",
      " 'Loss/localization_loss': 0.08787627,\n",
      " 'Loss/regularization_loss': 0.15360844,\n",
      " 'Loss/total_loss': 0.36950248,\n",
      " 'learning_rate': 0.0586664}\n",
      "INFO:tensorflow:Step 700 per-step time 1.893s\n",
      "I0613 02:26:07.732234 4711265728 model_lib_v2.py:700] Step 700 per-step time 1.893s\n",
      "INFO:tensorflow:{'Loss/classification_loss': 0.18576163,\n",
      " 'Loss/localization_loss': 0.16657013,\n",
      " 'Loss/regularization_loss': 0.15333667,\n",
      " 'Loss/total_loss': 0.5056684,\n",
      " 'learning_rate': 0.0639998}\n",
      "I0613 02:26:07.732502 4711265728 model_lib_v2.py:701] {'Loss/classification_loss': 0.18576163,\n",
      " 'Loss/localization_loss': 0.16657013,\n",
      " 'Loss/regularization_loss': 0.15333667,\n",
      " 'Loss/total_loss': 0.5056684,\n",
      " 'learning_rate': 0.0639998}\n",
      "INFO:tensorflow:Step 800 per-step time 1.889s\n",
      "I0613 02:29:16.617815 4711265728 model_lib_v2.py:700] Step 800 per-step time 1.889s\n",
      "INFO:tensorflow:{'Loss/classification_loss': 0.11147961,\n",
      " 'Loss/localization_loss': 0.05353758,\n",
      " 'Loss/regularization_loss': 0.1529488,\n",
      " 'Loss/total_loss': 0.31796598,\n",
      " 'learning_rate': 0.069333196}\n",
      "I0613 02:29:16.618129 4711265728 model_lib_v2.py:701] {'Loss/classification_loss': 0.11147961,\n",
      " 'Loss/localization_loss': 0.05353758,\n",
      " 'Loss/regularization_loss': 0.1529488,\n",
      " 'Loss/total_loss': 0.31796598,\n",
      " 'learning_rate': 0.069333196}\n",
      "INFO:tensorflow:Step 900 per-step time 1.905s\n",
      "I0613 02:32:27.143646 4711265728 model_lib_v2.py:700] Step 900 per-step time 1.905s\n",
      "INFO:tensorflow:{'Loss/classification_loss': 0.12502952,\n",
      " 'Loss/localization_loss': 0.08323094,\n",
      " 'Loss/regularization_loss': 0.1525687,\n",
      " 'Loss/total_loss': 0.36082917,\n",
      " 'learning_rate': 0.074666604}\n",
      "I0613 02:32:27.143949 4711265728 model_lib_v2.py:701] {'Loss/classification_loss': 0.12502952,\n",
      " 'Loss/localization_loss': 0.08323094,\n",
      " 'Loss/regularization_loss': 0.1525687,\n",
      " 'Loss/total_loss': 0.36082917,\n",
      " 'learning_rate': 0.074666604}\n",
      "INFO:tensorflow:Step 1000 per-step time 1.896s\n",
      "I0613 02:35:36.747209 4711265728 model_lib_v2.py:700] Step 1000 per-step time 1.896s\n",
      "INFO:tensorflow:{'Loss/classification_loss': 0.14537469,\n",
      " 'Loss/localization_loss': 0.1376585,\n",
      " 'Loss/regularization_loss': 0.15216623,\n",
      " 'Loss/total_loss': 0.4351994,\n",
      " 'learning_rate': 0.08}\n",
      "I0613 02:35:36.747478 4711265728 model_lib_v2.py:701] {'Loss/classification_loss': 0.14537469,\n",
      " 'Loss/localization_loss': 0.1376585,\n",
      " 'Loss/regularization_loss': 0.15216623,\n",
      " 'Loss/total_loss': 0.4351994,\n",
      " 'learning_rate': 0.08}\n",
      "INFO:tensorflow:Step 1100 per-step time 1.906s\n",
      "I0613 02:38:47.349751 4711265728 model_lib_v2.py:700] Step 1100 per-step time 1.906s\n",
      "INFO:tensorflow:{'Loss/classification_loss': 0.14791453,\n",
      " 'Loss/localization_loss': 0.0440812,\n",
      " 'Loss/regularization_loss': 0.15167734,\n",
      " 'Loss/total_loss': 0.34367305,\n",
      " 'learning_rate': 0.07999918}\n",
      "I0613 02:38:47.350064 4711265728 model_lib_v2.py:701] {'Loss/classification_loss': 0.14791453,\n",
      " 'Loss/localization_loss': 0.0440812,\n",
      " 'Loss/regularization_loss': 0.15167734,\n",
      " 'Loss/total_loss': 0.34367305,\n",
      " 'learning_rate': 0.07999918}\n",
      "INFO:tensorflow:Step 1200 per-step time 1.891s\n",
      "I0613 02:41:56.443701 4711265728 model_lib_v2.py:700] Step 1200 per-step time 1.891s\n",
      "INFO:tensorflow:{'Loss/classification_loss': 0.0716603,\n",
      " 'Loss/localization_loss': 0.04743017,\n",
      " 'Loss/regularization_loss': 0.15118285,\n",
      " 'Loss/total_loss': 0.27027333,\n",
      " 'learning_rate': 0.079996705}\n",
      "I0613 02:41:56.443948 4711265728 model_lib_v2.py:701] {'Loss/classification_loss': 0.0716603,\n",
      " 'Loss/localization_loss': 0.04743017,\n",
      " 'Loss/regularization_loss': 0.15118285,\n",
      " 'Loss/total_loss': 0.27027333,\n",
      " 'learning_rate': 0.079996705}\n",
      "INFO:tensorflow:Step 1300 per-step time 1.913s\n",
      "I0613 02:45:07.754319 4711265728 model_lib_v2.py:700] Step 1300 per-step time 1.913s\n",
      "INFO:tensorflow:{'Loss/classification_loss': 0.07850502,\n",
      " 'Loss/localization_loss': 0.028727887,\n",
      " 'Loss/regularization_loss': 0.1505378,\n",
      " 'Loss/total_loss': 0.25777072,\n",
      " 'learning_rate': 0.0799926}\n",
      "I0613 02:45:07.754732 4711265728 model_lib_v2.py:701] {'Loss/classification_loss': 0.07850502,\n",
      " 'Loss/localization_loss': 0.028727887,\n",
      " 'Loss/regularization_loss': 0.1505378,\n",
      " 'Loss/total_loss': 0.25777072,\n",
      " 'learning_rate': 0.0799926}\n",
      "INFO:tensorflow:Step 1400 per-step time 1.887s\n",
      "I0613 02:48:16.420989 4711265728 model_lib_v2.py:700] Step 1400 per-step time 1.887s\n",
      "INFO:tensorflow:{'Loss/classification_loss': 0.119952075,\n",
      " 'Loss/localization_loss': 0.051106818,\n",
      " 'Loss/regularization_loss': 0.15002258,\n",
      " 'Loss/total_loss': 0.3210815,\n",
      " 'learning_rate': 0.07998685}\n",
      "I0613 02:48:16.421258 4711265728 model_lib_v2.py:701] {'Loss/classification_loss': 0.119952075,\n",
      " 'Loss/localization_loss': 0.051106818,\n",
      " 'Loss/regularization_loss': 0.15002258,\n",
      " 'Loss/total_loss': 0.3210815,\n",
      " 'learning_rate': 0.07998685}\n",
      "INFO:tensorflow:Step 1500 per-step time 1.872s\n",
      "I0613 02:51:23.630556 4711265728 model_lib_v2.py:700] Step 1500 per-step time 1.872s\n",
      "INFO:tensorflow:{'Loss/classification_loss': 0.058028363,\n",
      " 'Loss/localization_loss': 0.044721898,\n",
      " 'Loss/regularization_loss': 0.14931908,\n",
      " 'Loss/total_loss': 0.25206935,\n",
      " 'learning_rate': 0.07997945}\n",
      "I0613 02:51:23.630805 4711265728 model_lib_v2.py:701] {'Loss/classification_loss': 0.058028363,\n",
      " 'Loss/localization_loss': 0.044721898,\n",
      " 'Loss/regularization_loss': 0.14931908,\n",
      " 'Loss/total_loss': 0.25206935,\n",
      " 'learning_rate': 0.07997945}\n",
      "INFO:tensorflow:Step 1600 per-step time 1.860s\n",
      "I0613 02:54:29.668426 4711265728 model_lib_v2.py:700] Step 1600 per-step time 1.860s\n",
      "INFO:tensorflow:{'Loss/classification_loss': 0.14404458,\n",
      " 'Loss/localization_loss': 0.038853165,\n",
      " 'Loss/regularization_loss': 0.14866129,\n",
      " 'Loss/total_loss': 0.33155903,\n",
      " 'learning_rate': 0.079970405}\n",
      "I0613 02:54:29.668920 4711265728 model_lib_v2.py:701] {'Loss/classification_loss': 0.14404458,\n",
      " 'Loss/localization_loss': 0.038853165,\n",
      " 'Loss/regularization_loss': 0.14866129,\n",
      " 'Loss/total_loss': 0.33155903,\n",
      " 'learning_rate': 0.079970405}\n"
     ]
    },
    {
     "name": "stdout",
     "output_type": "stream",
     "text": [
      "INFO:tensorflow:Step 1700 per-step time 1.864s\n",
      "I0613 02:57:36.035162 4711265728 model_lib_v2.py:700] Step 1700 per-step time 1.864s\n",
      "INFO:tensorflow:{'Loss/classification_loss': 0.12653916,\n",
      " 'Loss/localization_loss': 0.031696368,\n",
      " 'Loss/regularization_loss': 0.14804712,\n",
      " 'Loss/total_loss': 0.30628264,\n",
      " 'learning_rate': 0.07995972}\n",
      "I0613 02:57:36.035407 4711265728 model_lib_v2.py:701] {'Loss/classification_loss': 0.12653916,\n",
      " 'Loss/localization_loss': 0.031696368,\n",
      " 'Loss/regularization_loss': 0.14804712,\n",
      " 'Loss/total_loss': 0.30628264,\n",
      " 'learning_rate': 0.07995972}\n",
      "INFO:tensorflow:Step 1800 per-step time 1.852s\n",
      "I0613 03:00:41.267797 4711265728 model_lib_v2.py:700] Step 1800 per-step time 1.852s\n",
      "INFO:tensorflow:{'Loss/classification_loss': 0.10287357,\n",
      " 'Loss/localization_loss': 0.0400195,\n",
      " 'Loss/regularization_loss': 0.14731534,\n",
      " 'Loss/total_loss': 0.2902084,\n",
      " 'learning_rate': 0.0799474}\n",
      "I0613 03:00:41.268087 4711265728 model_lib_v2.py:701] {'Loss/classification_loss': 0.10287357,\n",
      " 'Loss/localization_loss': 0.0400195,\n",
      " 'Loss/regularization_loss': 0.14731534,\n",
      " 'Loss/total_loss': 0.2902084,\n",
      " 'learning_rate': 0.0799474}\n",
      "INFO:tensorflow:Step 1900 per-step time 1.887s\n",
      "I0613 03:03:49.985450 4711265728 model_lib_v2.py:700] Step 1900 per-step time 1.887s\n",
      "INFO:tensorflow:{'Loss/classification_loss': 0.08814212,\n",
      " 'Loss/localization_loss': 0.033043124,\n",
      " 'Loss/regularization_loss': 0.14663842,\n",
      " 'Loss/total_loss': 0.26782367,\n",
      " 'learning_rate': 0.07993342}\n",
      "I0613 03:03:49.985826 4711265728 model_lib_v2.py:701] {'Loss/classification_loss': 0.08814212,\n",
      " 'Loss/localization_loss': 0.033043124,\n",
      " 'Loss/regularization_loss': 0.14663842,\n",
      " 'Loss/total_loss': 0.26782367,\n",
      " 'learning_rate': 0.07993342}\n",
      "INFO:tensorflow:Step 2000 per-step time 1.938s\n",
      "I0613 03:07:03.812355 4711265728 model_lib_v2.py:700] Step 2000 per-step time 1.938s\n",
      "INFO:tensorflow:{'Loss/classification_loss': 0.1177561,\n",
      " 'Loss/localization_loss': 0.08023798,\n",
      " 'Loss/regularization_loss': 0.14594527,\n",
      " 'Loss/total_loss': 0.34393933,\n",
      " 'learning_rate': 0.07991781}\n",
      "I0613 03:07:03.812792 4711265728 model_lib_v2.py:701] {'Loss/classification_loss': 0.1177561,\n",
      " 'Loss/localization_loss': 0.08023798,\n",
      " 'Loss/regularization_loss': 0.14594527,\n",
      " 'Loss/total_loss': 0.34393933,\n",
      " 'learning_rate': 0.07991781}\n",
      "INFO:tensorflow:Step 2100 per-step time 1.832s\n",
      "I0613 03:10:07.042874 4711265728 model_lib_v2.py:700] Step 2100 per-step time 1.832s\n",
      "INFO:tensorflow:{'Loss/classification_loss': 0.05750102,\n",
      " 'Loss/localization_loss': 0.05262984,\n",
      " 'Loss/regularization_loss': 0.14523603,\n",
      " 'Loss/total_loss': 0.2553669,\n",
      " 'learning_rate': 0.07990056}\n",
      "I0613 03:10:07.043124 4711265728 model_lib_v2.py:701] {'Loss/classification_loss': 0.05750102,\n",
      " 'Loss/localization_loss': 0.05262984,\n",
      " 'Loss/regularization_loss': 0.14523603,\n",
      " 'Loss/total_loss': 0.2553669,\n",
      " 'learning_rate': 0.07990056}\n",
      "INFO:tensorflow:Step 2200 per-step time 1.873s\n",
      "I0613 03:13:14.312572 4711265728 model_lib_v2.py:700] Step 2200 per-step time 1.873s\n",
      "INFO:tensorflow:{'Loss/classification_loss': 0.08541283,\n",
      " 'Loss/localization_loss': 0.0278897,\n",
      " 'Loss/regularization_loss': 0.14451683,\n",
      " 'Loss/total_loss': 0.25781935,\n",
      " 'learning_rate': 0.07988167}\n",
      "I0613 03:13:14.312825 4711265728 model_lib_v2.py:701] {'Loss/classification_loss': 0.08541283,\n",
      " 'Loss/localization_loss': 0.0278897,\n",
      " 'Loss/regularization_loss': 0.14451683,\n",
      " 'Loss/total_loss': 0.25781935,\n",
      " 'learning_rate': 0.07988167}\n",
      "INFO:tensorflow:Step 2300 per-step time 1.856s\n",
      "I0613 03:16:19.880655 4711265728 model_lib_v2.py:700] Step 2300 per-step time 1.856s\n",
      "INFO:tensorflow:{'Loss/classification_loss': 0.077495635,\n",
      " 'Loss/localization_loss': 0.021522863,\n",
      " 'Loss/regularization_loss': 0.14375076,\n",
      " 'Loss/total_loss': 0.24276926,\n",
      " 'learning_rate': 0.07986114}\n",
      "I0613 03:16:19.880928 4711265728 model_lib_v2.py:701] {'Loss/classification_loss': 0.077495635,\n",
      " 'Loss/localization_loss': 0.021522863,\n",
      " 'Loss/regularization_loss': 0.14375076,\n",
      " 'Loss/total_loss': 0.24276926,\n",
      " 'learning_rate': 0.07986114}\n",
      "INFO:tensorflow:Step 2400 per-step time 1.819s\n",
      "I0613 03:19:21.796097 4711265728 model_lib_v2.py:700] Step 2400 per-step time 1.819s\n",
      "INFO:tensorflow:{'Loss/classification_loss': 0.07137852,\n",
      " 'Loss/localization_loss': 0.051918164,\n",
      " 'Loss/regularization_loss': 0.14305049,\n",
      " 'Loss/total_loss': 0.26634717,\n",
      " 'learning_rate': 0.07983897}\n",
      "I0613 03:19:21.796554 4711265728 model_lib_v2.py:701] {'Loss/classification_loss': 0.07137852,\n",
      " 'Loss/localization_loss': 0.051918164,\n",
      " 'Loss/regularization_loss': 0.14305049,\n",
      " 'Loss/total_loss': 0.26634717,\n",
      " 'learning_rate': 0.07983897}\n",
      "INFO:tensorflow:Step 2500 per-step time 1.718s\n",
      "I0613 03:22:13.632318 4711265728 model_lib_v2.py:700] Step 2500 per-step time 1.718s\n",
      "INFO:tensorflow:{'Loss/classification_loss': 0.053038776,\n",
      " 'Loss/localization_loss': 0.015751453,\n",
      " 'Loss/regularization_loss': 0.14232399,\n",
      " 'Loss/total_loss': 0.21111421,\n",
      " 'learning_rate': 0.079815164}\n",
      "I0613 03:22:13.632580 4711265728 model_lib_v2.py:701] {'Loss/classification_loss': 0.053038776,\n",
      " 'Loss/localization_loss': 0.015751453,\n",
      " 'Loss/regularization_loss': 0.14232399,\n",
      " 'Loss/total_loss': 0.21111421,\n",
      " 'learning_rate': 0.079815164}\n"
     ]
    }
   ],
   "source": [
    "!{command}"
   ]
  },
  {
   "cell_type": "code",
   "execution_count": 35,
   "metadata": {},
   "outputs": [],
   "source": [
    "#trainning "
   ]
  },
  {
   "cell_type": "code",
   "execution_count": 36,
   "metadata": {},
   "outputs": [],
   "source": [
    "#trainning"
   ]
  },
  {
   "cell_type": "markdown",
   "metadata": {
    "id": "4_YRZu7npfDH"
   },
   "source": [
    "# 7. Evaluate the Model"
   ]
  },
  {
   "cell_type": "code",
   "execution_count": 37,
   "metadata": {
    "id": "80L7-fdPpfDH"
   },
   "outputs": [],
   "source": [
    "command = \"python {} --model_dir={} --pipeline_config_path={} --checkpoint_dir={}\".format(TRAINING_SCRIPT, paths['CHECKPOINT_PATH'],files['PIPELINE_CONFIG'], paths['CHECKPOINT_PATH'])"
   ]
  },
  {
   "cell_type": "code",
   "execution_count": 38,
   "metadata": {
    "colab": {
     "base_uri": "https://localhost:8080/"
    },
    "id": "lYsgEPx9pfDH",
    "outputId": "8632d48b-91d2-45d9-bcb8-c1b172bf6eed"
   },
   "outputs": [
    {
     "name": "stdout",
     "output_type": "stream",
     "text": [
      "python Tensorflow/models/research/object_detection/model_main_tf2.py --model_dir=Tensorflow/workspace/models/my_ssd_mobnet_tuned --pipeline_config_path=Tensorflow/workspace/models/my_ssd_mobnet_tuned/pipeline.config --checkpoint_dir=Tensorflow/workspace/models/my_ssd_mobnet_tuned\n"
     ]
    }
   ],
   "source": [
    "print(command)"
   ]
  },
  {
   "cell_type": "code",
   "execution_count": 39,
   "metadata": {
    "id": "lqTV2jGBpfDH",
    "scrolled": true
   },
   "outputs": [
    {
     "name": "stdout",
     "output_type": "stream",
     "text": [
      "WARNING:tensorflow:Forced number of epochs for all eval validations to be 1.\n",
      "W0613 03:22:22.174860 4512802240 model_lib_v2.py:1082] Forced number of epochs for all eval validations to be 1.\n",
      "INFO:tensorflow:Maybe overwriting sample_1_of_n_eval_examples: None\n",
      "I0613 03:22:22.175077 4512802240 config_util.py:552] Maybe overwriting sample_1_of_n_eval_examples: None\n",
      "INFO:tensorflow:Maybe overwriting use_bfloat16: False\n",
      "I0613 03:22:22.175152 4512802240 config_util.py:552] Maybe overwriting use_bfloat16: False\n",
      "INFO:tensorflow:Maybe overwriting eval_num_epochs: 1\n",
      "I0613 03:22:22.175251 4512802240 config_util.py:552] Maybe overwriting eval_num_epochs: 1\n",
      "WARNING:tensorflow:Expected number of evaluation epochs is 1, but instead encountered `eval_on_train_input_config.num_epochs` = 0. Overwriting `num_epochs` to 1.\n",
      "W0613 03:22:22.175397 4512802240 model_lib_v2.py:1103] Expected number of evaluation epochs is 1, but instead encountered `eval_on_train_input_config.num_epochs` = 0. Overwriting `num_epochs` to 1.\n",
      "2021-06-13 03:22:22.180050: I tensorflow/core/platform/cpu_feature_guard.cc:142] This TensorFlow binary is optimized with oneAPI Deep Neural Network Library (oneDNN) to use the following CPU instructions in performance-critical operations:  AVX2 FMA\n",
      "To enable them in other operations, rebuild TensorFlow with the appropriate compiler flags.\n",
      "INFO:tensorflow:Reading unweighted datasets: ['Tensorflow/workspace/annotations/test.record']\n",
      "I0613 03:22:22.283519 4512802240 dataset_builder.py:163] Reading unweighted datasets: ['Tensorflow/workspace/annotations/test.record']\n",
      "INFO:tensorflow:Reading record datasets for input file: ['Tensorflow/workspace/annotations/test.record']\n",
      "I0613 03:22:22.283717 4512802240 dataset_builder.py:80] Reading record datasets for input file: ['Tensorflow/workspace/annotations/test.record']\n",
      "INFO:tensorflow:Number of filenames to read: 1\n",
      "I0613 03:22:22.283791 4512802240 dataset_builder.py:81] Number of filenames to read: 1\n",
      "WARNING:tensorflow:num_readers has been reduced to 1 to match input file shards.\n",
      "W0613 03:22:22.283854 4512802240 dataset_builder.py:88] num_readers has been reduced to 1 to match input file shards.\n",
      "WARNING:tensorflow:From /Users/AlanZhu/Desktop/OD/TFODCourse/tfod/lib/python3.7/site-packages/object_detection/builders/dataset_builder.py:105: parallel_interleave (from tensorflow.python.data.experimental.ops.interleave_ops) is deprecated and will be removed in a future version.\n",
      "Instructions for updating:\n",
      "Use `tf.data.Dataset.interleave(map_func, cycle_length, block_length, num_parallel_calls=tf.data.AUTOTUNE)` instead. If sloppy execution is desired, use `tf.data.Options.experimental_deterministic`.\n",
      "W0613 03:22:22.286015 4512802240 deprecation.py:336] From /Users/AlanZhu/Desktop/OD/TFODCourse/tfod/lib/python3.7/site-packages/object_detection/builders/dataset_builder.py:105: parallel_interleave (from tensorflow.python.data.experimental.ops.interleave_ops) is deprecated and will be removed in a future version.\n",
      "Instructions for updating:\n",
      "Use `tf.data.Dataset.interleave(map_func, cycle_length, block_length, num_parallel_calls=tf.data.AUTOTUNE)` instead. If sloppy execution is desired, use `tf.data.Options.experimental_deterministic`.\n",
      "WARNING:tensorflow:From /Users/AlanZhu/Desktop/OD/TFODCourse/tfod/lib/python3.7/site-packages/object_detection/builders/dataset_builder.py:237: DatasetV1.map_with_legacy_function (from tensorflow.python.data.ops.dataset_ops) is deprecated and will be removed in a future version.\n",
      "Instructions for updating:\n",
      "Use `tf.data.Dataset.map()\n",
      "W0613 03:22:22.311408 4512802240 deprecation.py:336] From /Users/AlanZhu/Desktop/OD/TFODCourse/tfod/lib/python3.7/site-packages/object_detection/builders/dataset_builder.py:237: DatasetV1.map_with_legacy_function (from tensorflow.python.data.ops.dataset_ops) is deprecated and will be removed in a future version.\n",
      "Instructions for updating:\n",
      "Use `tf.data.Dataset.map()\n",
      "WARNING:tensorflow:From /Users/AlanZhu/Desktop/OD/TFODCourse/tfod/lib/python3.7/site-packages/tensorflow/python/util/dispatch.py:206: sparse_to_dense (from tensorflow.python.ops.sparse_ops) is deprecated and will be removed in a future version.\n",
      "Instructions for updating:\n",
      "Create a `tf.sparse.SparseTensor` and use `tf.sparse.to_dense` instead.\n",
      "W0613 03:22:26.758715 4512802240 deprecation.py:336] From /Users/AlanZhu/Desktop/OD/TFODCourse/tfod/lib/python3.7/site-packages/tensorflow/python/util/dispatch.py:206: sparse_to_dense (from tensorflow.python.ops.sparse_ops) is deprecated and will be removed in a future version.\n",
      "Instructions for updating:\n",
      "Create a `tf.sparse.SparseTensor` and use `tf.sparse.to_dense` instead.\n",
      "WARNING:tensorflow:From /Users/AlanZhu/Desktop/OD/TFODCourse/tfod/lib/python3.7/site-packages/tensorflow/python/autograph/impl/api.py:464: to_float (from tensorflow.python.ops.math_ops) is deprecated and will be removed in a future version.\n",
      "Instructions for updating:\n",
      "Use `tf.cast` instead.\n",
      "W0613 03:22:28.158936 4512802240 deprecation.py:336] From /Users/AlanZhu/Desktop/OD/TFODCourse/tfod/lib/python3.7/site-packages/tensorflow/python/autograph/impl/api.py:464: to_float (from tensorflow.python.ops.math_ops) is deprecated and will be removed in a future version.\n",
      "Instructions for updating:\n",
      "Use `tf.cast` instead.\n",
      "INFO:tensorflow:Waiting for new checkpoint at Tensorflow/workspace/models/my_ssd_mobnet_tuned\n",
      "I0613 03:22:31.436039 4512802240 checkpoint_utils.py:140] Waiting for new checkpoint at Tensorflow/workspace/models/my_ssd_mobnet_tuned\n",
      "INFO:tensorflow:Found new checkpoint at Tensorflow/workspace/models/my_ssd_mobnet_tuned/ckpt-3\n",
      "I0613 03:22:31.438158 4512802240 checkpoint_utils.py:149] Found new checkpoint at Tensorflow/workspace/models/my_ssd_mobnet_tuned/ckpt-3\n",
      "/Users/AlanZhu/Desktop/OD/TFODCourse/tfod/lib/python3.7/site-packages/tensorflow/python/keras/backend.py:435: UserWarning: `tf.keras.backend.set_learning_phase` is deprecated and will be removed after 2020-10-11. To update it, simply pass a True/False value to the `training` argument of the `__call__` method of your layer or model.\n",
      "  warnings.warn('`tf.keras.backend.set_learning_phase` is deprecated and '\n",
      "2021-06-13 03:22:31.608843: I tensorflow/compiler/mlir/mlir_graph_optimization_pass.cc:176] None of the MLIR Optimization Passes are enabled (registered 2)\n",
      "WARNING:tensorflow:From /Users/AlanZhu/Desktop/OD/TFODCourse/tfod/lib/python3.7/site-packages/object_detection/eval_util.py:929: to_int64 (from tensorflow.python.ops.math_ops) is deprecated and will be removed in a future version.\n",
      "Instructions for updating:\n",
      "Use `tf.cast` instead.\n",
      "W0613 03:22:59.535839 4512802240 deprecation.py:336] From /Users/AlanZhu/Desktop/OD/TFODCourse/tfod/lib/python3.7/site-packages/object_detection/eval_util.py:929: to_int64 (from tensorflow.python.ops.math_ops) is deprecated and will be removed in a future version.\n",
      "Instructions for updating:\n",
      "Use `tf.cast` instead.\n",
      "INFO:tensorflow:Finished eval step 0\n",
      "I0613 03:22:59.540996 4512802240 model_lib_v2.py:958] Finished eval step 0\n",
      "WARNING:tensorflow:From /Users/AlanZhu/Desktop/OD/TFODCourse/tfod/lib/python3.7/site-packages/tensorflow/python/autograph/impl/api.py:464: py_func (from tensorflow.python.ops.script_ops) is deprecated and will be removed in a future version.\n",
      "Instructions for updating:\n",
      "tf.py_func is deprecated in TF V2. Instead, there are two\n",
      "    options available in V2.\n",
      "    - tf.py_function takes a python function which manipulates tf eager\n",
      "    tensors instead of numpy arrays. It's easy to convert a tf eager tensor to\n",
      "    an ndarray (just call tensor.numpy()) but having access to eager tensors\n",
      "    means `tf.py_function`s can use accelerators such as GPUs as well as\n",
      "    being differentiable using a gradient tape.\n",
      "    - tf.numpy_function maintains the semantics of the deprecated tf.py_func\n",
      "    (it is not differentiable, and manipulates numpy arrays). It drops the\n",
      "    stateful argument making all functions stateful.\n",
      "    \n",
      "W0613 03:22:59.702213 4512802240 deprecation.py:336] From /Users/AlanZhu/Desktop/OD/TFODCourse/tfod/lib/python3.7/site-packages/tensorflow/python/autograph/impl/api.py:464: py_func (from tensorflow.python.ops.script_ops) is deprecated and will be removed in a future version.\n",
      "Instructions for updating:\n",
      "tf.py_func is deprecated in TF V2. Instead, there are two\n",
      "    options available in V2.\n",
      "    - tf.py_function takes a python function which manipulates tf eager\n",
      "    tensors instead of numpy arrays. It's easy to convert a tf eager tensor to\n",
      "    an ndarray (just call tensor.numpy()) but having access to eager tensors\n",
      "    means `tf.py_function`s can use accelerators such as GPUs as well as\n",
      "    being differentiable using a gradient tape.\n",
      "    - tf.numpy_function maintains the semantics of the deprecated tf.py_func\n",
      "    (it is not differentiable, and manipulates numpy arrays). It drops the\n",
      "    stateful argument making all functions stateful.\n",
      "    \n"
     ]
    },
    {
     "name": "stdout",
     "output_type": "stream",
     "text": [
      "INFO:tensorflow:Performing evaluation on 10 images.\n",
      "I0613 03:23:02.386351 4512802240 coco_evaluation.py:293] Performing evaluation on 10 images.\n",
      "creating index...\n",
      "index created!\n",
      "INFO:tensorflow:Loading and preparing annotation results...\n",
      "I0613 03:23:02.386660 4512802240 coco_tools.py:116] Loading and preparing annotation results...\n",
      "INFO:tensorflow:DONE (t=0.00s)\n",
      "I0613 03:23:02.387340 4512802240 coco_tools.py:138] DONE (t=0.00s)\n",
      "creating index...\n",
      "index created!\n",
      "Running per image evaluation...\n",
      "Evaluate annotation type *bbox*\n",
      "DONE (t=0.05s).\n",
      "Accumulating evaluation results...\n",
      "DONE (t=0.03s).\n",
      " Average Precision  (AP) @[ IoU=0.50:0.95 | area=   all | maxDets=100 ] = 0.647\n",
      " Average Precision  (AP) @[ IoU=0.50      | area=   all | maxDets=100 ] = 1.000\n",
      " Average Precision  (AP) @[ IoU=0.75      | area=   all | maxDets=100 ] = 0.680\n",
      " Average Precision  (AP) @[ IoU=0.50:0.95 | area= small | maxDets=100 ] = -1.000\n",
      " Average Precision  (AP) @[ IoU=0.50:0.95 | area=medium | maxDets=100 ] = -1.000\n",
      " Average Precision  (AP) @[ IoU=0.50:0.95 | area= large | maxDets=100 ] = 0.647\n",
      " Average Recall     (AR) @[ IoU=0.50:0.95 | area=   all | maxDets=  1 ] = 0.568\n",
      " Average Recall     (AR) @[ IoU=0.50:0.95 | area=   all | maxDets= 10 ] = 0.657\n",
      " Average Recall     (AR) @[ IoU=0.50:0.95 | area=   all | maxDets=100 ] = 0.657\n",
      " Average Recall     (AR) @[ IoU=0.50:0.95 | area= small | maxDets=100 ] = -1.000\n",
      " Average Recall     (AR) @[ IoU=0.50:0.95 | area=medium | maxDets=100 ] = -1.000\n",
      " Average Recall     (AR) @[ IoU=0.50:0.95 | area= large | maxDets=100 ] = 0.657\n",
      "INFO:tensorflow:Eval metrics at step 2000\n",
      "I0613 03:23:02.469530 4512802240 model_lib_v2.py:1007] Eval metrics at step 2000\n",
      "INFO:tensorflow:\t+ DetectionBoxes_Precision/mAP: 0.646548\n",
      "I0613 03:23:02.477472 4512802240 model_lib_v2.py:1010] \t+ DetectionBoxes_Precision/mAP: 0.646548\n",
      "INFO:tensorflow:\t+ DetectionBoxes_Precision/mAP@.50IOU: 1.000000\n",
      "I0613 03:23:02.478512 4512802240 model_lib_v2.py:1010] \t+ DetectionBoxes_Precision/mAP@.50IOU: 1.000000\n",
      "INFO:tensorflow:\t+ DetectionBoxes_Precision/mAP@.75IOU: 0.679868\n",
      "I0613 03:23:02.479166 4512802240 model_lib_v2.py:1010] \t+ DetectionBoxes_Precision/mAP@.75IOU: 0.679868\n",
      "INFO:tensorflow:\t+ DetectionBoxes_Precision/mAP (small): -1.000000\n",
      "I0613 03:23:02.479759 4512802240 model_lib_v2.py:1010] \t+ DetectionBoxes_Precision/mAP (small): -1.000000\n",
      "INFO:tensorflow:\t+ DetectionBoxes_Precision/mAP (medium): -1.000000\n",
      "I0613 03:23:02.480304 4512802240 model_lib_v2.py:1010] \t+ DetectionBoxes_Precision/mAP (medium): -1.000000\n",
      "INFO:tensorflow:\t+ DetectionBoxes_Precision/mAP (large): 0.646548\n",
      "I0613 03:23:02.480933 4512802240 model_lib_v2.py:1010] \t+ DetectionBoxes_Precision/mAP (large): 0.646548\n",
      "INFO:tensorflow:\t+ DetectionBoxes_Recall/AR@1: 0.567500\n",
      "I0613 03:23:02.481683 4512802240 model_lib_v2.py:1010] \t+ DetectionBoxes_Recall/AR@1: 0.567500\n",
      "INFO:tensorflow:\t+ DetectionBoxes_Recall/AR@10: 0.657500\n",
      "I0613 03:23:02.482597 4512802240 model_lib_v2.py:1010] \t+ DetectionBoxes_Recall/AR@10: 0.657500\n",
      "INFO:tensorflow:\t+ DetectionBoxes_Recall/AR@100: 0.657500\n",
      "I0613 03:23:02.483476 4512802240 model_lib_v2.py:1010] \t+ DetectionBoxes_Recall/AR@100: 0.657500\n",
      "INFO:tensorflow:\t+ DetectionBoxes_Recall/AR@100 (small): -1.000000\n",
      "I0613 03:23:02.484081 4512802240 model_lib_v2.py:1010] \t+ DetectionBoxes_Recall/AR@100 (small): -1.000000\n",
      "INFO:tensorflow:\t+ DetectionBoxes_Recall/AR@100 (medium): -1.000000\n",
      "I0613 03:23:02.484658 4512802240 model_lib_v2.py:1010] \t+ DetectionBoxes_Recall/AR@100 (medium): -1.000000\n",
      "INFO:tensorflow:\t+ DetectionBoxes_Recall/AR@100 (large): 0.657500\n",
      "I0613 03:23:02.485281 4512802240 model_lib_v2.py:1010] \t+ DetectionBoxes_Recall/AR@100 (large): 0.657500\n",
      "INFO:tensorflow:\t+ Loss/localization_loss: 0.166763\n",
      "I0613 03:23:02.486678 4512802240 model_lib_v2.py:1010] \t+ Loss/localization_loss: 0.166763\n",
      "INFO:tensorflow:\t+ Loss/classification_loss: 0.237792\n",
      "I0613 03:23:02.487915 4512802240 model_lib_v2.py:1010] \t+ Loss/classification_loss: 0.237792\n",
      "INFO:tensorflow:\t+ Loss/regularization_loss: 0.145938\n",
      "I0613 03:23:02.489634 4512802240 model_lib_v2.py:1010] \t+ Loss/regularization_loss: 0.145938\n",
      "INFO:tensorflow:\t+ Loss/total_loss: 0.550493\n",
      "I0613 03:23:02.490646 4512802240 model_lib_v2.py:1010] \t+ Loss/total_loss: 0.550493\n",
      "^C\n",
      "Traceback (most recent call last):\n",
      "  File \"Tensorflow/models/research/object_detection/model_main_tf2.py\", line 115, in <module>\n",
      "    tf.compat.v1.app.run()\n",
      "  File \"/Users/AlanZhu/Desktop/OD/TFODCourse/tfod/lib/python3.7/site-packages/tensorflow/python/platform/app.py\", line 40, in run\n",
      "    _run(main=main, argv=argv, flags_parser=_parse_flags_tolerate_undef)\n",
      "  File \"/Users/AlanZhu/Desktop/OD/TFODCourse/tfod/lib/python3.7/site-packages/absl/app.py\", line 303, in run\n",
      "    _run_main(main, args)\n",
      "  File \"/Users/AlanZhu/Desktop/OD/TFODCourse/tfod/lib/python3.7/site-packages/absl/app.py\", line 251, in _run_main\n",
      "    sys.exit(main(argv))\n",
      "  File \"Tensorflow/models/research/object_detection/model_main_tf2.py\", line 90, in main\n",
      "    wait_interval=300, timeout=FLAGS.eval_timeout)\n",
      "  File \"/Users/AlanZhu/Desktop/OD/TFODCourse/tfod/lib/python3.7/site-packages/object_detection/model_lib_v2.py\", line 1129, in eval_continuously\n",
      "    checkpoint_dir, timeout=timeout, min_interval_secs=wait_interval):\n",
      "  File \"/Users/AlanZhu/Desktop/OD/TFODCourse/tfod/lib/python3.7/site-packages/tensorflow/python/training/checkpoint_utils.py\", line 216, in checkpoints_iterator\n",
      "    time.sleep(time_to_next_eval)\n",
      "KeyboardInterrupt\n"
     ]
    }
   ],
   "source": [
    "!{command}"
   ]
  },
  {
   "cell_type": "markdown",
   "metadata": {
    "id": "orvRk02UpfDI"
   },
   "source": [
    "# 8. Load Train Model From Checkpoint"
   ]
  },
  {
   "cell_type": "code",
   "execution_count": 42,
   "metadata": {
    "id": "8TYk4_oIpfDI"
   },
   "outputs": [],
   "source": [
    "import os\n",
    "import tensorflow as tf\n",
    "from object_detection.utils import label_map_util\n",
    "from object_detection.utils import visualization_utils as viz_utils\n",
    "from object_detection.builders import model_builder\n",
    "from object_detection.utils import config_util"
   ]
  },
  {
   "cell_type": "code",
   "execution_count": 44,
   "metadata": {
    "id": "tDnQg-cYpfDI"
   },
   "outputs": [],
   "source": [
    "# Load pipeline config and build a detection model\n",
    "configs = config_util.get_configs_from_pipeline_file(files['PIPELINE_CONFIG'])\n",
    "detection_model = model_builder.build(model_config=configs['model'], is_training=False)\n",
    "\n",
    "# Restore checkpoint\n",
    "ckpt = tf.compat.v2.train.Checkpoint(model=detection_model)\n",
    "ckpt.restore(os.path.join(paths['CHECKPOINT_PATH'], 'ckpt-3')).expect_partial()\n",
    "\n",
    "@tf.function\n",
    "def detect_fn(image):\n",
    "    image, shapes = detection_model.preprocess(image)\n",
    "    prediction_dict = detection_model.predict(image, shapes)\n",
    "    detections = detection_model.postprocess(prediction_dict, shapes)\n",
    "    return detections"
   ]
  },
  {
   "cell_type": "markdown",
   "metadata": {
    "id": "0EmsmbBZpfDI"
   },
   "source": [
    "# 9. Detect from an Image"
   ]
  },
  {
   "cell_type": "code",
   "execution_count": 45,
   "metadata": {
    "id": "Y_MKiuZ4pfDI"
   },
   "outputs": [],
   "source": [
    "import cv2 \n",
    "import numpy as np\n",
    "from matplotlib import pyplot as plt\n",
    "%matplotlib inline"
   ]
  },
  {
   "cell_type": "code",
   "execution_count": 46,
   "metadata": {
    "id": "cBDbIhNapfDI"
   },
   "outputs": [],
   "source": [
    "category_index = label_map_util.create_category_index_from_labelmap(files['LABELMAP'])"
   ]
  },
  {
   "cell_type": "code",
   "execution_count": 47,
   "metadata": {
    "id": "Lx3crOhOzITB"
   },
   "outputs": [],
   "source": [
    "IMAGE_PATH = os.path.join(paths['IMAGE_PATH'], 'test', 'livelong.380310aa-cb7e-11eb-b3cd-f45c89c16c1b.jpg')"
   ]
  },
  {
   "cell_type": "code",
   "execution_count": 48,
   "metadata": {
    "colab": {
     "base_uri": "https://localhost:8080/",
     "height": 269
    },
    "id": "Tpzn1SMry1yK",
    "outputId": "c392a2c5-10fe-4fc4-9998-a1d4c7db2bd3"
   },
   "outputs": [
    {
     "data": {
      "image/png": "[encoded data removed]",
      "text/plain": [
       "<Figure size 432x288 with 1 Axes>"
      ]
     },
     "metadata": {
      "needs_background": "light"
     },
     "output_type": "display_data"
    }
   ],
   "source": [
    "#Run object detection on the selected image\n",
    "\n",
    "#Load image\n",
    "img = cv2.imread(IMAGE_PATH)\n",
    "image_np = np.array(img)\n",
    "\n",
    "#Convert to tensor\n",
    "input_tensor = tf.convert_to_tensor(np.expand_dims(image_np, 0), dtype=tf.float32)\n",
    "#Call detection function\n",
    "detections = detect_fn(input_tensor)\n",
    "\n",
    "num_detections = int(detections.pop('num_detections'))\n",
    "detections = {key: value[0, :num_detections].numpy()\n",
    "              for key, value in detections.items()}\n",
    "detections['num_detections'] = num_detections\n",
    "\n",
    "# detection_classes should be ints.\n",
    "detections['detection_classes'] = detections['detection_classes'].astype(np.int64)\n",
    "\n",
    "label_id_offset = 1\n",
    "image_np_with_detections = image_np.copy()\n",
    "\n",
    "viz_utils.visualize_boxes_and_labels_on_image_array(\n",
    "            image_np_with_detections,\n",
    "            detections['detection_boxes'],\n",
    "            detections['detection_classes']+label_id_offset,\n",
    "            detections['detection_scores'],\n",
    "            category_index,\n",
    "            use_normalized_coordinates=True,\n",
    "            max_boxes_to_draw=5,\n",
    "            min_score_thresh=.8,\n",
    "            agnostic_mode=False)\n",
    "\n",
    "plt.imshow(cv2.cvtColor(image_np_with_detections, cv2.COLOR_BGR2RGB))\n",
    "plt.show()"
   ]
  },
  {
   "cell_type": "markdown",
   "metadata": {
    "id": "IsNAaYAo0WVL"
   },
   "source": [
    "# 10. Real Time Detections from your Webcam"
   ]
  },
  {
   "cell_type": "code",
   "execution_count": null,
   "metadata": {},
   "outputs": [],
   "source": [
    "!pip uninstall opencv-python-headless -y"
   ]
  },
  {
   "cell_type": "code",
   "execution_count": 49,
   "metadata": {
    "id": "o_grs6OGpfDJ"
   },
   "outputs": [],
   "source": [
    "cap = cv2.VideoCapture(0)\n",
    "width = int(cap.get(cv2.CAP_PROP_FRAME_WIDTH))\n",
    "height = int(cap.get(cv2.CAP_PROP_FRAME_HEIGHT))\n",
    "\n",
    "while cap.isOpened(): \n",
    "    ret, frame = cap.read()\n",
    "    image_np = np.array(frame)\n",
    "    \n",
    "    input_tensor = tf.convert_to_tensor(np.expand_dims(image_np, 0), dtype=tf.float32)\n",
    "    detections = detect_fn(input_tensor)\n",
    "    \n",
    "    num_detections = int(detections.pop('num_detections'))\n",
    "    detections = {key: value[0, :num_detections].numpy()\n",
    "                  for key, value in detections.items()}\n",
    "    detections['num_detections'] = num_detections\n",
    "\n",
    "    # detection_classes should be ints.\n",
    "    detections['detection_classes'] = detections['detection_classes'].astype(np.int64)\n",
    "\n",
    "    label_id_offset = 1\n",
    "    image_np_with_detections = image_np.copy()\n",
    "\n",
    "    viz_utils.visualize_boxes_and_labels_on_image_array(\n",
    "                image_np_with_detections,\n",
    "                detections['detection_boxes'],\n",
    "                detections['detection_classes']+label_id_offset,\n",
    "                detections['detection_scores'],\n",
    "                category_index,\n",
    "                use_normalized_coordinates=True,\n",
    "                max_boxes_to_draw=5,\n",
    "                min_score_thresh=.8,\n",
    "                agnostic_mode=False)\n",
    "\n",
    "    cv2.imshow('object detection',  cv2.resize(image_np_with_detections, (800, 600)))\n",
    "    \n",
    "    if cv2.waitKey(10) & 0xFF == ord('q'):\n",
    "        cap.release()\n",
    "        cv2.destroyAllWindows()\n",
    "        break"
   ]
  },
  {
   "cell_type": "markdown",
   "metadata": {
    "id": "rzlM4jt0pfDJ"
   },
   "source": [
    "# 10. Freezing the Graph"
   ]
  },
  {
   "cell_type": "code",
   "execution_count": 50,
   "metadata": {
    "id": "n4olHB2npfDJ"
   },
   "outputs": [],
   "source": [
    "FREEZE_SCRIPT = os.path.join(paths['APIMODEL_PATH'], 'research', 'object_detection', 'exporter_main_v2.py ')"
   ]
  },
  {
   "cell_type": "code",
   "execution_count": 51,
   "metadata": {
    "id": "0AjO93QDpfDJ"
   },
   "outputs": [],
   "source": [
    "command = \"python {} --input_type=image_tensor --pipeline_config_path={} --trained_checkpoint_dir={} --output_directory={}\".format(FREEZE_SCRIPT ,files['PIPELINE_CONFIG'], paths['CHECKPOINT_PATH'], paths['OUTPUT_PATH'])"
   ]
  },
  {
   "cell_type": "code",
   "execution_count": 52,
   "metadata": {
    "colab": {
     "base_uri": "https://localhost:8080/"
    },
    "id": "F6Lsp3tCpfDJ",
    "outputId": "c3828529-bf06-4df5-d7f3-145890ec3edd"
   },
   "outputs": [
    {
     "name": "stdout",
     "output_type": "stream",
     "text": [
      "python Tensorflow/models/research/object_detection/exporter_main_v2.py  --input_type=image_tensor --pipeline_config_path=Tensorflow/workspace/models/my_ssd_mobnet_tuned/pipeline.config --trained_checkpoint_dir=Tensorflow/workspace/models/my_ssd_mobnet_tuned --output_directory=Tensorflow/workspace/models/my_ssd_mobnet_tuned/export\n"
     ]
    }
   ],
   "source": [
    "print(command)"
   ]
  },
  {
   "cell_type": "code",
   "execution_count": 53,
   "metadata": {
    "colab": {
     "base_uri": "https://localhost:8080/"
    },
    "id": "1Sw1ULgHpfDJ",
    "outputId": "6fd441e1-9fc9-4889-d072-3395c21e40b6"
   },
   "outputs": [
    {
     "name": "stdout",
     "output_type": "stream",
     "text": [
      "2021-06-13 03:32:38.809696: I tensorflow/core/platform/cpu_feature_guard.cc:142] This TensorFlow binary is optimized with oneAPI Deep Neural Network Library (oneDNN) to use the following CPU instructions in performance-critical operations:  AVX2 FMA\n",
      "To enable them in other operations, rebuild TensorFlow with the appropriate compiler flags.\n",
      "WARNING:tensorflow:From /Users/AlanZhu/Desktop/OD/TFODCourse/tfod/lib/python3.7/site-packages/tensorflow/python/autograph/impl/api.py:463: calling map_fn_v2 (from tensorflow.python.ops.map_fn) with back_prop=False is deprecated and will be removed in a future version.\n",
      "Instructions for updating:\n",
      "back_prop=False is deprecated. Consider using tf.stop_gradient instead.\n",
      "Instead of:\n",
      "results = tf.map_fn(fn, elems, back_prop=False)\n",
      "Use:\n",
      "results = tf.nest.map_structure(tf.stop_gradient, tf.map_fn(fn, elems))\n",
      "W0613 03:32:39.042680 4613125568 deprecation.py:601] From /Users/AlanZhu/Desktop/OD/TFODCourse/tfod/lib/python3.7/site-packages/tensorflow/python/autograph/impl/api.py:463: calling map_fn_v2 (from tensorflow.python.ops.map_fn) with back_prop=False is deprecated and will be removed in a future version.\n",
      "Instructions for updating:\n",
      "back_prop=False is deprecated. Consider using tf.stop_gradient instead.\n",
      "Instead of:\n",
      "results = tf.map_fn(fn, elems, back_prop=False)\n",
      "Use:\n",
      "results = tf.nest.map_structure(tf.stop_gradient, tf.map_fn(fn, elems))\n",
      "WARNING:tensorflow:Skipping full serialization of Keras layer <object_detection.meta_architectures.ssd_meta_arch.SSDMetaArch object at 0x158bc4320>, because it is not built.\n",
      "W0613 03:33:08.073933 4613125568 save_impl.py:77] Skipping full serialization of Keras layer <object_detection.meta_architectures.ssd_meta_arch.SSDMetaArch object at 0x158bc4320>, because it is not built.\n",
      "WARNING:tensorflow:Skipping full serialization of Keras layer <tensorflow.python.keras.layers.convolutional.SeparableConv2D object at 0x158ca9a58>, because it is not built.\n",
      "W0613 03:33:08.263317 4613125568 save_impl.py:77] Skipping full serialization of Keras layer <tensorflow.python.keras.layers.convolutional.SeparableConv2D object at 0x158ca9a58>, because it is not built.\n",
      "WARNING:tensorflow:Skipping full serialization of Keras layer <object_detection.core.freezable_batch_norm.FreezableBatchNorm object at 0x15a30a048>, because it is not built.\n",
      "W0613 03:33:08.263516 4613125568 save_impl.py:77] Skipping full serialization of Keras layer <object_detection.core.freezable_batch_norm.FreezableBatchNorm object at 0x15a30a048>, because it is not built.\n",
      "WARNING:tensorflow:Skipping full serialization of Keras layer <tensorflow.python.keras.layers.core.Lambda object at 0x15a30a2b0>, because it is not built.\n",
      "W0613 03:33:08.263640 4613125568 save_impl.py:77] Skipping full serialization of Keras layer <tensorflow.python.keras.layers.core.Lambda object at 0x15a30a2b0>, because it is not built.\n",
      "WARNING:tensorflow:Skipping full serialization of Keras layer <tensorflow.python.keras.layers.convolutional.SeparableConv2D object at 0x15a30a3c8>, because it is not built.\n",
      "W0613 03:33:08.263738 4613125568 save_impl.py:77] Skipping full serialization of Keras layer <tensorflow.python.keras.layers.convolutional.SeparableConv2D object at 0x15a30a3c8>, because it is not built.\n",
      "WARNING:tensorflow:Skipping full serialization of Keras layer <object_detection.core.freezable_batch_norm.FreezableBatchNorm object at 0x15a3757f0>, because it is not built.\n",
      "W0613 03:33:08.263826 4613125568 save_impl.py:77] Skipping full serialization of Keras layer <object_detection.core.freezable_batch_norm.FreezableBatchNorm object at 0x15a3757f0>, because it is not built.\n",
      "WARNING:tensorflow:Skipping full serialization of Keras layer <tensorflow.python.keras.layers.core.Lambda object at 0x15a375e48>, because it is not built.\n",
      "W0613 03:33:08.263923 4613125568 save_impl.py:77] Skipping full serialization of Keras layer <tensorflow.python.keras.layers.core.Lambda object at 0x15a375e48>, because it is not built.\n",
      "WARNING:tensorflow:Skipping full serialization of Keras layer <tensorflow.python.keras.layers.convolutional.SeparableConv2D object at 0x15a375dd8>, because it is not built.\n",
      "W0613 03:33:08.264005 4613125568 save_impl.py:77] Skipping full serialization of Keras layer <tensorflow.python.keras.layers.convolutional.SeparableConv2D object at 0x15a375dd8>, because it is not built.\n",
      "WARNING:tensorflow:Skipping full serialization of Keras layer <object_detection.core.freezable_batch_norm.FreezableBatchNorm object at 0x158d6de10>, because it is not built.\n",
      "W0613 03:33:08.264085 4613125568 save_impl.py:77] Skipping full serialization of Keras layer <object_detection.core.freezable_batch_norm.FreezableBatchNorm object at 0x158d6de10>, because it is not built.\n",
      "WARNING:tensorflow:Skipping full serialization of Keras layer <tensorflow.python.keras.layers.core.Lambda object at 0x15a35ed30>, because it is not built.\n",
      "W0613 03:33:08.264159 4613125568 save_impl.py:77] Skipping full serialization of Keras layer <tensorflow.python.keras.layers.core.Lambda object at 0x15a35ed30>, because it is not built.\n",
      "WARNING:tensorflow:Skipping full serialization of Keras layer <tensorflow.python.keras.layers.convolutional.SeparableConv2D object at 0x15a35e908>, because it is not built.\n",
      "W0613 03:33:08.264234 4613125568 save_impl.py:77] Skipping full serialization of Keras layer <tensorflow.python.keras.layers.convolutional.SeparableConv2D object at 0x15a35e908>, because it is not built.\n",
      "WARNING:tensorflow:Skipping full serialization of Keras layer <object_detection.core.freezable_batch_norm.FreezableBatchNorm object at 0x15a35e828>, because it is not built.\n",
      "W0613 03:33:08.264423 4613125568 save_impl.py:77] Skipping full serialization of Keras layer <object_detection.core.freezable_batch_norm.FreezableBatchNorm object at 0x15a35e828>, because it is not built.\n",
      "WARNING:tensorflow:Skipping full serialization of Keras layer <tensorflow.python.keras.layers.core.Lambda object at 0x15a35ecf8>, because it is not built.\n",
      "W0613 03:33:08.264569 4613125568 save_impl.py:77] Skipping full serialization of Keras layer <tensorflow.python.keras.layers.core.Lambda object at 0x15a35ecf8>, because it is not built.\n",
      "WARNING:tensorflow:Skipping full serialization of Keras layer <object_detection.core.freezable_batch_norm.FreezableBatchNorm object at 0x158ca9da0>, because it is not built.\n",
      "W0613 03:33:08.264664 4613125568 save_impl.py:77] Skipping full serialization of Keras layer <object_detection.core.freezable_batch_norm.FreezableBatchNorm object at 0x158ca9da0>, because it is not built.\n",
      "WARNING:tensorflow:Skipping full serialization of Keras layer <tensorflow.python.keras.layers.core.Lambda object at 0x15a384c88>, because it is not built.\n",
      "W0613 03:33:08.264742 4613125568 save_impl.py:77] Skipping full serialization of Keras layer <tensorflow.python.keras.layers.core.Lambda object at 0x15a384c88>, because it is not built.\n",
      "WARNING:tensorflow:Skipping full serialization of Keras layer <object_detection.core.freezable_batch_norm.FreezableBatchNorm object at 0x15a384e80>, because it is not built.\n",
      "W0613 03:33:08.264818 4613125568 save_impl.py:77] Skipping full serialization of Keras layer <object_detection.core.freezable_batch_norm.FreezableBatchNorm object at 0x15a384e80>, because it is not built.\n",
      "WARNING:tensorflow:Skipping full serialization of Keras layer <tensorflow.python.keras.layers.core.Lambda object at 0x15a384320>, because it is not built.\n",
      "W0613 03:33:08.264890 4613125568 save_impl.py:77] Skipping full serialization of Keras layer <tensorflow.python.keras.layers.core.Lambda object at 0x15a384320>, because it is not built.\n",
      "WARNING:tensorflow:Skipping full serialization of Keras layer <object_detection.core.freezable_batch_norm.FreezableBatchNorm object at 0x15a384a90>, because it is not built.\n",
      "W0613 03:33:08.264963 4613125568 save_impl.py:77] Skipping full serialization of Keras layer <object_detection.core.freezable_batch_norm.FreezableBatchNorm object at 0x15a384a90>, because it is not built.\n",
      "WARNING:tensorflow:Skipping full serialization of Keras layer <tensorflow.python.keras.layers.core.Lambda object at 0x15a3a6320>, because it is not built.\n",
      "W0613 03:33:08.265033 4613125568 save_impl.py:77] Skipping full serialization of Keras layer <tensorflow.python.keras.layers.core.Lambda object at 0x15a3a6320>, because it is not built.\n",
      "WARNING:tensorflow:Skipping full serialization of Keras layer <object_detection.core.freezable_batch_norm.FreezableBatchNorm object at 0x15a3a63c8>, because it is not built.\n",
      "W0613 03:33:08.265110 4613125568 save_impl.py:77] Skipping full serialization of Keras layer <object_detection.core.freezable_batch_norm.FreezableBatchNorm object at 0x15a3a63c8>, because it is not built.\n",
      "WARNING:tensorflow:Skipping full serialization of Keras layer <tensorflow.python.keras.layers.core.Lambda object at 0x15a3a6828>, because it is not built.\n",
      "W0613 03:33:08.265182 4613125568 save_impl.py:77] Skipping full serialization of Keras layer <tensorflow.python.keras.layers.core.Lambda object at 0x15a3a6828>, because it is not built.\n",
      "WARNING:tensorflow:Skipping full serialization of Keras layer <object_detection.core.freezable_batch_norm.FreezableBatchNorm object at 0x158ca9dd8>, because it is not built.\n",
      "W0613 03:33:08.265251 4613125568 save_impl.py:77] Skipping full serialization of Keras layer <object_detection.core.freezable_batch_norm.FreezableBatchNorm object at 0x158ca9dd8>, because it is not built.\n",
      "WARNING:tensorflow:Skipping full serialization of Keras layer <tensorflow.python.keras.layers.core.Lambda object at 0x15a3567f0>, because it is not built.\n",
      "W0613 03:33:08.265385 4613125568 save_impl.py:77] Skipping full serialization of Keras layer <tensorflow.python.keras.layers.core.Lambda object at 0x15a3567f0>, because it is not built.\n",
      "WARNING:tensorflow:Skipping full serialization of Keras layer <object_detection.core.freezable_batch_norm.FreezableBatchNorm object at 0x15a356828>, because it is not built.\n",
      "W0613 03:33:08.265488 4613125568 save_impl.py:77] Skipping full serialization of Keras layer <object_detection.core.freezable_batch_norm.FreezableBatchNorm object at 0x15a356828>, because it is not built.\n",
      "WARNING:tensorflow:Skipping full serialization of Keras layer <tensorflow.python.keras.layers.core.Lambda object at 0x15a356cc0>, because it is not built.\n",
      "W0613 03:33:08.265568 4613125568 save_impl.py:77] Skipping full serialization of Keras layer <tensorflow.python.keras.layers.core.Lambda object at 0x15a356cc0>, because it is not built.\n",
      "WARNING:tensorflow:Skipping full serialization of Keras layer <object_detection.core.freezable_batch_norm.FreezableBatchNorm object at 0x15a356d30>, because it is not built.\n",
      "W0613 03:33:08.265650 4613125568 save_impl.py:77] Skipping full serialization of Keras layer <object_detection.core.freezable_batch_norm.FreezableBatchNorm object at 0x15a356d30>, because it is not built.\n",
      "WARNING:tensorflow:Skipping full serialization of Keras layer <tensorflow.python.keras.layers.core.Lambda object at 0x14a9057f0>, because it is not built.\n",
      "W0613 03:33:08.265739 4613125568 save_impl.py:77] Skipping full serialization of Keras layer <tensorflow.python.keras.layers.core.Lambda object at 0x14a9057f0>, because it is not built.\n",
      "WARNING:tensorflow:Skipping full serialization of Keras layer <object_detection.core.freezable_batch_norm.FreezableBatchNorm object at 0x158ef6160>, because it is not built.\n",
      "W0613 03:33:08.265815 4613125568 save_impl.py:77] Skipping full serialization of Keras layer <object_detection.core.freezable_batch_norm.FreezableBatchNorm object at 0x158ef6160>, because it is not built.\n",
      "WARNING:tensorflow:Skipping full serialization of Keras layer <tensorflow.python.keras.layers.core.Lambda object at 0x15a3c1b70>, because it is not built.\n",
      "W0613 03:33:08.265886 4613125568 save_impl.py:77] Skipping full serialization of Keras layer <tensorflow.python.keras.layers.core.Lambda object at 0x15a3c1b70>, because it is not built.\n",
      "WARNING:tensorflow:Skipping full serialization of Keras layer <object_detection.core.freezable_batch_norm.FreezableBatchNorm object at 0x14a8e57b8>, because it is not built.\n",
      "W0613 03:33:08.265959 4613125568 save_impl.py:77] Skipping full serialization of Keras layer <object_detection.core.freezable_batch_norm.FreezableBatchNorm object at 0x14a8e57b8>, because it is not built.\n",
      "WARNING:tensorflow:Skipping full serialization of Keras layer <tensorflow.python.keras.layers.core.Lambda object at 0x15a391eb8>, because it is not built.\n",
      "W0613 03:33:08.266029 4613125568 save_impl.py:77] Skipping full serialization of Keras layer <tensorflow.python.keras.layers.core.Lambda object at 0x15a391eb8>, because it is not built.\n",
      "WARNING:tensorflow:Skipping full serialization of Keras layer <object_detection.core.freezable_batch_norm.FreezableBatchNorm object at 0x15a391898>, because it is not built.\n",
      "W0613 03:33:08.266168 4613125568 save_impl.py:77] Skipping full serialization of Keras layer <object_detection.core.freezable_batch_norm.FreezableBatchNorm object at 0x15a391898>, because it is not built.\n",
      "WARNING:tensorflow:Skipping full serialization of Keras layer <tensorflow.python.keras.layers.core.Lambda object at 0x15a391e10>, because it is not built.\n",
      "W0613 03:33:08.266269 4613125568 save_impl.py:77] Skipping full serialization of Keras layer <tensorflow.python.keras.layers.core.Lambda object at 0x15a391e10>, because it is not built.\n",
      "WARNING:tensorflow:Skipping full serialization of Keras layer <object_detection.core.freezable_batch_norm.FreezableBatchNorm object at 0x15a3bcc88>, because it is not built.\n",
      "W0613 03:33:08.266350 4613125568 save_impl.py:77] Skipping full serialization of Keras layer <object_detection.core.freezable_batch_norm.FreezableBatchNorm object at 0x15a3bcc88>, because it is not built.\n",
      "WARNING:tensorflow:Skipping full serialization of Keras layer <tensorflow.python.keras.layers.core.Lambda object at 0x15a3bce80>, because it is not built.\n",
      "W0613 03:33:08.266425 4613125568 save_impl.py:77] Skipping full serialization of Keras layer <tensorflow.python.keras.layers.core.Lambda object at 0x15a3bce80>, because it is not built.\n",
      "WARNING:tensorflow:Skipping full serialization of Keras layer <object_detection.core.freezable_batch_norm.FreezableBatchNorm object at 0x15a3bc0f0>, because it is not built.\n",
      "W0613 03:33:08.266497 4613125568 save_impl.py:77] Skipping full serialization of Keras layer <object_detection.core.freezable_batch_norm.FreezableBatchNorm object at 0x15a3bc0f0>, because it is not built.\n",
      "WARNING:tensorflow:Skipping full serialization of Keras layer <tensorflow.python.keras.layers.core.Lambda object at 0x15a3bc470>, because it is not built.\n",
      "W0613 03:33:08.266577 4613125568 save_impl.py:77] Skipping full serialization of Keras layer <tensorflow.python.keras.layers.core.Lambda object at 0x15a3bc470>, because it is not built.\n",
      "WARNING:tensorflow:Skipping full serialization of Keras layer <object_detection.core.freezable_batch_norm.FreezableBatchNorm object at 0x158ca9e10>, because it is not built.\n",
      "W0613 03:33:08.266649 4613125568 save_impl.py:77] Skipping full serialization of Keras layer <object_detection.core.freezable_batch_norm.FreezableBatchNorm object at 0x158ca9e10>, because it is not built.\n",
      "WARNING:tensorflow:Skipping full serialization of Keras layer <tensorflow.python.keras.layers.core.Lambda object at 0x15a36f9e8>, because it is not built.\n",
      "W0613 03:33:08.266717 4613125568 save_impl.py:77] Skipping full serialization of Keras layer <tensorflow.python.keras.layers.core.Lambda object at 0x15a36f9e8>, because it is not built.\n",
      "WARNING:tensorflow:Skipping full serialization of Keras layer <object_detection.core.freezable_batch_norm.FreezableBatchNorm object at 0x15a36f668>, because it is not built.\n",
      "W0613 03:33:08.266787 4613125568 save_impl.py:77] Skipping full serialization of Keras layer <object_detection.core.freezable_batch_norm.FreezableBatchNorm object at 0x15a36f668>, because it is not built.\n",
      "WARNING:tensorflow:Skipping full serialization of Keras layer <tensorflow.python.keras.layers.core.Lambda object at 0x15a36f2e8>, because it is not built.\n",
      "W0613 03:33:08.266855 4613125568 save_impl.py:77] Skipping full serialization of Keras layer <tensorflow.python.keras.layers.core.Lambda object at 0x15a36f2e8>, because it is not built.\n",
      "WARNING:tensorflow:Skipping full serialization of Keras layer <object_detection.core.freezable_batch_norm.FreezableBatchNorm object at 0x15a36f550>, because it is not built.\n",
      "W0613 03:33:08.266924 4613125568 save_impl.py:77] Skipping full serialization of Keras layer <object_detection.core.freezable_batch_norm.FreezableBatchNorm object at 0x15a36f550>, because it is not built.\n",
      "WARNING:tensorflow:Skipping full serialization of Keras layer <tensorflow.python.keras.layers.core.Lambda object at 0x15a364828>, because it is not built.\n",
      "W0613 03:33:08.266992 4613125568 save_impl.py:77] Skipping full serialization of Keras layer <tensorflow.python.keras.layers.core.Lambda object at 0x15a364828>, because it is not built.\n",
      "WARNING:tensorflow:Skipping full serialization of Keras layer <object_detection.core.freezable_batch_norm.FreezableBatchNorm object at 0x15a364940>, because it is not built.\n",
      "W0613 03:33:08.267067 4613125568 save_impl.py:77] Skipping full serialization of Keras layer <object_detection.core.freezable_batch_norm.FreezableBatchNorm object at 0x15a364940>, because it is not built.\n",
      "WARNING:tensorflow:Skipping full serialization of Keras layer <tensorflow.python.keras.layers.core.Lambda object at 0x15a364dd8>, because it is not built.\n",
      "W0613 03:33:08.267136 4613125568 save_impl.py:77] Skipping full serialization of Keras layer <tensorflow.python.keras.layers.core.Lambda object at 0x15a364dd8>, because it is not built.\n"
     ]
    },
    {
     "name": "stdout",
     "output_type": "stream",
     "text": [
      "2021-06-13 03:33:19.217528: W tensorflow/python/util/util.cc:348] Sets are not currently considered sequences, but this may change in the future, so consider avoiding using them.\n",
      "W0613 03:33:40.908350 4613125568 save.py:243] Found untraced functions such as WeightSharedConvolutionalBoxPredictor_layer_call_fn, WeightSharedConvolutionalBoxPredictor_layer_call_and_return_conditional_losses, WeightSharedConvolutionalBoxHead_layer_call_fn, WeightSharedConvolutionalBoxHead_layer_call_and_return_conditional_losses, WeightSharedConvolutionalBoxPredictor_layer_call_fn while saving (showing 5 of 260). These functions will not be directly callable after loading.\n",
      "/Users/AlanZhu/Desktop/OD/TFODCourse/tfod/lib/python3.7/site-packages/tensorflow/python/keras/utils/generic_utils.py:497: CustomMaskWarning: Custom mask layers require a config and must override get_config. When loading, the custom mask layer must be passed to the custom_objects argument.\n",
      "  category=CustomMaskWarning)\n",
      "WARNING:tensorflow:FOR KERAS USERS: The object that you are saving contains one or more Keras models or layers. If you are loading the SavedModel with `tf.keras.models.load_model`, continue reading (otherwise, you may ignore the following instructions). Please change your code to save with `tf.keras.models.save_model` or `model.save`, and confirm that the file \"keras.metadata\" exists in the export directory. In the future, Keras will only load the SavedModels that have this file. In other words, `tf.saved_model.save` will no longer write SavedModels that can be recovered as Keras models (this will apply in TF 2.5).\n",
      "\n",
      "FOR DEVS: If you are overwriting _tracking_metadata in your class, this property has been used to save metadata in the SavedModel. The metadta field will be deprecated soon, so please move the metadata to a different file.\n",
      "W0613 03:33:46.083556 4613125568 save.py:1240] FOR KERAS USERS: The object that you are saving contains one or more Keras models or layers. If you are loading the SavedModel with `tf.keras.models.load_model`, continue reading (otherwise, you may ignore the following instructions). Please change your code to save with `tf.keras.models.save_model` or `model.save`, and confirm that the file \"keras.metadata\" exists in the export directory. In the future, Keras will only load the SavedModels that have this file. In other words, `tf.saved_model.save` will no longer write SavedModels that can be recovered as Keras models (this will apply in TF 2.5).\n",
      "\n",
      "FOR DEVS: If you are overwriting _tracking_metadata in your class, this property has been used to save metadata in the SavedModel. The metadta field will be deprecated soon, so please move the metadata to a different file.\n",
      "INFO:tensorflow:Assets written to: Tensorflow/workspace/models/my_ssd_mobnet_tuned/export/saved_model/assets\n",
      "I0613 03:33:46.773591 4613125568 builder_impl.py:775] Assets written to: Tensorflow/workspace/models/my_ssd_mobnet_tuned/export/saved_model/assets\n",
      "INFO:tensorflow:Writing pipeline config file to Tensorflow/workspace/models/my_ssd_mobnet_tuned/export/pipeline.config\n",
      "I0613 03:33:47.843036 4613125568 config_util.py:254] Writing pipeline config file to Tensorflow/workspace/models/my_ssd_mobnet_tuned/export/pipeline.config\n"
     ]
    }
   ],
   "source": [
    "!{command}"
   ]
  },
  {
   "cell_type": "markdown",
   "metadata": {
    "id": "wTPmdqaXpfDK"
   },
   "source": [
    "# 11. Conversion to TFJS"
   ]
  },
  {
   "cell_type": "code",
   "execution_count": 54,
   "metadata": {
    "colab": {
     "base_uri": "https://localhost:8080/"
    },
    "id": "gZ6UzY_fpfDK",
    "outputId": "0c84722e-1c2b-4002-d857-80827ade828a",
    "scrolled": true
   },
   "outputs": [
    {
     "name": "stdout",
     "output_type": "stream",
     "text": [
      "Requirement already satisfied: tensorflowjs in ./tfod/lib/python3.7/site-packages (3.7.0)\n",
      "Requirement already satisfied: six<2,>=1.12.0 in ./tfod/lib/python3.7/site-packages (from tensorflowjs) (1.15.0)\n",
      "Requirement already satisfied: tensorflow<3,>=2.1.0 in ./tfod/lib/python3.7/site-packages (from tensorflowjs) (2.5.0)\n",
      "Requirement already satisfied: tensorflow-hub<0.13,>=0.7.0 in ./tfod/lib/python3.7/site-packages (from tensorflowjs) (0.12.0)\n",
      "Requirement already satisfied: absl-py~=0.10 in ./tfod/lib/python3.7/site-packages (from tensorflow<3,>=2.1.0->tensorflowjs) (0.12.0)\n",
      "Requirement already satisfied: opt-einsum~=3.3.0 in ./tfod/lib/python3.7/site-packages (from tensorflow<3,>=2.1.0->tensorflowjs) (3.3.0)\n",
      "Requirement already satisfied: gast==0.4.0 in ./tfod/lib/python3.7/site-packages (from tensorflow<3,>=2.1.0->tensorflowjs) (0.4.0)\n",
      "Requirement already satisfied: google-pasta~=0.2 in ./tfod/lib/python3.7/site-packages (from tensorflow<3,>=2.1.0->tensorflowjs) (0.2.0)\n",
      "Requirement already satisfied: tensorboard~=2.5 in ./tfod/lib/python3.7/site-packages (from tensorflow<3,>=2.1.0->tensorflowjs) (2.5.0)\n",
      "Requirement already satisfied: numpy~=1.19.2 in ./tfod/lib/python3.7/site-packages (from tensorflow<3,>=2.1.0->tensorflowjs) (1.19.5)\n",
      "Requirement already satisfied: wrapt~=1.12.1 in ./tfod/lib/python3.7/site-packages (from tensorflow<3,>=2.1.0->tensorflowjs) (1.12.1)\n",
      "Requirement already satisfied: keras-nightly~=2.5.0.dev in ./tfod/lib/python3.7/site-packages (from tensorflow<3,>=2.1.0->tensorflowjs) (2.5.0.dev2021032900)\n",
      "Requirement already satisfied: wheel~=0.35 in ./tfod/lib/python3.7/site-packages (from tensorflow<3,>=2.1.0->tensorflowjs) (0.36.2)\n",
      "Requirement already satisfied: typing-extensions~=3.7.4 in ./tfod/lib/python3.7/site-packages (from tensorflow<3,>=2.1.0->tensorflowjs) (3.7.4.3)\n",
      "Requirement already satisfied: grpcio~=1.34.0 in ./tfod/lib/python3.7/site-packages (from tensorflow<3,>=2.1.0->tensorflowjs) (1.34.1)\n",
      "Requirement already satisfied: protobuf>=3.9.2 in ./tfod/lib/python3.7/site-packages (from tensorflow<3,>=2.1.0->tensorflowjs) (3.17.3)\n",
      "Requirement already satisfied: flatbuffers~=1.12.0 in ./tfod/lib/python3.7/site-packages (from tensorflow<3,>=2.1.0->tensorflowjs) (1.12)\n",
      "Requirement already satisfied: tensorflow-estimator<2.6.0,>=2.5.0rc0 in ./tfod/lib/python3.7/site-packages (from tensorflow<3,>=2.1.0->tensorflowjs) (2.5.0)\n",
      "Requirement already satisfied: astunparse~=1.6.3 in ./tfod/lib/python3.7/site-packages (from tensorflow<3,>=2.1.0->tensorflowjs) (1.6.3)\n",
      "Requirement already satisfied: termcolor~=1.1.0 in ./tfod/lib/python3.7/site-packages (from tensorflow<3,>=2.1.0->tensorflowjs) (1.1.0)\n",
      "Requirement already satisfied: h5py~=3.1.0 in ./tfod/lib/python3.7/site-packages (from tensorflow<3,>=2.1.0->tensorflowjs) (3.1.0)\n",
      "Requirement already satisfied: keras-preprocessing~=1.1.2 in ./tfod/lib/python3.7/site-packages (from tensorflow<3,>=2.1.0->tensorflowjs) (1.1.2)\n",
      "Requirement already satisfied: cached-property in ./tfod/lib/python3.7/site-packages (from h5py~=3.1.0->tensorflow<3,>=2.1.0->tensorflowjs) (1.5.2)\n",
      "Requirement already satisfied: tensorboard-data-server<0.7.0,>=0.6.0 in ./tfod/lib/python3.7/site-packages (from tensorboard~=2.5->tensorflow<3,>=2.1.0->tensorflowjs) (0.6.1)\n",
      "Requirement already satisfied: markdown>=2.6.8 in ./tfod/lib/python3.7/site-packages (from tensorboard~=2.5->tensorflow<3,>=2.1.0->tensorflowjs) (3.3.4)\n",
      "Requirement already satisfied: werkzeug>=0.11.15 in ./tfod/lib/python3.7/site-packages (from tensorboard~=2.5->tensorflow<3,>=2.1.0->tensorflowjs) (2.0.1)\n",
      "Requirement already satisfied: google-auth<2,>=1.6.3 in ./tfod/lib/python3.7/site-packages (from tensorboard~=2.5->tensorflow<3,>=2.1.0->tensorflowjs) (1.31.0)\n",
      "Requirement already satisfied: requests<3,>=2.21.0 in ./tfod/lib/python3.7/site-packages (from tensorboard~=2.5->tensorflow<3,>=2.1.0->tensorflowjs) (2.25.1)\n",
      "Requirement already satisfied: google-auth-oauthlib<0.5,>=0.4.1 in ./tfod/lib/python3.7/site-packages (from tensorboard~=2.5->tensorflow<3,>=2.1.0->tensorflowjs) (0.4.4)\n",
      "Requirement already satisfied: setuptools>=41.0.0 in ./tfod/lib/python3.7/site-packages (from tensorboard~=2.5->tensorflow<3,>=2.1.0->tensorflowjs) (57.0.0)\n",
      "Requirement already satisfied: tensorboard-plugin-wit>=1.6.0 in ./tfod/lib/python3.7/site-packages (from tensorboard~=2.5->tensorflow<3,>=2.1.0->tensorflowjs) (1.8.0)\n",
      "Requirement already satisfied: rsa<5,>=3.1.4 in ./tfod/lib/python3.7/site-packages (from google-auth<2,>=1.6.3->tensorboard~=2.5->tensorflow<3,>=2.1.0->tensorflowjs) (4.7.2)\n",
      "Requirement already satisfied: pyasn1-modules>=0.2.1 in ./tfod/lib/python3.7/site-packages (from google-auth<2,>=1.6.3->tensorboard~=2.5->tensorflow<3,>=2.1.0->tensorflowjs) (0.2.8)\n",
      "Requirement already satisfied: cachetools<5.0,>=2.0.0 in ./tfod/lib/python3.7/site-packages (from google-auth<2,>=1.6.3->tensorboard~=2.5->tensorflow<3,>=2.1.0->tensorflowjs) (4.2.2)\n",
      "Requirement already satisfied: requests-oauthlib>=0.7.0 in ./tfod/lib/python3.7/site-packages (from google-auth-oauthlib<0.5,>=0.4.1->tensorboard~=2.5->tensorflow<3,>=2.1.0->tensorflowjs) (1.3.0)\n",
      "Requirement already satisfied: importlib-metadata in ./tfod/lib/python3.7/site-packages (from markdown>=2.6.8->tensorboard~=2.5->tensorflow<3,>=2.1.0->tensorflowjs) (4.5.0)\n",
      "Requirement already satisfied: pyasn1<0.5.0,>=0.4.6 in ./tfod/lib/python3.7/site-packages (from pyasn1-modules>=0.2.1->google-auth<2,>=1.6.3->tensorboard~=2.5->tensorflow<3,>=2.1.0->tensorflowjs) (0.4.8)\n",
      "Requirement already satisfied: certifi>=2017.4.17 in ./tfod/lib/python3.7/site-packages (from requests<3,>=2.21.0->tensorboard~=2.5->tensorflow<3,>=2.1.0->tensorflowjs) (2021.5.30)\n",
      "Requirement already satisfied: idna<3,>=2.5 in ./tfod/lib/python3.7/site-packages (from requests<3,>=2.21.0->tensorboard~=2.5->tensorflow<3,>=2.1.0->tensorflowjs) (2.10)\n",
      "Requirement already satisfied: urllib3<1.27,>=1.21.1 in ./tfod/lib/python3.7/site-packages (from requests<3,>=2.21.0->tensorboard~=2.5->tensorflow<3,>=2.1.0->tensorflowjs) (1.26.5)\n",
      "Requirement already satisfied: chardet<5,>=3.0.2 in ./tfod/lib/python3.7/site-packages (from requests<3,>=2.21.0->tensorboard~=2.5->tensorflow<3,>=2.1.0->tensorflowjs) (4.0.0)\n",
      "Requirement already satisfied: oauthlib>=3.0.0 in ./tfod/lib/python3.7/site-packages (from requests-oauthlib>=0.7.0->google-auth-oauthlib<0.5,>=0.4.1->tensorboard~=2.5->tensorflow<3,>=2.1.0->tensorflowjs) (3.1.1)\n",
      "Requirement already satisfied: zipp>=0.5 in ./tfod/lib/python3.7/site-packages (from importlib-metadata->markdown>=2.6.8->tensorboard~=2.5->tensorflow<3,>=2.1.0->tensorflowjs) (3.4.1)\n"
     ]
    }
   ],
   "source": [
    "!pip install tensorflowjs"
   ]
  },
  {
   "cell_type": "code",
   "execution_count": 55,
   "metadata": {
    "id": "0oxbVynHpfDK"
   },
   "outputs": [],
   "source": [
    "command = \"tensorflowjs_converter --input_format=tf_saved_model --output_node_names='detection_boxes,detection_classes,detection_features,detection_multiclass_scores,detection_scores,num_detections,raw_detection_boxes,raw_detection_scores' --output_format=tfjs_graph_model --signature_name=serving_default {} {}\".format(os.path.join(paths['OUTPUT_PATH'], 'saved_model'), paths['TFJS_PATH'])"
   ]
  },
  {
   "cell_type": "code",
   "execution_count": 56,
   "metadata": {
    "colab": {
     "base_uri": "https://localhost:8080/"
    },
    "id": "DB2AGNmJpfDK",
    "outputId": "fbc9f747-f511-47e8-df8f-5ea65cef0374"
   },
   "outputs": [
    {
     "name": "stdout",
     "output_type": "stream",
     "text": [
      "tensorflowjs_converter --input_format=tf_saved_model --output_node_names='detection_boxes,detection_classes,detection_features,detection_multiclass_scores,detection_scores,num_detections,raw_detection_boxes,raw_detection_scores' --output_format=tfjs_graph_model --signature_name=serving_default Tensorflow/workspace/models/my_ssd_mobnet_tuned/export/saved_model Tensorflow/workspace/models/my_ssd_mobnet_tuned/tfjsexport\n"
     ]
    }
   ],
   "source": [
    "print(command)"
   ]
  },
  {
   "cell_type": "code",
   "execution_count": 57,
   "metadata": {
    "colab": {
     "base_uri": "https://localhost:8080/"
    },
    "id": "K7rfT4-hpfDK",
    "outputId": "532707fd-6feb-4bc6-84a3-325b5d16303c"
   },
   "outputs": [
    {
     "name": "stdout",
     "output_type": "stream",
     "text": [
      "2021-06-13 03:33:56.471474: I tensorflow/core/platform/cpu_feature_guard.cc:142] This TensorFlow binary is optimized with oneAPI Deep Neural Network Library (oneDNN) to use the following CPU instructions in performance-critical operations:  AVX2 FMA\n",
      "To enable them in other operations, rebuild TensorFlow with the appropriate compiler flags.\n",
      "2021-06-13 03:34:07.787300: I tensorflow/core/grappler/devices.cc:78] Number of eligible GPUs (core count >= 8, compute capability >= 0.0): 0 (Note: TensorFlow was not compiled with CUDA or ROCm support)\n",
      "2021-06-13 03:34:07.787405: I tensorflow/core/grappler/clusters/single_machine.cc:357] Starting new session\n",
      "2021-06-13 03:34:08.169264: I tensorflow/core/grappler/optimizers/meta_optimizer.cc:1144] Optimization results for grappler item: graph_to_optimize\n",
      "  function_optimizer: Graph size after: 3991 nodes (3582), 8430 edges (8014), time = 243.776ms.\n",
      "  function_optimizer: function_optimizer did nothing. time = 7.182ms.\n",
      "\n",
      "2021-06-13 03:34:13.473802: I tensorflow/core/grappler/optimizers/meta_optimizer.cc:1144] Optimization results for grappler item: graph_to_optimize\n",
      "  debug_stripper: Graph size after: 3687 nodes (0), 8201 edges (0), time = 15.43ms.\n",
      "  model_pruner: Graph size after: 3236 nodes (-451), 7750 edges (-451), time = 79.627ms.\n",
      "  constant_folding: Graph size after: 1555 nodes (-1681), 5834 edges (-1916), time = 283.524ms.\n",
      "  arithmetic_optimizer: Graph size after: 1571 nodes (16), 5858 edges (24), time = 51.946ms.\n",
      "  dependency_optimizer: Graph size after: 1457 nodes (-114), 1648 edges (-4210), time = 45.755ms.\n",
      "  model_pruner: Graph size after: 1457 nodes (0), 1648 edges (0), time = 22.469ms.\n",
      "  constant_folding: Graph size after: 1457 nodes (0), 1648 edges (0), time = 60.771ms.\n",
      "  arithmetic_optimizer: Graph size after: 1457 nodes (0), 1648 edges (0), time = 42.687ms.\n",
      "  dependency_optimizer: Graph size after: 1457 nodes (0), 1648 edges (0), time = 28.84ms.\n",
      "  debug_stripper: debug_stripper did nothing. time = 4.55ms.\n",
      "  model_pruner: Graph size after: 1457 nodes (0), 1648 edges (0), time = 15.66ms.\n",
      "  constant_folding: Graph size after: 1457 nodes (0), 1648 edges (0), time = 58.733ms.\n",
      "  arithmetic_optimizer: Graph size after: 1457 nodes (0), 1648 edges (0), time = 46.197ms.\n",
      "  dependency_optimizer: Graph size after: 1457 nodes (0), 1648 edges (0), time = 31.003ms.\n",
      "  model_pruner: Graph size after: 1457 nodes (0), 1648 edges (0), time = 19.618ms.\n",
      "  constant_folding: Graph size after: 1457 nodes (0), 1648 edges (0), time = 57.009ms.\n",
      "  arithmetic_optimizer: Graph size after: 1457 nodes (0), 1648 edges (0), time = 55.102ms.\n",
      "  dependency_optimizer: Graph size after: 1457 nodes (0), 1648 edges (0), time = 28.047ms.\n",
      "\n",
      "2021-06-13 03:34:23.853794: I tensorflow/core/grappler/optimizers/meta_optimizer.cc:1144] Optimization results for grappler item: graph_to_optimize\n",
      "  remapper: Graph size after: 1421 nodes (-112), 1308 edges (-112), time = 14.811ms.\n",
      "  constant_folding: Graph size after: 1117 nodes (-304), 1308 edges (0), time = 94.736ms.\n",
      "  arithmetic_optimizer: Graph size after: 1117 nodes (0), 1308 edges (0), time = 36.23ms.\n",
      "  dependency_optimizer: Graph size after: 1117 nodes (0), 1308 edges (0), time = 22.953ms.\n",
      "  remapper: Graph size after: 1117 nodes (0), 1308 edges (0), time = 14.005ms.\n",
      "  constant_folding: Graph size after: 1117 nodes (0), 1308 edges (0), time = 47.969ms.\n",
      "  arithmetic_optimizer: Graph size after: 1117 nodes (0), 1308 edges (0), time = 39.734ms.\n",
      "  dependency_optimizer: Graph size after: 1117 nodes (0), 1308 edges (0), time = 26.208ms.\n",
      "\n",
      "Writing weight file Tensorflow/workspace/models/my_ssd_mobnet_tuned/tfjsexport/model.json...\n"
     ]
    }
   ],
   "source": [
    "!{command}"
   ]
  },
  {
   "cell_type": "code",
   "execution_count": 58,
   "metadata": {
    "id": "o8_hm-itpfDK"
   },
   "outputs": [],
   "source": [
    "# Test Code: https://github.com/nicknochnack/RealTimeSignLanguageDetectionwithTFJS"
   ]
  },
  {
   "cell_type": "markdown",
   "metadata": {
    "id": "VtUw73FHpfDK"
   },
   "source": [
    "# 12. Conversion to TFLite"
   ]
  },
  {
   "cell_type": "code",
   "execution_count": 59,
   "metadata": {
    "id": "XviMtewLpfDK"
   },
   "outputs": [],
   "source": [
    "TFLITE_SCRIPT = os.path.join(paths['APIMODEL_PATH'], 'research', 'object_detection', 'export_tflite_graph_tf2.py ')"
   ]
  },
  {
   "cell_type": "code",
   "execution_count": 60,
   "metadata": {
    "id": "us86cjC4pfDL"
   },
   "outputs": [],
   "source": [
    "command = \"python {} --pipeline_config_path={} --trained_checkpoint_dir={} --output_directory={}\".format(TFLITE_SCRIPT ,files['PIPELINE_CONFIG'], paths['CHECKPOINT_PATH'], paths['TFLITE_PATH'])"
   ]
  },
  {
   "cell_type": "code",
   "execution_count": 61,
   "metadata": {
    "colab": {
     "base_uri": "https://localhost:8080/"
    },
    "id": "n1r5YO3rpfDL",
    "outputId": "5fcdf7a4-eee2-4365-f1ca-1751968379ea"
   },
   "outputs": [
    {
     "name": "stdout",
     "output_type": "stream",
     "text": [
      "python Tensorflow/models/research/object_detection/export_tflite_graph_tf2.py  --pipeline_config_path=Tensorflow/workspace/models/my_ssd_mobnet_tuned/pipeline.config --trained_checkpoint_dir=Tensorflow/workspace/models/my_ssd_mobnet_tuned --output_directory=Tensorflow/workspace/models/my_ssd_mobnet_tuned/tfliteexport\n"
     ]
    }
   ],
   "source": [
    "print(command)"
   ]
  },
  {
   "cell_type": "code",
   "execution_count": 62,
   "metadata": {
    "colab": {
     "base_uri": "https://localhost:8080/"
    },
    "id": "I-xWpHN8pfDL",
    "outputId": "7f6bacd8-d077-43b5-c131-5b081fba24a4"
   },
   "outputs": [
    {
     "name": "stdout",
     "output_type": "stream",
     "text": [
      "2021-06-13 03:34:30.864172: I tensorflow/core/platform/cpu_feature_guard.cc:142] This TensorFlow binary is optimized with oneAPI Deep Neural Network Library (oneDNN) to use the following CPU instructions in performance-critical operations:  AVX2 FMA\n",
      "To enable them in other operations, rebuild TensorFlow with the appropriate compiler flags.\n",
      "WARNING:tensorflow:Skipping full serialization of Keras layer <object_detection.meta_architectures.ssd_meta_arch.SSDMetaArch object at 0x1547b51d0>, because it is not built.\n",
      "W0613 03:34:41.563776 4611028416 save_impl.py:77] Skipping full serialization of Keras layer <object_detection.meta_architectures.ssd_meta_arch.SSDMetaArch object at 0x1547b51d0>, because it is not built.\n",
      "WARNING:tensorflow:Skipping full serialization of Keras layer <tensorflow.python.keras.layers.convolutional.SeparableConv2D object at 0x155d3a2e8>, because it is not built.\n",
      "W0613 03:34:41.733811 4611028416 save_impl.py:77] Skipping full serialization of Keras layer <tensorflow.python.keras.layers.convolutional.SeparableConv2D object at 0x155d3a2e8>, because it is not built.\n",
      "WARNING:tensorflow:Skipping full serialization of Keras layer <object_detection.core.freezable_batch_norm.FreezableBatchNorm object at 0x155f76828>, because it is not built.\n",
      "W0613 03:34:41.733998 4611028416 save_impl.py:77] Skipping full serialization of Keras layer <object_detection.core.freezable_batch_norm.FreezableBatchNorm object at 0x155f76828>, because it is not built.\n",
      "WARNING:tensorflow:Skipping full serialization of Keras layer <tensorflow.python.keras.layers.core.Lambda object at 0x155f76ba8>, because it is not built.\n",
      "W0613 03:34:41.734233 4611028416 save_impl.py:77] Skipping full serialization of Keras layer <tensorflow.python.keras.layers.core.Lambda object at 0x155f76ba8>, because it is not built.\n",
      "WARNING:tensorflow:Skipping full serialization of Keras layer <tensorflow.python.keras.layers.convolutional.SeparableConv2D object at 0x155f76b00>, because it is not built.\n",
      "W0613 03:34:41.734369 4611028416 save_impl.py:77] Skipping full serialization of Keras layer <tensorflow.python.keras.layers.convolutional.SeparableConv2D object at 0x155f76b00>, because it is not built.\n",
      "WARNING:tensorflow:Skipping full serialization of Keras layer <object_detection.core.freezable_batch_norm.FreezableBatchNorm object at 0x155d38eb8>, because it is not built.\n",
      "W0613 03:34:41.735260 4611028416 save_impl.py:77] Skipping full serialization of Keras layer <object_detection.core.freezable_batch_norm.FreezableBatchNorm object at 0x155d38eb8>, because it is not built.\n",
      "WARNING:tensorflow:Skipping full serialization of Keras layer <tensorflow.python.keras.layers.core.Lambda object at 0x155d38470>, because it is not built.\n",
      "W0613 03:34:41.735429 4611028416 save_impl.py:77] Skipping full serialization of Keras layer <tensorflow.python.keras.layers.core.Lambda object at 0x155d38470>, because it is not built.\n",
      "WARNING:tensorflow:Skipping full serialization of Keras layer <tensorflow.python.keras.layers.convolutional.SeparableConv2D object at 0x155d38b00>, because it is not built.\n",
      "W0613 03:34:41.735548 4611028416 save_impl.py:77] Skipping full serialization of Keras layer <tensorflow.python.keras.layers.convolutional.SeparableConv2D object at 0x155d38b00>, because it is not built.\n",
      "WARNING:tensorflow:Skipping full serialization of Keras layer <object_detection.core.freezable_batch_norm.FreezableBatchNorm object at 0x155d38b38>, because it is not built.\n",
      "W0613 03:34:41.735636 4611028416 save_impl.py:77] Skipping full serialization of Keras layer <object_detection.core.freezable_batch_norm.FreezableBatchNorm object at 0x155d38b38>, because it is not built.\n",
      "WARNING:tensorflow:Skipping full serialization of Keras layer <tensorflow.python.keras.layers.core.Lambda object at 0x155f58278>, because it is not built.\n",
      "W0613 03:34:41.735751 4611028416 save_impl.py:77] Skipping full serialization of Keras layer <tensorflow.python.keras.layers.core.Lambda object at 0x155f58278>, because it is not built.\n",
      "WARNING:tensorflow:Skipping full serialization of Keras layer <tensorflow.python.keras.layers.convolutional.SeparableConv2D object at 0x155f58208>, because it is not built.\n",
      "W0613 03:34:41.735830 4611028416 save_impl.py:77] Skipping full serialization of Keras layer <tensorflow.python.keras.layers.convolutional.SeparableConv2D object at 0x155f58208>, because it is not built.\n",
      "WARNING:tensorflow:Skipping full serialization of Keras layer <object_detection.core.freezable_batch_norm.FreezableBatchNorm object at 0x155f58588>, because it is not built.\n",
      "W0613 03:34:41.736005 4611028416 save_impl.py:77] Skipping full serialization of Keras layer <object_detection.core.freezable_batch_norm.FreezableBatchNorm object at 0x155f58588>, because it is not built.\n",
      "WARNING:tensorflow:Skipping full serialization of Keras layer <tensorflow.python.keras.layers.core.Lambda object at 0x155f58a90>, because it is not built.\n",
      "W0613 03:34:41.736177 4611028416 save_impl.py:77] Skipping full serialization of Keras layer <tensorflow.python.keras.layers.core.Lambda object at 0x155f58a90>, because it is not built.\n",
      "WARNING:tensorflow:Skipping full serialization of Keras layer <object_detection.core.freezable_batch_norm.FreezableBatchNorm object at 0x1565e0390>, because it is not built.\n",
      "W0613 03:34:41.736336 4611028416 save_impl.py:77] Skipping full serialization of Keras layer <object_detection.core.freezable_batch_norm.FreezableBatchNorm object at 0x1565e0390>, because it is not built.\n",
      "WARNING:tensorflow:Skipping full serialization of Keras layer <tensorflow.python.keras.layers.core.Lambda object at 0x155f77f28>, because it is not built.\n",
      "W0613 03:34:41.736494 4611028416 save_impl.py:77] Skipping full serialization of Keras layer <tensorflow.python.keras.layers.core.Lambda object at 0x155f77f28>, because it is not built.\n",
      "WARNING:tensorflow:Skipping full serialization of Keras layer <object_detection.core.freezable_batch_norm.FreezableBatchNorm object at 0x155f77f98>, because it is not built.\n",
      "W0613 03:34:41.736671 4611028416 save_impl.py:77] Skipping full serialization of Keras layer <object_detection.core.freezable_batch_norm.FreezableBatchNorm object at 0x155f77f98>, because it is not built.\n",
      "WARNING:tensorflow:Skipping full serialization of Keras layer <tensorflow.python.keras.layers.core.Lambda object at 0x1565cf278>, because it is not built.\n",
      "W0613 03:34:41.736836 4611028416 save_impl.py:77] Skipping full serialization of Keras layer <tensorflow.python.keras.layers.core.Lambda object at 0x1565cf278>, because it is not built.\n",
      "WARNING:tensorflow:Skipping full serialization of Keras layer <object_detection.core.freezable_batch_norm.FreezableBatchNorm object at 0x1565cf2b0>, because it is not built.\n",
      "W0613 03:34:41.737003 4611028416 save_impl.py:77] Skipping full serialization of Keras layer <object_detection.core.freezable_batch_norm.FreezableBatchNorm object at 0x1565cf2b0>, because it is not built.\n",
      "WARNING:tensorflow:Skipping full serialization of Keras layer <tensorflow.python.keras.layers.core.Lambda object at 0x1565cf2e8>, because it is not built.\n",
      "W0613 03:34:41.737178 4611028416 save_impl.py:77] Skipping full serialization of Keras layer <tensorflow.python.keras.layers.core.Lambda object at 0x1565cf2e8>, because it is not built.\n",
      "WARNING:tensorflow:Skipping full serialization of Keras layer <object_detection.core.freezable_batch_norm.FreezableBatchNorm object at 0x1565cf320>, because it is not built.\n",
      "W0613 03:34:41.737292 4611028416 save_impl.py:77] Skipping full serialization of Keras layer <object_detection.core.freezable_batch_norm.FreezableBatchNorm object at 0x1565cf320>, because it is not built.\n",
      "WARNING:tensorflow:Skipping full serialization of Keras layer <tensorflow.python.keras.layers.core.Lambda object at 0x1565cfe80>, because it is not built.\n",
      "W0613 03:34:41.737426 4611028416 save_impl.py:77] Skipping full serialization of Keras layer <tensorflow.python.keras.layers.core.Lambda object at 0x1565cfe80>, because it is not built.\n",
      "WARNING:tensorflow:Skipping full serialization of Keras layer <object_detection.core.freezable_batch_norm.FreezableBatchNorm object at 0x1565d5780>, because it is not built.\n",
      "W0613 03:34:41.737565 4611028416 save_impl.py:77] Skipping full serialization of Keras layer <object_detection.core.freezable_batch_norm.FreezableBatchNorm object at 0x1565d5780>, because it is not built.\n",
      "WARNING:tensorflow:Skipping full serialization of Keras layer <tensorflow.python.keras.layers.core.Lambda object at 0x155f84198>, because it is not built.\n",
      "W0613 03:34:41.737690 4611028416 save_impl.py:77] Skipping full serialization of Keras layer <tensorflow.python.keras.layers.core.Lambda object at 0x155f84198>, because it is not built.\n",
      "WARNING:tensorflow:Skipping full serialization of Keras layer <object_detection.core.freezable_batch_norm.FreezableBatchNorm object at 0x155f84278>, because it is not built.\n",
      "W0613 03:34:41.737807 4611028416 save_impl.py:77] Skipping full serialization of Keras layer <object_detection.core.freezable_batch_norm.FreezableBatchNorm object at 0x155f84278>, because it is not built.\n",
      "WARNING:tensorflow:Skipping full serialization of Keras layer <tensorflow.python.keras.layers.core.Lambda object at 0x155f841d0>, because it is not built.\n",
      "W0613 03:34:41.737897 4611028416 save_impl.py:77] Skipping full serialization of Keras layer <tensorflow.python.keras.layers.core.Lambda object at 0x155f841d0>, because it is not built.\n",
      "WARNING:tensorflow:Skipping full serialization of Keras layer <object_detection.core.freezable_batch_norm.FreezableBatchNorm object at 0x155f84d68>, because it is not built.\n",
      "W0613 03:34:41.737987 4611028416 save_impl.py:77] Skipping full serialization of Keras layer <object_detection.core.freezable_batch_norm.FreezableBatchNorm object at 0x155f84d68>, because it is not built.\n",
      "WARNING:tensorflow:Skipping full serialization of Keras layer <tensorflow.python.keras.layers.core.Lambda object at 0x155f84a90>, because it is not built.\n",
      "W0613 03:34:41.738084 4611028416 save_impl.py:77] Skipping full serialization of Keras layer <tensorflow.python.keras.layers.core.Lambda object at 0x155f84a90>, because it is not built.\n",
      "WARNING:tensorflow:Skipping full serialization of Keras layer <object_detection.core.freezable_batch_norm.FreezableBatchNorm object at 0x155f846d8>, because it is not built.\n",
      "W0613 03:34:41.738185 4611028416 save_impl.py:77] Skipping full serialization of Keras layer <object_detection.core.freezable_batch_norm.FreezableBatchNorm object at 0x155f846d8>, because it is not built.\n",
      "WARNING:tensorflow:Skipping full serialization of Keras layer <tensorflow.python.keras.layers.core.Lambda object at 0x155fc3128>, because it is not built.\n",
      "W0613 03:34:41.738324 4611028416 save_impl.py:77] Skipping full serialization of Keras layer <tensorflow.python.keras.layers.core.Lambda object at 0x155fc3128>, because it is not built.\n",
      "WARNING:tensorflow:Skipping full serialization of Keras layer <object_detection.core.freezable_batch_norm.FreezableBatchNorm object at 0x155d66278>, because it is not built.\n",
      "W0613 03:34:41.738428 4611028416 save_impl.py:77] Skipping full serialization of Keras layer <object_detection.core.freezable_batch_norm.FreezableBatchNorm object at 0x155d66278>, because it is not built.\n",
      "WARNING:tensorflow:Skipping full serialization of Keras layer <tensorflow.python.keras.layers.core.Lambda object at 0x155d49710>, because it is not built.\n",
      "W0613 03:34:41.738512 4611028416 save_impl.py:77] Skipping full serialization of Keras layer <tensorflow.python.keras.layers.core.Lambda object at 0x155d49710>, because it is not built.\n",
      "WARNING:tensorflow:Skipping full serialization of Keras layer <object_detection.core.freezable_batch_norm.FreezableBatchNorm object at 0x155d49cf8>, because it is not built.\n",
      "W0613 03:34:41.738598 4611028416 save_impl.py:77] Skipping full serialization of Keras layer <object_detection.core.freezable_batch_norm.FreezableBatchNorm object at 0x155d49cf8>, because it is not built.\n",
      "WARNING:tensorflow:Skipping full serialization of Keras layer <tensorflow.python.keras.layers.core.Lambda object at 0x155d49e10>, because it is not built.\n",
      "W0613 03:34:41.738682 4611028416 save_impl.py:77] Skipping full serialization of Keras layer <tensorflow.python.keras.layers.core.Lambda object at 0x155d49e10>, because it is not built.\n",
      "WARNING:tensorflow:Skipping full serialization of Keras layer <object_detection.core.freezable_batch_norm.FreezableBatchNorm object at 0x155d49be0>, because it is not built.\n",
      "W0613 03:34:41.738767 4611028416 save_impl.py:77] Skipping full serialization of Keras layer <object_detection.core.freezable_batch_norm.FreezableBatchNorm object at 0x155d49be0>, because it is not built.\n",
      "WARNING:tensorflow:Skipping full serialization of Keras layer <tensorflow.python.keras.layers.core.Lambda object at 0x155d49358>, because it is not built.\n",
      "W0613 03:34:41.738848 4611028416 save_impl.py:77] Skipping full serialization of Keras layer <tensorflow.python.keras.layers.core.Lambda object at 0x155d49358>, because it is not built.\n",
      "WARNING:tensorflow:Skipping full serialization of Keras layer <object_detection.core.freezable_batch_norm.FreezableBatchNorm object at 0x155d49438>, because it is not built.\n",
      "W0613 03:34:41.738933 4611028416 save_impl.py:77] Skipping full serialization of Keras layer <object_detection.core.freezable_batch_norm.FreezableBatchNorm object at 0x155d49438>, because it is not built.\n",
      "WARNING:tensorflow:Skipping full serialization of Keras layer <tensorflow.python.keras.layers.core.Lambda object at 0x155f6b978>, because it is not built.\n",
      "W0613 03:34:41.739023 4611028416 save_impl.py:77] Skipping full serialization of Keras layer <tensorflow.python.keras.layers.core.Lambda object at 0x155f6b978>, because it is not built.\n",
      "WARNING:tensorflow:Skipping full serialization of Keras layer <object_detection.core.freezable_batch_norm.FreezableBatchNorm object at 0x155d66400>, because it is not built.\n",
      "W0613 03:34:41.739104 4611028416 save_impl.py:77] Skipping full serialization of Keras layer <object_detection.core.freezable_batch_norm.FreezableBatchNorm object at 0x155d66400>, because it is not built.\n",
      "WARNING:tensorflow:Skipping full serialization of Keras layer <tensorflow.python.keras.layers.core.Lambda object at 0x155f6e588>, because it is not built.\n",
      "W0613 03:34:41.739194 4611028416 save_impl.py:77] Skipping full serialization of Keras layer <tensorflow.python.keras.layers.core.Lambda object at 0x155f6e588>, because it is not built.\n",
      "WARNING:tensorflow:Skipping full serialization of Keras layer <object_detection.core.freezable_batch_norm.FreezableBatchNorm object at 0x155d46128>, because it is not built.\n",
      "W0613 03:34:41.739277 4611028416 save_impl.py:77] Skipping full serialization of Keras layer <object_detection.core.freezable_batch_norm.FreezableBatchNorm object at 0x155d46128>, because it is not built.\n",
      "WARNING:tensorflow:Skipping full serialization of Keras layer <tensorflow.python.keras.layers.core.Lambda object at 0x155d46f60>, because it is not built.\n",
      "W0613 03:34:41.739372 4611028416 save_impl.py:77] Skipping full serialization of Keras layer <tensorflow.python.keras.layers.core.Lambda object at 0x155d46f60>, because it is not built.\n",
      "WARNING:tensorflow:Skipping full serialization of Keras layer <object_detection.core.freezable_batch_norm.FreezableBatchNorm object at 0x155d461d0>, because it is not built.\n",
      "W0613 03:34:41.739447 4611028416 save_impl.py:77] Skipping full serialization of Keras layer <object_detection.core.freezable_batch_norm.FreezableBatchNorm object at 0x155d461d0>, because it is not built.\n",
      "WARNING:tensorflow:Skipping full serialization of Keras layer <tensorflow.python.keras.layers.core.Lambda object at 0x155d46898>, because it is not built.\n",
      "W0613 03:34:41.739541 4611028416 save_impl.py:77] Skipping full serialization of Keras layer <tensorflow.python.keras.layers.core.Lambda object at 0x155d46898>, because it is not built.\n",
      "WARNING:tensorflow:Skipping full serialization of Keras layer <object_detection.core.freezable_batch_norm.FreezableBatchNorm object at 0x155d466d8>, because it is not built.\n",
      "W0613 03:34:41.739617 4611028416 save_impl.py:77] Skipping full serialization of Keras layer <object_detection.core.freezable_batch_norm.FreezableBatchNorm object at 0x155d466d8>, because it is not built.\n",
      "WARNING:tensorflow:Skipping full serialization of Keras layer <tensorflow.python.keras.layers.core.Lambda object at 0x155d46b00>, because it is not built.\n",
      "W0613 03:34:41.739709 4611028416 save_impl.py:77] Skipping full serialization of Keras layer <tensorflow.python.keras.layers.core.Lambda object at 0x155d46b00>, because it is not built.\n"
     ]
    },
    {
     "name": "stdout",
     "output_type": "stream",
     "text": [
      "2021-06-13 03:34:52.065443: W tensorflow/python/util/util.cc:348] Sets are not currently considered sequences, but this may change in the future, so consider avoiding using them.\n",
      "W0613 03:35:11.642822 4611028416 save.py:243] Found untraced functions such as WeightSharedConvolutionalBoxPredictor_layer_call_and_return_conditional_losses, WeightSharedConvolutionalBoxPredictor_layer_call_fn, WeightSharedConvolutionalBoxHead_layer_call_and_return_conditional_losses, WeightSharedConvolutionalBoxHead_layer_call_fn, WeightSharedConvolutionalBoxPredictor_layer_call_fn while saving (showing 5 of 260). These functions will not be directly callable after loading.\n",
      "/Users/AlanZhu/Desktop/OD/TFODCourse/tfod/lib/python3.7/site-packages/tensorflow/python/keras/utils/generic_utils.py:497: CustomMaskWarning: Custom mask layers require a config and must override get_config. When loading, the custom mask layer must be passed to the custom_objects argument.\n",
      "  category=CustomMaskWarning)\n",
      "WARNING:tensorflow:FOR KERAS USERS: The object that you are saving contains one or more Keras models or layers. If you are loading the SavedModel with `tf.keras.models.load_model`, continue reading (otherwise, you may ignore the following instructions). Please change your code to save with `tf.keras.models.save_model` or `model.save`, and confirm that the file \"keras.metadata\" exists in the export directory. In the future, Keras will only load the SavedModels that have this file. In other words, `tf.saved_model.save` will no longer write SavedModels that can be recovered as Keras models (this will apply in TF 2.5).\n",
      "\n",
      "FOR DEVS: If you are overwriting _tracking_metadata in your class, this property has been used to save metadata in the SavedModel. The metadta field will be deprecated soon, so please move the metadata to a different file.\n",
      "W0613 03:35:16.421852 4611028416 save.py:1240] FOR KERAS USERS: The object that you are saving contains one or more Keras models or layers. If you are loading the SavedModel with `tf.keras.models.load_model`, continue reading (otherwise, you may ignore the following instructions). Please change your code to save with `tf.keras.models.save_model` or `model.save`, and confirm that the file \"keras.metadata\" exists in the export directory. In the future, Keras will only load the SavedModels that have this file. In other words, `tf.saved_model.save` will no longer write SavedModels that can be recovered as Keras models (this will apply in TF 2.5).\n",
      "\n",
      "FOR DEVS: If you are overwriting _tracking_metadata in your class, this property has been used to save metadata in the SavedModel. The metadta field will be deprecated soon, so please move the metadata to a different file.\n",
      "INFO:tensorflow:Assets written to: Tensorflow/workspace/models/my_ssd_mobnet_tuned/tfliteexport/saved_model/assets\n",
      "I0613 03:35:16.846188 4611028416 builder_impl.py:775] Assets written to: Tensorflow/workspace/models/my_ssd_mobnet_tuned/tfliteexport/saved_model/assets\n"
     ]
    }
   ],
   "source": [
    "!{command}"
   ]
  },
  {
   "cell_type": "code",
   "execution_count": 63,
   "metadata": {
    "id": "iJfYMbN6pfDL"
   },
   "outputs": [],
   "source": [
    "FROZEN_TFLITE_PATH = os.path.join(paths['TFLITE_PATH'], 'saved_model')\n",
    "TFLITE_MODEL = os.path.join(paths['TFLITE_PATH'], 'saved_model', 'detect.tflite')"
   ]
  },
  {
   "cell_type": "code",
   "execution_count": 64,
   "metadata": {},
   "outputs": [],
   "source": [
    "command = \"tflite_convert \\\n",
    "--saved_model_dir={} \\\n",
    "--output_file={} \\\n",
    "--input_shapes=1,300,300,3 \\\n",
    "--input_arrays=normalized_input_image_tensor \\\n",
    "--output_arrays='TFLite_Detection_PostProcess','TFLite_Detection_PostProcess:1','TFLite_Detection_PostProcess:2','TFLite_Detection_PostProcess:3' \\\n",
    "--inference_type=FLOAT \\\n",
    "--allow_custom_ops\".format(FROZEN_TFLITE_PATH, TFLITE_MODEL, )"
   ]
  },
  {
   "cell_type": "code",
   "execution_count": 65,
   "metadata": {
    "colab": {
     "base_uri": "https://localhost:8080/"
    },
    "id": "E8GwUeoFpfDL",
    "outputId": "fac43ea4-cc85-471b-a362-e994b06fd583"
   },
   "outputs": [
    {
     "name": "stdout",
     "output_type": "stream",
     "text": [
      "tflite_convert --saved_model_dir=Tensorflow/workspace/models/my_ssd_mobnet_tuned/tfliteexport/saved_model --output_file=Tensorflow/workspace/models/my_ssd_mobnet_tuned/tfliteexport/saved_model/detect.tflite --input_shapes=1,300,300,3 --input_arrays=normalized_input_image_tensor --output_arrays='TFLite_Detection_PostProcess','TFLite_Detection_PostProcess:1','TFLite_Detection_PostProcess:2','TFLite_Detection_PostProcess:3' --inference_type=FLOAT --allow_custom_ops\n"
     ]
    }
   ],
   "source": [
    "print(command)"
   ]
  },
  {
   "cell_type": "code",
   "execution_count": 66,
   "metadata": {
    "colab": {
     "base_uri": "https://localhost:8080/"
    },
    "id": "Nbd7gqHMpfDL",
    "outputId": "7c8fe6d5-2415-4641-8548-39d425c202f7"
   },
   "outputs": [
    {
     "name": "stdout",
     "output_type": "stream",
     "text": [
      "2021-06-13 03:35:23.188936: I tensorflow/core/platform/cpu_feature_guard.cc:142] This TensorFlow binary is optimized with oneAPI Deep Neural Network Library (oneDNN) to use the following CPU instructions in performance-critical operations:  AVX2 FMA\n",
      "To enable them in other operations, rebuild TensorFlow with the appropriate compiler flags.\n",
      "2021-06-13 03:35:36.106592: W tensorflow/compiler/mlir/lite/python/tf_tfl_flatbuffer_helpers.cc:345] Ignored output_format.\n",
      "2021-06-13 03:35:36.106619: W tensorflow/compiler/mlir/lite/python/tf_tfl_flatbuffer_helpers.cc:348] Ignored drop_control_dependency.\n",
      "2021-06-13 03:35:36.106626: W tensorflow/compiler/mlir/lite/python/tf_tfl_flatbuffer_helpers.cc:354] Ignored change_concat_input_ranges.\n",
      "2021-06-13 03:35:36.107694: I tensorflow/cc/saved_model/reader.cc:38] Reading SavedModel from: Tensorflow/workspace/models/my_ssd_mobnet_tuned/tfliteexport/saved_model\n",
      "2021-06-13 03:35:36.240144: I tensorflow/cc/saved_model/reader.cc:90] Reading meta graph with tags { serve }\n",
      "2021-06-13 03:35:36.240179: I tensorflow/cc/saved_model/reader.cc:132] Reading SavedModel debug info (if present) from: Tensorflow/workspace/models/my_ssd_mobnet_tuned/tfliteexport/saved_model\n",
      "2021-06-13 03:35:36.806846: I tensorflow/cc/saved_model/loader.cc:206] Restoring SavedModel bundle.\n",
      "2021-06-13 03:35:37.857157: I tensorflow/cc/saved_model/loader.cc:190] Running initialization op on SavedModel bundle at path: Tensorflow/workspace/models/my_ssd_mobnet_tuned/tfliteexport/saved_model\n",
      "2021-06-13 03:35:38.322090: I tensorflow/cc/saved_model/loader.cc:277] SavedModel load for tags { serve }; Status: success: OK. Took 2214398 microseconds.\n",
      "2021-06-13 03:35:39.654392: I tensorflow/compiler/mlir/tensorflow/utils/dump_mlir_util.cc:210] disabling MLIR crash reproducer, set env var `MLIR_CRASH_REPRODUCER_DIRECTORY` to enable.\n"
     ]
    }
   ],
   "source": [
    "!{command}"
   ]
  },
  {
   "cell_type": "markdown",
   "metadata": {
    "id": "5NQqZRdA21Uc"
   },
   "source": [
    "# 13. Zip and Export Models "
   ]
  },
  {
   "cell_type": "code",
   "execution_count": 67,
   "metadata": {
    "id": "tTVTGCQp2ZJJ"
   },
   "outputs": [],
   "source": [
    "!tar -czf models.tar.gz {paths['CHECKPOINT_PATH']}"
   ]
  },
  {
   "cell_type": "code",
   "execution_count": 68,
   "metadata": {
    "colab": {
     "base_uri": "https://localhost:8080/"
    },
    "id": "whShhB0x3PYJ",
    "outputId": "b773201d-35c9-46a8-b893-4a76bd4d5d97"
   },
   "outputs": [
    {
     "ename": "ModuleNotFoundError",
     "evalue": "No module named 'google.colab'",
     "output_type": "error",
     "traceback": [
      "\u001b[0;31m---------------------------------------------------------------------------\u001b[0m",
      "\u001b[0;31mModuleNotFoundError\u001b[0m                       Traceback (most recent call last)",
      "\u001b[0;32m<ipython-input-68-d5df0069828e>\u001b[0m in \u001b[0;36m<module>\u001b[0;34m\u001b[0m\n\u001b[0;32m----> 1\u001b[0;31m \u001b[0;32mfrom\u001b[0m \u001b[0mgoogle\u001b[0m\u001b[0;34m.\u001b[0m\u001b[0mcolab\u001b[0m \u001b[0;32mimport\u001b[0m \u001b[0mdrive\u001b[0m\u001b[0;34m\u001b[0m\u001b[0;34m\u001b[0m\u001b[0m\n\u001b[0m\u001b[1;32m      2\u001b[0m \u001b[0mdrive\u001b[0m\u001b[0;34m.\u001b[0m\u001b[0mmount\u001b[0m\u001b[0;34m(\u001b[0m\u001b[0;34m'/content/drive'\u001b[0m\u001b[0;34m)\u001b[0m\u001b[0;34m\u001b[0m\u001b[0;34m\u001b[0m\u001b[0m\n",
      "\u001b[0;31mModuleNotFoundError\u001b[0m: No module named 'google.colab'"
     ]
    }
   ],
   "source": [
    "from google.colab import drive\n",
    "drive.mount('/content/drive')"
   ]
  },
  {
   "cell_type": "code",
   "execution_count": null,
   "metadata": {},
   "outputs": [],
   "source": []
  }
 ],
 "metadata": {
  "accelerator": "GPU",
  "colab": {
   "name": "3. Training and Detection.ipynb",
   "provenance": []
  },
  "kernelspec": {
   "display_name": "tfod",
   "language": "python",
   "name": "tfod"
  },
  "language_info": {
   "codemirror_mode": {
    "name": "ipython",
    "version": 3
   },
   "file_extension": ".py",
   "mimetype": "text/x-python",
   "name": "python",
   "nbconvert_exporter": "python",
   "pygments_lexer": "ipython3",
   "version": "3.7.1"
  }
 },
 "nbformat": 4,
 "nbformat_minor": 1
}
